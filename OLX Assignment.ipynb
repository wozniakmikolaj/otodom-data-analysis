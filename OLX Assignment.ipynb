{
 "cells": [
  {
   "cell_type": "markdown",
   "metadata": {},
   "source": [
    "# OLX Data Science Assignment"
   ]
  },
  {
   "cell_type": "markdown",
   "metadata": {},
   "source": [
    "Hi!\n",
    "\n",
    "You're probably wondering what to expect and how to make sense of what's being done here. Since notebooks were the preferred way of delivering the solution, there aren't any elaborate pipelines done, but rather some methods I was reusing throughout the project or just using them to organize code. Other than that, standard exploratory analysis and code written and executed sequentially. \n",
    "\n",
    "While there's a lot of additional stuff I could do with the data, I just wasn't sure whether getting rid of outliers was ok or not (that's removing some data after all), and how much data manipulation was allowed. So I didn't remove them and didn't change their values.\n",
    "\n",
    "One more approach I always like to take with tasks like these is sacrificing some performance for the sake of analysis and exploration of different methods and techniques, as well as more model analysis, and explaining its performance. I certainly could focus all my efforts on tweaking model's hyperparameters and doing something more sophisticated, be it stacking models, blending them or adding neural network meta learners, but time I can devote for this task is somewhat limited.\n",
    "\n",
    "One more thing I didn't do here is normalizing and trimming train data to the values of test data. While often done in kaggle competitions, it's not really a good practice and I see no point in doing that."
   ]
  },
  {
   "cell_type": "markdown",
   "metadata": {},
   "source": [
    "If You'd like to run this notebook, use the following command (using anaconda) to create a new environment with all the libraries I used and You should be good to go:\n",
    "\n",
    "`conda create -n recruitment_task python=3.8.6 pandas seaborn scipy scikit-learn lightgbm shap`"
   ]
  },
  {
   "cell_type": "markdown",
   "metadata": {},
   "source": [
    "## Initial look"
   ]
  },
  {
   "cell_type": "code",
   "execution_count": 1,
   "metadata": {},
   "outputs": [],
   "source": [
    "import math\n",
    "import numpy as np\n",
    "import pandas as pd \n",
    "\n",
    "import matplotlib.pyplot as plt\n",
    "import seaborn as sns\n",
    "\n",
    "import scipy.stats as stats\n",
    "from scipy.special import boxcox1p\n",
    "\n",
    "from sklearn import preprocessing\n",
    "from sklearn.model_selection import train_test_split\n",
    "\n",
    "import sklearn.metrics as sklm\n",
    "import sklearn.linear_model as linear_model\n",
    "from sklearn.linear_model import Ridge, Lasso, ElasticNet\n",
    "\n",
    "from xgboost import XGBRegressor\n",
    "from lightgbm import LGBMRegressor\n",
    "\n",
    "from sklearn.metrics import confusion_matrix\n",
    "from sklearn.metrics import accuracy_score\n",
    "from sklearn.metrics import precision_score\n",
    "from sklearn.metrics import recall_score\n",
    "from sklearn.metrics import f1_score\n",
    "from sklearn.metrics import fbeta_score\n",
    "from sklearn.metrics import plot_roc_curve\n",
    "from sklearn.metrics import plot_precision_recall_curve\n",
    "from sklearn.metrics import plot_confusion_matrix\n",
    "\n",
    "\n",
    "import shap\n",
    "\n",
    "#options and constants\n",
    "RAND_SEED = 7\n",
    "\n",
    "pd.options.display.max_columns = 35\n",
    "pd.options.display.max_rows = 20"
   ]
  },
  {
   "cell_type": "code",
   "execution_count": 2,
   "metadata": {},
   "outputs": [],
   "source": [
    "data_path = \"otomoto_price_prediction_data.csv\"\n",
    "raw_data = pd.read_csv(data_path)"
   ]
  },
  {
   "cell_type": "markdown",
   "metadata": {},
   "source": [
    "Let's look at the dataset real quick.\n",
    "\n",
    "Typically, at this stage of the project, I'm looking for some ideas about which features I should focus on and maybe do some more research on how are they tied specifically to the problem I'm presented with. That would most often boild down to:\n",
    "- usage of external data,\n",
    "- feature selection,\n",
    "- feature engineering (both \"synthetic\" which I'll explain later and a little bit more creative one),\n",
    "- domain knowledge,\n",
    "\n",
    "and possibly more, depending on the specifities of data and how in-depth I want to get."
   ]
  },
  {
   "cell_type": "code",
   "execution_count": 3,
   "metadata": {},
   "outputs": [
    {
     "data": {
      "text/html": [
       "<div>\n",
       "<style scoped>\n",
       "    .dataframe tbody tr th:only-of-type {\n",
       "        vertical-align: middle;\n",
       "    }\n",
       "\n",
       "    .dataframe tbody tr th {\n",
       "        vertical-align: top;\n",
       "    }\n",
       "\n",
       "    .dataframe thead th {\n",
       "        text-align: right;\n",
       "    }\n",
       "</style>\n",
       "<table border=\"1\" class=\"dataframe\">\n",
       "  <thead>\n",
       "    <tr style=\"text-align: right;\">\n",
       "      <th></th>\n",
       "      <th>make</th>\n",
       "      <th>model</th>\n",
       "      <th>vehicle_year</th>\n",
       "      <th>mileage</th>\n",
       "      <th>engine_capacity</th>\n",
       "      <th>engine_power</th>\n",
       "      <th>gearbox</th>\n",
       "      <th>fuel_type</th>\n",
       "      <th>damaged</th>\n",
       "      <th>is_business</th>\n",
       "      <th>target_price</th>\n",
       "    </tr>\n",
       "  </thead>\n",
       "  <tbody>\n",
       "    <tr>\n",
       "      <th>0</th>\n",
       "      <td>audi</td>\n",
       "      <td>a6</td>\n",
       "      <td>2013</td>\n",
       "      <td>153817.0</td>\n",
       "      <td>1984.0</td>\n",
       "      <td>180.0</td>\n",
       "      <td>automatic</td>\n",
       "      <td>petrol</td>\n",
       "      <td>0</td>\n",
       "      <td>0</td>\n",
       "      <td>69900.0</td>\n",
       "    </tr>\n",
       "    <tr>\n",
       "      <th>1</th>\n",
       "      <td>skoda</td>\n",
       "      <td>fabia</td>\n",
       "      <td>2004</td>\n",
       "      <td>115000.0</td>\n",
       "      <td>1390.0</td>\n",
       "      <td>75.0</td>\n",
       "      <td>manual</td>\n",
       "      <td>petrol</td>\n",
       "      <td>0</td>\n",
       "      <td>1</td>\n",
       "      <td>8299.0</td>\n",
       "    </tr>\n",
       "    <tr>\n",
       "      <th>2</th>\n",
       "      <td>chevrolet</td>\n",
       "      <td>camaro</td>\n",
       "      <td>2012</td>\n",
       "      <td>299000.0</td>\n",
       "      <td>3600.0</td>\n",
       "      <td>323.0</td>\n",
       "      <td>automatic</td>\n",
       "      <td>petrol</td>\n",
       "      <td>0</td>\n",
       "      <td>1</td>\n",
       "      <td>54500.0</td>\n",
       "    </tr>\n",
       "    <tr>\n",
       "      <th>3</th>\n",
       "      <td>bmw</td>\n",
       "      <td>seria-3</td>\n",
       "      <td>2013</td>\n",
       "      <td>155000.0</td>\n",
       "      <td>1995.0</td>\n",
       "      <td>163.0</td>\n",
       "      <td>automatic</td>\n",
       "      <td>diesel</td>\n",
       "      <td>0</td>\n",
       "      <td>0</td>\n",
       "      <td>62000.0</td>\n",
       "    </tr>\n",
       "    <tr>\n",
       "      <th>4</th>\n",
       "      <td>renault</td>\n",
       "      <td>talisman</td>\n",
       "      <td>2017</td>\n",
       "      <td>167000.0</td>\n",
       "      <td>1600.0</td>\n",
       "      <td>130.0</td>\n",
       "      <td>automatic</td>\n",
       "      <td>diesel</td>\n",
       "      <td>0</td>\n",
       "      <td>1</td>\n",
       "      <td>52999.0</td>\n",
       "    </tr>\n",
       "  </tbody>\n",
       "</table>\n",
       "</div>"
      ],
      "text/plain": [
       "        make     model  vehicle_year   mileage  engine_capacity  engine_power  \\\n",
       "0       audi        a6          2013  153817.0           1984.0         180.0   \n",
       "1      skoda     fabia          2004  115000.0           1390.0          75.0   \n",
       "2  chevrolet    camaro          2012  299000.0           3600.0         323.0   \n",
       "3        bmw   seria-3          2013  155000.0           1995.0         163.0   \n",
       "4    renault  talisman          2017  167000.0           1600.0         130.0   \n",
       "\n",
       "     gearbox fuel_type  damaged  is_business  target_price  \n",
       "0  automatic    petrol        0            0       69900.0  \n",
       "1     manual    petrol        0            1        8299.0  \n",
       "2  automatic    petrol        0            1       54500.0  \n",
       "3  automatic    diesel        0            0       62000.0  \n",
       "4  automatic    diesel        0            1       52999.0  "
      ]
     },
     "execution_count": 3,
     "metadata": {},
     "output_type": "execute_result"
    }
   ],
   "source": [
    "raw_data.head(5)"
   ]
  },
  {
   "cell_type": "code",
   "execution_count": 4,
   "metadata": {},
   "outputs": [
    {
     "name": "stdout",
     "output_type": "stream",
     "text": [
      "The dataset consists of 206207 rows and 11 columns\n"
     ]
    }
   ],
   "source": [
    "print(f\"The dataset consists of {raw_data.shape[0]} rows and {raw_data.shape[1]} columns\")"
   ]
  },
  {
   "cell_type": "markdown",
   "metadata": {},
   "source": [
    "We know that the data was from Otomoto.pl but not when the dataset was prepared. A quick look at the site tells us, that currently there are 205794 listings (just over 400 less), so the data must be relatively \"fresh\". It's also reinforced by the fact that there are 2020 and 2021 model year vehicles in the data.  "
   ]
  },
  {
   "cell_type": "markdown",
   "metadata": {},
   "source": [
    "Since there was also a short description attached, we know what each of the features means (although they are rather self-explanatory). It's clear that we can do a lot of neat stuff with this and given a litle bit of domain knowledge on my side, we can come up with a few interesting takeaways and features.\n",
    "\n",
    "Let's take a closer look at data's properties and features.  "
   ]
  },
  {
   "cell_type": "code",
   "execution_count": 5,
   "metadata": {},
   "outputs": [
    {
     "name": "stdout",
     "output_type": "stream",
     "text": [
      "<class 'pandas.core.frame.DataFrame'>\n",
      "RangeIndex: 206207 entries, 0 to 206206\n",
      "Data columns (total 11 columns):\n",
      " #   Column           Non-Null Count   Dtype  \n",
      "---  ------           --------------   -----  \n",
      " 0   make             206207 non-null  object \n",
      " 1   model            206207 non-null  object \n",
      " 2   vehicle_year     206207 non-null  int64  \n",
      " 3   mileage          204853 non-null  float64\n",
      " 4   engine_capacity  204029 non-null  float64\n",
      " 5   engine_power     204628 non-null  float64\n",
      " 6   gearbox          204842 non-null  object \n",
      " 7   fuel_type        206207 non-null  object \n",
      " 8   damaged          206207 non-null  int64  \n",
      " 9   is_business      206207 non-null  int64  \n",
      " 10  target_price     206207 non-null  float64\n",
      "dtypes: float64(4), int64(3), object(4)\n",
      "memory usage: 17.3+ MB\n"
     ]
    }
   ],
   "source": [
    "raw_data.info()"
   ]
  },
  {
   "cell_type": "markdown",
   "metadata": {},
   "source": [
    "Fortunately, there's not a lot of missing data; some of the features can be simplified as well (e.g. engine_capacity) and some data types can be changed to improve performance."
   ]
  },
  {
   "cell_type": "code",
   "execution_count": 6,
   "metadata": {},
   "outputs": [
    {
     "data": {
      "image/png": "[encoded data removed]",
      "text/plain": [
       "<Figure size 936x432 with 5 Axes>"
      ]
     },
     "metadata": {
      "needs_background": "light"
     },
     "output_type": "display_data"
    }
   ],
   "source": [
    "quantitative = ['vehicle_year', 'mileage', 'engine_capacity', 'engine_power', 'target_price']\n",
    "\n",
    "fig, axs = plt.subplots(ncols=5, nrows=1, figsize=(13, 6))\n",
    "index = 0\n",
    "axs = axs.flatten()\n",
    "for k,v in (raw_data[quantitative].notnull()).items():\n",
    "    sns.boxplot(y=k, data=raw_data, ax=axs[index])\n",
    "    index = index + 1\n",
    "plt.tight_layout()"
   ]
  },
  {
   "cell_type": "markdown",
   "metadata": {},
   "source": [
    "Clearly there are some outliers in our data with which we'll deal later on. Now let's start the process of cleaning the data and making it ready for analysis."
   ]
  },
  {
   "cell_type": "markdown",
   "metadata": {},
   "source": [
    "## Data preprocessing"
   ]
  },
  {
   "cell_type": "markdown",
   "metadata": {},
   "source": [
    "### Dealing with missing data"
   ]
  },
  {
   "cell_type": "code",
   "execution_count": 7,
   "metadata": {},
   "outputs": [
    {
     "data": {
      "text/html": [
       "<div>\n",
       "<style scoped>\n",
       "    .dataframe tbody tr th:only-of-type {\n",
       "        vertical-align: middle;\n",
       "    }\n",
       "\n",
       "    .dataframe tbody tr th {\n",
       "        vertical-align: top;\n",
       "    }\n",
       "\n",
       "    .dataframe thead th {\n",
       "        text-align: right;\n",
       "    }\n",
       "</style>\n",
       "<table border=\"1\" class=\"dataframe\">\n",
       "  <thead>\n",
       "    <tr style=\"text-align: right;\">\n",
       "      <th></th>\n",
       "      <th>values_null</th>\n",
       "      <th>percentage_null</th>\n",
       "    </tr>\n",
       "  </thead>\n",
       "  <tbody>\n",
       "    <tr>\n",
       "      <th>make</th>\n",
       "      <td>0</td>\n",
       "      <td>0.000000</td>\n",
       "    </tr>\n",
       "    <tr>\n",
       "      <th>model</th>\n",
       "      <td>0</td>\n",
       "      <td>0.000000</td>\n",
       "    </tr>\n",
       "    <tr>\n",
       "      <th>vehicle_year</th>\n",
       "      <td>0</td>\n",
       "      <td>0.000000</td>\n",
       "    </tr>\n",
       "    <tr>\n",
       "      <th>mileage</th>\n",
       "      <td>1354</td>\n",
       "      <td>0.656622</td>\n",
       "    </tr>\n",
       "    <tr>\n",
       "      <th>engine_capacity</th>\n",
       "      <td>2178</td>\n",
       "      <td>1.056220</td>\n",
       "    </tr>\n",
       "    <tr>\n",
       "      <th>engine_power</th>\n",
       "      <td>1579</td>\n",
       "      <td>0.765735</td>\n",
       "    </tr>\n",
       "    <tr>\n",
       "      <th>gearbox</th>\n",
       "      <td>1365</td>\n",
       "      <td>0.661956</td>\n",
       "    </tr>\n",
       "    <tr>\n",
       "      <th>fuel_type</th>\n",
       "      <td>0</td>\n",
       "      <td>0.000000</td>\n",
       "    </tr>\n",
       "    <tr>\n",
       "      <th>damaged</th>\n",
       "      <td>0</td>\n",
       "      <td>0.000000</td>\n",
       "    </tr>\n",
       "    <tr>\n",
       "      <th>is_business</th>\n",
       "      <td>0</td>\n",
       "      <td>0.000000</td>\n",
       "    </tr>\n",
       "    <tr>\n",
       "      <th>target_price</th>\n",
       "      <td>0</td>\n",
       "      <td>0.000000</td>\n",
       "    </tr>\n",
       "  </tbody>\n",
       "</table>\n",
       "</div>"
      ],
      "text/plain": [
       "                 values_null  percentage_null\n",
       "make                       0         0.000000\n",
       "model                      0         0.000000\n",
       "vehicle_year               0         0.000000\n",
       "mileage                 1354         0.656622\n",
       "engine_capacity         2178         1.056220\n",
       "engine_power            1579         0.765735\n",
       "gearbox                 1365         0.661956\n",
       "fuel_type                  0         0.000000\n",
       "damaged                    0         0.000000\n",
       "is_business                0         0.000000\n",
       "target_price               0         0.000000"
      ]
     },
     "execution_count": 7,
     "metadata": {},
     "output_type": "execute_result"
    }
   ],
   "source": [
    "def check_nulls(data):\n",
    "    return pd.DataFrame({\"values_null\": data.isnull().sum(),\n",
    "                         \"percentage_null\": data.isnull().sum() / data.shape[0] * 100})\n",
    "    \n",
    "check_nulls(raw_data) "
   ]
  },
  {
   "cell_type": "markdown",
   "metadata": {},
   "source": [
    "To better understand what data is missing and whether we can come up with some imputation strategy based on other values, let's take a look at the missing values heatmap."
   ]
  },
  {
   "cell_type": "code",
   "execution_count": 8,
   "metadata": {},
   "outputs": [
    {
     "data": {
      "image/png": "[encoded data removed]",
      "text/plain": [
       "<Figure size 864x864 with 1 Axes>"
      ]
     },
     "metadata": {
      "needs_background": "light"
     },
     "output_type": "display_data"
    }
   ],
   "source": [
    "cols_with_missing_data = ['mileage', 'engine_capacity', 'engine_power', 'gearbox']\n",
    "\n",
    "plt.figure(figsize=(12,12))\n",
    "sns.heatmap(~raw_data[cols_with_missing_data].isnull(), cbar=False, yticklabels=False)\n",
    "plt.xticks(rotation=90, size='x-large')\n",
    "plt.show()"
   ]
  },
  {
   "cell_type": "markdown",
   "metadata": {},
   "source": [
    "Looking at the heatmap, there are a couple of takeaways:\n",
    "- missing `mileage` doesn't appear to be related to any other missing data, which can be easily imputed or explained when we look at `vehicle_year` values for these records, as new vehicles could be imputed with 0s,\n",
    "- there are some instances where `engine_capacity`, `engine_power` and `gearbox` values are all missing concurrently, which could be hard to impute without introducing additional bias to the data (there are many different equipment options and packages even within the same model range).\n",
    "- the rest of missing `engine_capacity`, `engine_power` and `gearbox` values can be easily imputed if any of the other aren't missing at the same time. In conjunction with `make`, `model` and `vehicle_year`, we can take an educated guess, since there aren't that many power & capacity combinations within the same manufacturer.\n",
    "- to follow up the above point, there's no fear of excessive bias in case of modified cars, since these modifications rarely make the price go that much higher. Furthermore, we'll start with `engine_capacity`, `gearbox` and then `engine_power`, since it's much more expensive and complicated to modify the two former, which means there'll be less deviations and potential bias in our imputation."
   ]
  },
  {
   "cell_type": "markdown",
   "metadata": {},
   "source": [
    "#### Mileage\n",
    "\n",
    "Let's look at missing mileage first and see if our assumptions were correct."
   ]
  },
  {
   "cell_type": "code",
   "execution_count": 9,
   "metadata": {},
   "outputs": [
    {
     "data": {
      "text/plain": [
       "2020    0.932053\n",
       "2021    0.045790\n",
       "2019    0.022157\n",
       "Name: vehicle_year, dtype: float64"
      ]
     },
     "execution_count": 9,
     "metadata": {},
     "output_type": "execute_result"
    }
   ],
   "source": [
    "raw_data[raw_data['mileage'].isnull()]['vehicle_year'].value_counts(normalize=True)"
   ]
  },
  {
   "cell_type": "markdown",
   "metadata": {},
   "source": [
    "Looks like we were right! All of the cars with missing mileage are pretty much new and it's not uncommon to see a one or two year old car still sitting brand new in the car lot. Let's also check if the seller is in fact business - that would give us a high confidence in our hypothesis."
   ]
  },
  {
   "cell_type": "code",
   "execution_count": 10,
   "metadata": {},
   "outputs": [
    {
     "data": {
      "text/plain": [
       "1    1354\n",
       "Name: is_business, dtype: int64"
      ]
     },
     "execution_count": 10,
     "metadata": {},
     "output_type": "execute_result"
    }
   ],
   "source": [
    "raw_data[raw_data['mileage'].isnull()]['is_business'].value_counts(normalize=False)"
   ]
  },
  {
   "cell_type": "markdown",
   "metadata": {},
   "source": [
    "Looks like once again, we took a good guess. Let's fill in these values with 0s, since even if they aren't exacly 0, anything up to say 50km would be considered delivery mileage by the dealer anyways."
   ]
  },
  {
   "cell_type": "code",
   "execution_count": 11,
   "metadata": {},
   "outputs": [],
   "source": [
    "raw_data['mileage'] = raw_data['mileage'].mask((raw_data['mileage'].isnull()), 0)"
   ]
  },
  {
   "cell_type": "markdown",
   "metadata": {},
   "source": [
    "#### Concurrently missing data\n",
    "\n",
    "Let's see what the data looks like, if there are missing values in all of the considered columns. "
   ]
  },
  {
   "cell_type": "code",
   "execution_count": 12,
   "metadata": {},
   "outputs": [
    {
     "name": "stdout",
     "output_type": "stream",
     "text": [
      "There are 2965 records with some null values left (including potential unions).\n"
     ]
    }
   ],
   "source": [
    "all_null_mask = (raw_data['engine_capacity'].isnull()) & (raw_data['engine_power'].isnull()) & (raw_data['gearbox'].isnull())\n",
    "any_null_mask = (raw_data['engine_capacity'].isnull()) | (raw_data['engine_power'].isnull()) | (raw_data['gearbox'].isnull())\n",
    "\n",
    "print(f\"There are {raw_data[any_null_mask].shape[0]} records with some null values left (including potential unions).\")"
   ]
  },
  {
   "cell_type": "code",
   "execution_count": 13,
   "metadata": {},
   "outputs": [
    {
     "data": {
      "text/html": [
       "<div>\n",
       "<style scoped>\n",
       "    .dataframe tbody tr th:only-of-type {\n",
       "        vertical-align: middle;\n",
       "    }\n",
       "\n",
       "    .dataframe tbody tr th {\n",
       "        vertical-align: top;\n",
       "    }\n",
       "\n",
       "    .dataframe thead th {\n",
       "        text-align: right;\n",
       "    }\n",
       "</style>\n",
       "<table border=\"1\" class=\"dataframe\">\n",
       "  <thead>\n",
       "    <tr style=\"text-align: right;\">\n",
       "      <th></th>\n",
       "      <th>make</th>\n",
       "      <th>model</th>\n",
       "      <th>vehicle_year</th>\n",
       "      <th>mileage</th>\n",
       "      <th>engine_capacity</th>\n",
       "      <th>engine_power</th>\n",
       "      <th>gearbox</th>\n",
       "      <th>fuel_type</th>\n",
       "      <th>damaged</th>\n",
       "      <th>is_business</th>\n",
       "      <th>target_price</th>\n",
       "    </tr>\n",
       "  </thead>\n",
       "  <tbody>\n",
       "    <tr>\n",
       "      <th>243</th>\n",
       "      <td>audi</td>\n",
       "      <td>a5</td>\n",
       "      <td>2008</td>\n",
       "      <td>217000.0</td>\n",
       "      <td>NaN</td>\n",
       "      <td>NaN</td>\n",
       "      <td>NaN</td>\n",
       "      <td>diesel</td>\n",
       "      <td>0</td>\n",
       "      <td>0</td>\n",
       "      <td>35999.0</td>\n",
       "    </tr>\n",
       "    <tr>\n",
       "      <th>353</th>\n",
       "      <td>mini</td>\n",
       "      <td>clubman</td>\n",
       "      <td>2018</td>\n",
       "      <td>25500.0</td>\n",
       "      <td>NaN</td>\n",
       "      <td>NaN</td>\n",
       "      <td>NaN</td>\n",
       "      <td>petrol</td>\n",
       "      <td>0</td>\n",
       "      <td>0</td>\n",
       "      <td>84900.0</td>\n",
       "    </tr>\n",
       "    <tr>\n",
       "      <th>363</th>\n",
       "      <td>seat</td>\n",
       "      <td>leon</td>\n",
       "      <td>2008</td>\n",
       "      <td>128933.0</td>\n",
       "      <td>1600.0</td>\n",
       "      <td>102.0</td>\n",
       "      <td>NaN</td>\n",
       "      <td>petrol</td>\n",
       "      <td>0</td>\n",
       "      <td>0</td>\n",
       "      <td>17200.0</td>\n",
       "    </tr>\n",
       "    <tr>\n",
       "      <th>413</th>\n",
       "      <td>opel</td>\n",
       "      <td>zafira</td>\n",
       "      <td>2009</td>\n",
       "      <td>189000.0</td>\n",
       "      <td>1800.0</td>\n",
       "      <td>140.0</td>\n",
       "      <td>NaN</td>\n",
       "      <td>petrol</td>\n",
       "      <td>0</td>\n",
       "      <td>1</td>\n",
       "      <td>18500.0</td>\n",
       "    </tr>\n",
       "    <tr>\n",
       "      <th>473</th>\n",
       "      <td>mazda</td>\n",
       "      <td>6</td>\n",
       "      <td>2014</td>\n",
       "      <td>62000.0</td>\n",
       "      <td>NaN</td>\n",
       "      <td>NaN</td>\n",
       "      <td>NaN</td>\n",
       "      <td>petrol</td>\n",
       "      <td>0</td>\n",
       "      <td>0</td>\n",
       "      <td>45500.0</td>\n",
       "    </tr>\n",
       "  </tbody>\n",
       "</table>\n",
       "</div>"
      ],
      "text/plain": [
       "      make    model  vehicle_year   mileage  engine_capacity  engine_power  \\\n",
       "243   audi       a5          2008  217000.0              NaN           NaN   \n",
       "353   mini  clubman          2018   25500.0              NaN           NaN   \n",
       "363   seat     leon          2008  128933.0           1600.0         102.0   \n",
       "413   opel   zafira          2009  189000.0           1800.0         140.0   \n",
       "473  mazda        6          2014   62000.0              NaN           NaN   \n",
       "\n",
       "    gearbox fuel_type  damaged  is_business  target_price  \n",
       "243     NaN    diesel        0            0       35999.0  \n",
       "353     NaN    petrol        0            0       84900.0  \n",
       "363     NaN    petrol        0            0       17200.0  \n",
       "413     NaN    petrol        0            1       18500.0  \n",
       "473     NaN    petrol        0            0       45500.0  "
      ]
     },
     "execution_count": 13,
     "metadata": {},
     "output_type": "execute_result"
    }
   ],
   "source": [
    "raw_data[any_null_mask].head(5)"
   ]
  },
  {
   "cell_type": "markdown",
   "metadata": {},
   "source": [
    "First, to make our work a little faster and easier, let's manually mask electric cars with null `engine_capacity` as 0s. We don't have any better solution since it's not possible to estimate it off of some other feature. Additionally, some of the electric cars have wrongly labeled engine capacities, we'll kill two birds with one stone and set all of the electric cars `engine_capacity` to 0."
   ]
  },
  {
   "cell_type": "code",
   "execution_count": 14,
   "metadata": {},
   "outputs": [],
   "source": [
    "raw_data['engine_capacity'] = raw_data['engine_capacity'].mask((raw_data['fuel_type'] == 'electric'), 0)"
   ]
  },
  {
   "cell_type": "markdown",
   "metadata": {},
   "source": [
    "Now, for each of the records, we'll find what the most common values are for `engine_capacity`, `engine_power` and `gearbox` for the same `make`, `model`, `fuel_type` and `vehicle_year` within +- 1 year. While not the perfect solution, it's definitely better than just imputing the most common value from all of the data. \n",
    "\n",
    "We'll also save the indexes of the data we were imputing, to check if we imputed something that wouldn't make sense. \n",
    "\n",
    "For example, let's take a look at the first car in the output above - Audi A5 from 2008 with a diesel engine and see what's the most frequent engine capacity:"
   ]
  },
  {
   "cell_type": "code",
   "execution_count": 15,
   "metadata": {},
   "outputs": [
    {
     "data": {
      "text/plain": [
       "2698.0"
      ]
     },
     "execution_count": 15,
     "metadata": {},
     "output_type": "execute_result"
    }
   ],
   "source": [
    "correctness_check_index = raw_data[any_null_mask].index\n",
    "\n",
    "search_mask = ((raw_data['make'] == 'audi') & \n",
    "               (raw_data['model'] == 'a5') & \n",
    "               (raw_data['vehicle_year'] == 2008) & \n",
    "               (raw_data['fuel_type'] == 'diesel'))\n",
    "result_value = raw_data[search_mask]['engine_capacity'].value_counts(dropna=True).index[0]\n",
    "result_value"
   ]
  },
  {
   "cell_type": "markdown",
   "metadata": {},
   "source": [
    "Generally speaking, iterating over dataframe's rows is a really bad idea (the performance hit), but what we're trying to do here is a an example of a perfectly fine reason to want to iterate over a dataframe: we want to execute some code using the values of each row as input (which would be necessary for a search mask unique to every single row with null values. \n",
    "\n",
    "In this case, we'll use indexes (to speed things up a bit) and try to limit the number of data needed as soon in the process as possible."
   ]
  },
  {
   "cell_type": "code",
   "execution_count": 16,
   "metadata": {},
   "outputs": [],
   "source": [
    "def impute_by_most_freq(dataset, colname, data_to_impute_index, error_impute_value):\n",
    "#     data_to_impute_index = dataset[dataset[colname].isnull()].index\n",
    "    \n",
    "    for index in data_to_impute_index:\n",
    "        col_index = dataset.columns.get_loc(colname)\n",
    "        current_search_mask = ((dataset['make'] == dataset['make'][index]) & \n",
    "                               (dataset['model'] == dataset['model'][index]) & \n",
    "                               (dataset['vehicle_year'] <= (dataset['vehicle_year'][index] + 1)) & \n",
    "                               (dataset['vehicle_year'] >= (dataset['vehicle_year'][index] - 1)) &\n",
    "                               (dataset['fuel_type'] == dataset['fuel_type'][index]))\n",
    "        \n",
    "        current_result_val = dataset[current_search_mask][colname].value_counts(dropna=True)\n",
    "        try:\n",
    "            most_freq_val = current_result_val.index[0]\n",
    "        except IndexError:\n",
    "            most_freq_val = error_impute_value\n",
    "        \n",
    "        dataset.iat[index, col_index] = most_freq_val   "
   ]
  },
  {
   "cell_type": "code",
   "execution_count": 17,
   "metadata": {},
   "outputs": [],
   "source": [
    "# def impute_by_most_freq(dataset, colname, data_to_impute_index, error_impute_value):\n",
    "# #     data_to_impute_index = dataset[dataset[colname].isnull()].index\n",
    "    \n",
    "#     for index in data_to_impute_index:\n",
    "#         col_index = dataset.columns.get_loc(colname)\n",
    "#         current_search_mask = ((dataset['make'] == dataset['make'][index]) & \n",
    "#                                (dataset['model'] == dataset['model'][index]) & \n",
    "#                                (dataset['vehicle_year'] == dataset['vehicle_year'][index]) & \n",
    "#                                (dataset['fuel_type'] == dataset['fuel_type'][index]))\n",
    "        \n",
    "#         current_result_val = dataset[current_search_mask][colname].value_counts(dropna=True)\n",
    "#         try:\n",
    "#             most_freq_val = current_result_val.index[0]\n",
    "#         except IndexError:\n",
    "#             most_freq_val = error_impute_value\n",
    "        \n",
    "#         dataset.iat[index, col_index] = most_freq_val   "
   ]
  },
  {
   "cell_type": "code",
   "execution_count": 18,
   "metadata": {},
   "outputs": [],
   "source": [
    "impute_by_most_freq(raw_data, 'engine_capacity', raw_data[raw_data['engine_capacity'].isnull()].index, 0)\n",
    "impute_by_most_freq(raw_data, 'engine_power', raw_data[raw_data['engine_power'].isnull()].index, 0)\n",
    "impute_by_most_freq(raw_data, 'gearbox', raw_data[raw_data['gearbox'].isnull()].index, 'not_found')"
   ]
  },
  {
   "cell_type": "markdown",
   "metadata": {},
   "source": [
    "Now that all the null values are dealt with, let's move on to the data preprocessing. "
   ]
  },
  {
   "cell_type": "markdown",
   "metadata": {},
   "source": [
    "## Preprocessing and feature transformation"
   ]
  },
  {
   "cell_type": "markdown",
   "metadata": {},
   "source": [
    "Now that missing values are dealt with, we need to make the remaining data as simple as possible, without adding bias or removing variance. First, to pick up right where we left off, let's try to simplify `gearbox` values."
   ]
  },
  {
   "cell_type": "code",
   "execution_count": 19,
   "metadata": {},
   "outputs": [
    {
     "data": {
      "text/html": [
       "<div>\n",
       "<style scoped>\n",
       "    .dataframe tbody tr th:only-of-type {\n",
       "        vertical-align: middle;\n",
       "    }\n",
       "\n",
       "    .dataframe tbody tr th {\n",
       "        vertical-align: top;\n",
       "    }\n",
       "\n",
       "    .dataframe thead th {\n",
       "        text-align: right;\n",
       "    }\n",
       "</style>\n",
       "<table border=\"1\" class=\"dataframe\">\n",
       "  <thead>\n",
       "    <tr style=\"text-align: right;\">\n",
       "      <th></th>\n",
       "      <th>make</th>\n",
       "      <th>model</th>\n",
       "      <th>vehicle_year</th>\n",
       "      <th>mileage</th>\n",
       "      <th>engine_capacity</th>\n",
       "      <th>engine_power</th>\n",
       "      <th>gearbox</th>\n",
       "      <th>fuel_type</th>\n",
       "      <th>damaged</th>\n",
       "      <th>is_business</th>\n",
       "      <th>target_price</th>\n",
       "    </tr>\n",
       "  </thead>\n",
       "  <tbody>\n",
       "    <tr>\n",
       "      <th>0</th>\n",
       "      <td>audi</td>\n",
       "      <td>a6</td>\n",
       "      <td>2013</td>\n",
       "      <td>153817.0</td>\n",
       "      <td>1984.0</td>\n",
       "      <td>180.0</td>\n",
       "      <td>automatic</td>\n",
       "      <td>petrol</td>\n",
       "      <td>0</td>\n",
       "      <td>0</td>\n",
       "      <td>69900.0</td>\n",
       "    </tr>\n",
       "    <tr>\n",
       "      <th>1</th>\n",
       "      <td>skoda</td>\n",
       "      <td>fabia</td>\n",
       "      <td>2004</td>\n",
       "      <td>115000.0</td>\n",
       "      <td>1390.0</td>\n",
       "      <td>75.0</td>\n",
       "      <td>manual</td>\n",
       "      <td>petrol</td>\n",
       "      <td>0</td>\n",
       "      <td>1</td>\n",
       "      <td>8299.0</td>\n",
       "    </tr>\n",
       "    <tr>\n",
       "      <th>2</th>\n",
       "      <td>chevrolet</td>\n",
       "      <td>camaro</td>\n",
       "      <td>2012</td>\n",
       "      <td>299000.0</td>\n",
       "      <td>3600.0</td>\n",
       "      <td>323.0</td>\n",
       "      <td>automatic</td>\n",
       "      <td>petrol</td>\n",
       "      <td>0</td>\n",
       "      <td>1</td>\n",
       "      <td>54500.0</td>\n",
       "    </tr>\n",
       "  </tbody>\n",
       "</table>\n",
       "</div>"
      ],
      "text/plain": [
       "        make   model  vehicle_year   mileage  engine_capacity  engine_power  \\\n",
       "0       audi      a6          2013  153817.0           1984.0         180.0   \n",
       "1      skoda   fabia          2004  115000.0           1390.0          75.0   \n",
       "2  chevrolet  camaro          2012  299000.0           3600.0         323.0   \n",
       "\n",
       "     gearbox fuel_type  damaged  is_business  target_price  \n",
       "0  automatic    petrol        0            0       69900.0  \n",
       "1     manual    petrol        0            1        8299.0  \n",
       "2  automatic    petrol        0            1       54500.0  "
      ]
     },
     "execution_count": 19,
     "metadata": {},
     "output_type": "execute_result"
    }
   ],
   "source": [
    "raw_data.head(3)"
   ]
  },
  {
   "cell_type": "code",
   "execution_count": 20,
   "metadata": {},
   "outputs": [
    {
     "data": {
      "text/plain": [
       "manual                           65.236389\n",
       "automatic                        32.693846\n",
       "dual-clutch                       1.131387\n",
       "cvt                               0.846722\n",
       "semi-automatic                    0.040251\n",
       "not_found                         0.025217\n",
       "automatic-stepless                0.015033\n",
       "automatic-sequential              0.004365\n",
       "automated-manual                  0.003395\n",
       "automatic-stepless-sequential     0.002910\n",
       "manual-sequential                 0.000485\n",
       "Name: gearbox, dtype: float64"
      ]
     },
     "execution_count": 20,
     "metadata": {},
     "output_type": "execute_result"
    }
   ],
   "source": [
    "raw_data['gearbox'].value_counts(normalize=True)*100"
   ]
  },
  {
   "cell_type": "markdown",
   "metadata": {},
   "source": [
    "It's evident that values less frequent than CVT transmissions are basically early versions of automatic, so we can simplify those and not loose too much signal in our data."
   ]
  },
  {
   "cell_type": "code",
   "execution_count": 21,
   "metadata": {},
   "outputs": [],
   "source": [
    "automatic_like = ['semi-automatic', 'automatic-stepless', 'automatic-sequential', 'not_found', \n",
    "                  'automated-manual', 'automatic-stepless-sequential', 'manual-sequential']\n",
    "\n",
    "gearbox_index = raw_data[raw_data['gearbox'].isin(automatic_like)].index\n",
    "\n",
    "for index in gearbox_index:\n",
    "    raw_data.iat[index, 6] = 'automatic'"
   ]
  },
  {
   "cell_type": "markdown",
   "metadata": {},
   "source": [
    "The only other feature we can simplify is fuel_type. Let's take a look."
   ]
  },
  {
   "cell_type": "code",
   "execution_count": 22,
   "metadata": {},
   "outputs": [
    {
     "data": {
      "text/plain": [
       "petrol        50.300426\n",
       "diesel        42.515046\n",
       "petrol-lpg     4.197239\n",
       "hybrid         2.476153\n",
       "electric       0.482040\n",
       "petrol-cng     0.028612\n",
       "etanol         0.000485\n",
       "Name: fuel_type, dtype: float64"
      ]
     },
     "execution_count": 22,
     "metadata": {},
     "output_type": "execute_result"
    }
   ],
   "source": [
    "raw_data['fuel_type'].value_counts(normalize=True)*100"
   ]
  },
  {
   "cell_type": "markdown",
   "metadata": {},
   "source": [
    "We'll delete etanol-based car at the very end since all of the values in that record are outliers anyways and leave the rest intact, since they can have some impact on target price (cng-based cars are different from the factory)"
   ]
  },
  {
   "cell_type": "markdown",
   "metadata": {},
   "source": [
    "## Checking out target variable"
   ]
  },
  {
   "cell_type": "markdown",
   "metadata": {},
   "source": [
    "An important part of the regression task is to check the target variable's distribution. If it doesn't follow normal, we can transform it accordingly. It's done mainly because some algorithms which we may end up using, expect the values to follow a normal distribution, while others don't care and most likely won't worsen the performance anyways."
   ]
  },
  {
   "cell_type": "code",
   "execution_count": 23,
   "metadata": {},
   "outputs": [],
   "source": [
    "def draw_hist_qq(data, target, do_log_transform=False):\n",
    "    if do_log_transform:\n",
    "        target = np.log1p(data[target])\n",
    "    else:\n",
    "        target = data[target]\n",
    "\n",
    "    sns.distplot(target, fit=stats.norm)\n",
    "    (mu, sigma) = stats.norm.fit(target)\n",
    "    plt.legend(['Normal dist. ($\\mu=$ {:.2f} and $\\sigma=$ {:.2f} )'.format(mu, sigma)], loc='best')\n",
    "    plt.ylabel('Frequency')\n",
    "    plt.title('Feature distribution')\n",
    "\n",
    "    fig = plt.figure()\n",
    "    res = stats.probplot(target, plot=plt)\n",
    "    plt.show()\n",
    "\n",
    "    print( '\\n mu = {:.2f} and sigma = {:.2f}\\n'.format(mu, sigma))"
   ]
  },
  {
   "cell_type": "code",
   "execution_count": null,
   "metadata": {},
   "outputs": [
    {
     "name": "stderr",
     "output_type": "stream",
     "text": [
      "`distplot` is a deprecated function and will be removed in a future version. Please adapt your code to use either `displot` (a figure-level function with similar flexibility) or `histplot` (an axes-level function for histograms).\n"
     ]
    }
   ],
   "source": [
    "draw_hist_qq(raw_data, 'target_price', do_log_transform=False)"
   ]
  },
  {
   "cell_type": "markdown",
   "metadata": {},
   "source": [
    "As You can see, without any modifications, the distribution isn't even close to being normal. There appear to be some outliers on the top end as well. Let's see if a log transformation makes a difference."
   ]
  },
  {
   "cell_type": "code",
   "execution_count": null,
   "metadata": {},
   "outputs": [],
   "source": [
    "draw_hist_qq(raw_data, 'target_price', do_log_transform=True)"
   ]
  },
  {
   "cell_type": "markdown",
   "metadata": {},
   "source": [
    "It indeed does! Looks like the outliers aren't even as extreme as we thought in the first place. QQ plot tells us, that we're now dealing with almost perfect normally distributed data.\n",
    "\n",
    "Normally, I would either use interquartile ranges to delete outliers, or if the data is normally distributed I would use a 3-sigma rule, however it looks as if it's not neccessary in this case."
   ]
  },
  {
   "cell_type": "markdown",
   "metadata": {},
   "source": [
    "While we're at it, let's check the correlation with our target variable, before we make any changes to the data or perform feature engineering (we'll revisit this later). Throughout the notebook, we'll most likely use Spearman correlation, as it has a chance of picking up non-linear relationships in data (unlike Pearson)."
   ]
  },
  {
   "cell_type": "code",
   "execution_count": null,
   "metadata": {},
   "outputs": [],
   "source": [
    "target_corr = raw_data.corr('spearman')\n",
    "f,ax = plt.subplots(figsize=(17,1))\n",
    "sns.heatmap(target_corr.sort_values(by=['target_price'], ascending=False).head(1), \n",
    "            cmap='RdYlGn', center=0, annot=True)\n",
    "plt.title(\"Correlation with target group\", fontsize=18)\n",
    "\n",
    "plt.show()"
   ]
  },
  {
   "cell_type": "markdown",
   "metadata": {},
   "source": [
    "Looks like we have some decent correlation with `target_price` and pretty much all the features are somewhat important, except for `damaged` - I suspect due to the fact that not many cars are damaged (relatively speaking). "
   ]
  },
  {
   "cell_type": "code",
   "execution_count": null,
   "metadata": {},
   "outputs": [],
   "source": [
    "damaged_cars_pct = (raw_data[raw_data['damaged'] == 1].shape[0] / raw_data.shape[0]) * 100\n",
    "print(f\"Percent of cars listed as damaged: {round(damaged_cars_pct, 3)}\")"
   ]
  },
  {
   "cell_type": "markdown",
   "metadata": {},
   "source": [
    "## Quantitative features - outliers"
   ]
  },
  {
   "cell_type": "markdown",
   "metadata": {},
   "source": [
    "Now, since there are some feautres that look like outliers, we'll have to decide what to do with these. In general, I wouldn't want to correct outliers in target variable, since we would be prone to introducing too much bias into our predictions. \n",
    "\n",
    "Let's write a little piece of code to see how much data we would loose if we were to delete outliers using interquartile ranges without any in-depth analysis. "
   ]
  },
  {
   "cell_type": "code",
   "execution_count": null,
   "metadata": {},
   "outputs": [],
   "source": [
    "def remove_outliers(data, column, degree):\n",
    "    quartile_1 = np.percentile(data[column], 25)\n",
    "    quartile_3 = np.percentile(data[column], 75)\n",
    "    interquartile_range = quartile_3 - quartile_1\n",
    "    cut_off = interquartile_range * degree\n",
    "    lower_bound, upper_bound = quartile_1 - cut_off, quartile_3 + cut_off\n",
    "    dataset_size = data.shape[0]\n",
    "    outliers = [x for x in data[column] if x < lower_bound or x > upper_bound]\n",
    "    data = data.drop(data[(data[column] > upper_bound) | (data[column] < lower_bound)].index)\n",
    "\n",
    "    print(f'{column.title()} outliers in total: {len(outliers)}, data loss: {(len(outliers)/dataset_size)*100}%')\n",
    "    return data"
   ]
  },
  {
   "cell_type": "code",
   "execution_count": null,
   "metadata": {},
   "outputs": [],
   "source": [
    "no_outliers_df = remove_outliers(raw_data, 'target_price', 3.5)\n",
    "print(f\"The dataset would consist of {no_outliers_df.shape[0]}\")"
   ]
  },
  {
   "cell_type": "code",
   "execution_count": null,
   "metadata": {},
   "outputs": [],
   "source": [
    "no_outliers_df = remove_outliers(raw_data, 'engine_capacity', 3.5)\n",
    "print(f\"The dataset would consist of {no_outliers_df.shape[0]}\")"
   ]
  },
  {
   "cell_type": "code",
   "execution_count": null,
   "metadata": {},
   "outputs": [],
   "source": [
    "no_outliers_df = remove_outliers(raw_data, 'engine_power', 3.5)\n",
    "print(f\"The dataset would consist of {no_outliers_df.shape[0]}\")"
   ]
  },
  {
   "cell_type": "code",
   "execution_count": null,
   "metadata": {},
   "outputs": [],
   "source": [
    "no_outliers_df = remove_outliers(raw_data, 'mileage', 3.5)\n",
    "print(f\"The dataset would consist of {no_outliers_df.shape[0]}\")"
   ]
  },
  {
   "cell_type": "code",
   "execution_count": null,
   "metadata": {},
   "outputs": [],
   "source": [
    "no_outliers_df = remove_outliers(raw_data, 'vehicle_year', 3.5)\n",
    "print(f\"The dataset would consist of {no_outliers_df.shape[0]}\")"
   ]
  },
  {
   "cell_type": "code",
   "execution_count": null,
   "metadata": {},
   "outputs": [],
   "source": [
    "# raw_data[raw_data['engine_power'] > 500].sort_values(by=['engine_capacity'], ascending=False).head(30)aa"
   ]
  },
  {
   "cell_type": "code",
   "execution_count": null,
   "metadata": {},
   "outputs": [],
   "source": [
    "# raw_data[raw_data['engine_power'] > 500]['engine_capacity'].value_counts(dropna=False)"
   ]
  },
  {
   "cell_type": "markdown",
   "metadata": {},
   "source": [
    "If we were to blindly apply the outlier removal method, we would potentially use a substantial amount of data. Instead, I've come up with a better solution:\n",
    "- **engine_capacity**: there aren't any outliers here, at least as far as I can tell\n",
    "- **engine_power**: sports cars with lots of power must have larger engines. Anything with more than 500 HP but engine smaller than 2800 (excluding electric cars of course) will be considered an outlier and corrected to the most common value for that specific model\n",
    "- **mileage**:  we can easily correct the outliers by having the average miles for the same exact car, that way we won't underestimate mileage for trucks and overestimate for passenger cars. While a quick look at otomoto makes me think some of these had 0s added as an accident (e.g. 1.7M KM instead of 170K KM), this method is relatively good and should produce acceptable results. Anything with over 500K KM will be imputed.\n",
    "- **vehicle_year**: in this case, there wasn't any badly labeled data, as some of these cars are classics comanding high prices, with a fraction having virtually no mileage, meaning they were restored. Rather than deleting them or altering data, let's introduce a new feature for classic cars.\n",
    "\n",
    "Luckily, we already have a function that does all the work for us."
   ]
  },
  {
   "cell_type": "code",
   "execution_count": null,
   "metadata": {},
   "outputs": [],
   "source": [
    "eng_pow_index = raw_data[(raw_data['engine_power'] > 500) & \n",
    "                         (raw_data['engine_capacity'] < 2800) & \n",
    "                         (raw_data['fuel_type'] != 'electric')].index\n",
    "mileage_index = raw_data[raw_data['mileage'] > 500000].index\n",
    "\n",
    "# impute_by_most_freq\n",
    "impute_by_most_freq(raw_data, 'engine_power', eng_pow_index, 0)\n",
    "impute_by_most_freq(raw_data, 'mileage', mileage_index, 0)"
   ]
  },
  {
   "cell_type": "code",
   "execution_count": null,
   "metadata": {},
   "outputs": [],
   "source": [
    "raw_data[(raw_data['engine_power'] > 500) & \n",
    "         (raw_data['engine_capacity'] < 2800) & \n",
    "         (raw_data['fuel_type'] != 'electric')]"
   ]
  },
  {
   "cell_type": "markdown",
   "metadata": {},
   "source": [
    "Looks like for the most part, our techinque worked once again. in the case of engine capacity and power, we have 4 rows left, 3 of which we can impute manually off of data from the internet and 1 of which is a modified car and needs no correction."
   ]
  },
  {
   "cell_type": "code",
   "execution_count": null,
   "metadata": {},
   "outputs": [],
   "source": [
    "raw_data.iat[81548, 4] = 3799.0\n",
    "raw_data.iat[190872, 4] = 3799.0\n",
    "raw_data.iat[150926, 5] = 130.0"
   ]
  },
  {
   "cell_type": "markdown",
   "metadata": {},
   "source": [
    "Now the mileage"
   ]
  },
  {
   "cell_type": "code",
   "execution_count": null,
   "metadata": {},
   "outputs": [],
   "source": [
    "raw_data[raw_data['mileage'] > 500000]"
   ]
  },
  {
   "cell_type": "markdown",
   "metadata": {},
   "source": [
    "When it comes to mileage, we caught most of the outliers; we'll modify manually the values for restored cars that clearly have placeholders and leave the rest be, since they probably won't make much impact anyways."
   ]
  },
  {
   "cell_type": "code",
   "execution_count": null,
   "metadata": {},
   "outputs": [],
   "source": [
    "restored_index = [27653, 49387, 85589, 104644, 133200, 139024, 144247, 162738, 185579, 196194, 202310]\n",
    "\n",
    "for index in restored_index:\n",
    "    raw_data.iat[index, 3] = 0.0"
   ]
  },
  {
   "cell_type": "code",
   "execution_count": null,
   "metadata": {},
   "outputs": [],
   "source": [
    "#revisit this and delete the biggest outliers above 500k"
   ]
  },
  {
   "cell_type": "markdown",
   "metadata": {},
   "source": [
    "Time to move on to feature engineering."
   ]
  },
  {
   "cell_type": "markdown",
   "metadata": {},
   "source": [
    "## Feature engineering"
   ]
  },
  {
   "cell_type": "markdown",
   "metadata": {},
   "source": [
    "Now, since we know a little bit about our data already, we can group them into some new features. Unfortunately, we don't have much data regarding the cars' body type (which is a huge factor nowadays, as people like to but SUVs and Crossovers; Cabriolets always come at a premium), the brand's country of origin (which is once again, a little important due to buyers' subconscious opinions and stereotypes) and its' features. Creative feature engineering is  my favourite part of and end to end machine learning project but unfortunately, there's only so much we can do with 10 starting features. I won't be using any external data either. \n",
    "\n",
    "Additionally, we'll have to limit ourselves to what I would call, 'synthetic' feature engineering, which could include calculating:\n",
    "- feature crossing - essentially multiplication or sometimes addition of a couple of features that are related or can be thought of as a sub-group in our dataset which should help in tying up two or more variables to explore possible relationship between them; a good example would be longitude and latitude,\n",
    "- polynomials and squares - pretty much squaring values of a feature we know is important or one where we want to emphasize the differences between observed values to the model,\n",
    "- standard deviations - deviations from feature's mean which once again, should allow us to emphasize differences between observations (at least in theory); a good example of that could be a situation where correlations are low but respective data points/records are very much different.\n",
    "\n",
    "Having said all of that, we have to keep in mind, that each new feature calculated from another feature, \n",
    "a) takes some of the original feature's predictive power and b) might introduce unnecessary bias and overfitting into our model and we most likely won't use all of them at once."
   ]
  },
  {
   "cell_type": "markdown",
   "metadata": {},
   "source": [
    "Let's start with the more \"creative\" approach and we'll move on to the \"synthetic\" afterwards.\n",
    "\n",
    "First up are the brands, based on otomoto and each brand's repuration, we can come up with a couple of features, such as:\n",
    "- **is_premium** - brands considered premium by the consumers,\n",
    "- **is_mid_range** - brands that are not quite premium, but rather middle of the road options,\n",
    "- **is_popular** - most popular car brands according to otomoto (search bar on the website)\n",
    "- **is_top_brand** - brands that are much more expensive than the others and deliver luxury or sports cars people wish they had"
   ]
  },
  {
   "cell_type": "code",
   "execution_count": null,
   "metadata": {},
   "outputs": [],
   "source": [
    "is_premium = ['bmw', 'mercedes-benz', 'audi', 'volvo', 'lexus', 'jaguar']\n",
    "is_mid_range = ['volkswagen', 'opel', 'ford', 'toyota', 'renault', 'skoda', 'peugeot', \n",
    "                'citroen', 'hyundai', 'kia', 'nissan', 'seat', 'mazda']\n",
    "is_popular = ['bmw', 'mercedes-benz', 'audi', 'volkswagen', 'opel', 'ford', 'toyota', \n",
    "              'renault', 'skoda'] # currently the most popular on otomoto\n",
    "is_top_brand = ['porsche', 'land-rover', 'ferrari', 'bentley', 'rolls-royce', 'maserati', \n",
    "                'mclaren', 'aston-martin', 'maybach']\n",
    "\n",
    "def insert_binary_features(data, index_list, col_name, col_position):\n",
    "    data.insert(col_position, col_name, 0)\n",
    "    for index in index_list:\n",
    "        data.iat[index, col_position] = 1"
   ]
  },
  {
   "cell_type": "code",
   "execution_count": null,
   "metadata": {},
   "outputs": [],
   "source": [
    "is_premium_index = raw_data[raw_data['make'].isin(is_premium)].index\n",
    "is_mid_range_index = raw_data[raw_data['make'].isin(is_mid_range)].index\n",
    "is_popular_index = raw_data[raw_data['make'].isin(is_popular)].index\n",
    "is_top_brand_index = raw_data[raw_data['make'].isin(is_top_brand)].index\n",
    "\n",
    "insert_binary_features(raw_data, is_premium_index, 'is_premium', 10)\n",
    "insert_binary_features(raw_data, is_mid_range_index, 'is_mid_range', 10)\n",
    "insert_binary_features(raw_data, is_popular_index, 'is_popular', 10)\n",
    "insert_binary_features(raw_data, is_top_brand_index, 'is_top_brand', 10)"
   ]
  },
  {
   "cell_type": "markdown",
   "metadata": {},
   "source": [
    "Now, we'll introduce a couple of different features, namely:\n",
    "- **is_sports** - would be a car with an engine stronger than 370 HP, since most premium manufacturers have regular cars with strong engines up to around 350 HP; not including these is crucial for this feature.\n",
    "- **is_adequate** - cars with at least 210 HP but less than 370 HP; pretty big range, but most people these days opt for either bigger or better equiped cars with weaker engines. The \"magical\" value of just over 200 HP is considered by many manufacturers to look good on paper.\n",
    "- **is_economic** - cars with less than 210 HP are in general more \"wallet-friendly\" with small engine displacement.\n",
    "- **is_brand_new** - cars that are brand new or considered delivery mileage by the dealer, anything with less than, say 100 KM on the clock meets the criteria; this value is generally pretty flexible, but I believe, once again, 100 is more of a psychologically important number.\n",
    "- **is_classic** and **is_historic** - while polish law says that a car has to be over 30 years old to be registered as a historic vehicle, it's still a little too young in case of our data, after all, 1991 feels like not that long ago :) Anything from before 1985 we'll consider a classic car, and potentially, anything before 1965 a historic vehicle."
   ]
  },
  {
   "cell_type": "code",
   "execution_count": null,
   "metadata": {},
   "outputs": [],
   "source": [
    "is_sports_index = raw_data[raw_data['engine_power'] >= 370].index\n",
    "is_adequate_index = raw_data[(raw_data['engine_power'] < 370) & (raw_data['engine_power'] >= 210)].index\n",
    "is_economic_index = raw_data[raw_data['engine_power'] < 210].index\n",
    "is_brand_new_index = raw_data[raw_data['mileage'] < 100].index\n",
    "is_classic_index = raw_data[raw_data['vehicle_year'] < 1985].index\n",
    "is_historic_index = raw_data[raw_data['vehicle_year'] < 1965].index\n",
    "\n",
    "insert_binary_features(raw_data, is_sports_index, 'is_sports', 10)\n",
    "insert_binary_features(raw_data, is_adequate_index, 'is_adequate', 10)\n",
    "insert_binary_features(raw_data, is_economic_index, 'is_economic', 10)\n",
    "insert_binary_features(raw_data, is_brand_new_index, 'is_brand_new', 10)\n",
    "insert_binary_features(raw_data, is_classic_index, 'is_classic', 10)\n",
    "insert_binary_features(raw_data, is_historic_index, 'is_historic', 10)"
   ]
  },
  {
   "cell_type": "markdown",
   "metadata": {},
   "source": [
    "Since taxes and other additional cost to the car is closely tied to its price, we'll introduce some features based off of that:\n",
    "- a mock insurance cost (of course minus the driver who plays a major role here) which once again is a little arbitrary, but we'll use our new features here as well: **is_top_brand * 5** + **is_premium * 3** + **is_mid_range * 2** + **is_sports * 5** + **is_adequate * 3** + **is_economic * 2** + **is_brand_new * 3** + **engine_capacity / 500**. While not a perfect score, I feel like it somewhat captures the idea and is worth a shot. Just in case that wasn't clear enough - the higher the score, the more costly the insurance."
   ]
  },
  {
   "cell_type": "code",
   "execution_count": null,
   "metadata": {},
   "outputs": [],
   "source": [
    "raw_data['insurance_cost_score'] = ((raw_data['is_top_brand'] * 5) + (raw_data['is_premium'] * 3) + \n",
    "                                    (raw_data['is_mid_range'] * 2) + (raw_data['is_sports'] * 5) + \n",
    "                                    (raw_data['is_adequate'] * 3) + (raw_data['is_economic'] * 2) + \n",
    "                                    (raw_data['is_brand_new'] * 3) + (raw_data['engine_capacity'] / 500))"
   ]
  },
  {
   "cell_type": "markdown",
   "metadata": {},
   "source": [
    "- **excise_tax** - the amount of tax a buyer has to pay if the car isn't domestic, based off of it's fuel and engine capacity, [source](https://akcyzowy.pl/img/akcyza-infografika.webp). Although we'll simplify it a bit to accomodate lack of distinction between different hybrid types in our data."
   ]
  },
  {
   "cell_type": "code",
   "execution_count": null,
   "metadata": {},
   "outputs": [],
   "source": [
    "# CASES FOR EXCISE TAX:\n",
    "# 1 electric ----> no tax\n",
    "# 2 not electric & not hybrid; 2000>= ----> 3.1%\n",
    "# 3 not electric & not hybrid 2000< ----> 18.6%\n",
    "# 4 hybrid & 2000>= ----> 1.55%\n",
    "# 5 hybrid & 2000< e_c <= 3500 ----> 9.3%\n",
    "# 6 hybrid & 3500< ----> 18.6%\n",
    "\n",
    "case_1_index = raw_data[raw_data['fuel_type'] == 'electric'].index\n",
    "case_2_index = raw_data[(raw_data['fuel_type'].isin(['electric', 'hybrid']) == False) & \\\n",
    "                        (raw_data['engine_capacity'] <= 2000)].index\n",
    "case_3_index = raw_data[(raw_data['fuel_type'].isin(['electric', 'hybrid']) == False) & \\\n",
    "                        (raw_data['engine_capacity'] > 2000)].index\n",
    "case_4_index = raw_data[(raw_data['fuel_type'] == 'hybrid') & (raw_data['engine_capacity'] <= 2000)].index\n",
    "case_5_index = raw_data[(raw_data['fuel_type'] == 'hybrid') & (raw_data['engine_capacity'] > 2000) & \n",
    "                        (raw_data['engine_capacity'] <= 3500)].index\n",
    "case_6_index = raw_data[(raw_data['fuel_type'] == 'hybrid') & (raw_data['engine_capacity'] > 3500)].index\n",
    "\n",
    "raw_data.insert(10, 'excise_tax', 0.0)   "
   ]
  },
  {
   "cell_type": "code",
   "execution_count": null,
   "metadata": {},
   "outputs": [],
   "source": [
    "def create_excise_tax_feature(data, index_list, value_to_assign):\n",
    "    for index in index_list:\n",
    "        data.iat[index, 10] = value_to_assign"
   ]
  },
  {
   "cell_type": "code",
   "execution_count": null,
   "metadata": {},
   "outputs": [],
   "source": [
    "create_excise_tax_feature(raw_data, case_2_index, 3.1)\n",
    "create_excise_tax_feature(raw_data, case_3_index, 18.6)\n",
    "create_excise_tax_feature(raw_data, case_4_index, 1.55)\n",
    "create_excise_tax_feature(raw_data, case_5_index, 9.3)\n",
    "create_excise_tax_feature(raw_data, case_6_index, 18.6)"
   ]
  },
  {
   "cell_type": "markdown",
   "metadata": {},
   "source": [
    "The last step is to do some ordinal/one-hot encoding for our categorical variables. We'll do it only for `gearbox` and `fuel_type` columns yet, as having every brand as its own feature is a little overkill for now."
   ]
  },
  {
   "cell_type": "code",
   "execution_count": null,
   "metadata": {},
   "outputs": [],
   "source": [
    "raw_data.head(3)"
   ]
  },
  {
   "cell_type": "code",
   "execution_count": null,
   "metadata": {},
   "outputs": [],
   "source": []
  },
  {
   "cell_type": "code",
   "execution_count": null,
   "metadata": {},
   "outputs": [],
   "source": []
  },
  {
   "cell_type": "code",
   "execution_count": null,
   "metadata": {},
   "outputs": [],
   "source": []
  },
  {
   "cell_type": "code",
   "execution_count": null,
   "metadata": {},
   "outputs": [],
   "source": []
  },
  {
   "cell_type": "code",
   "execution_count": null,
   "metadata": {},
   "outputs": [],
   "source": []
  },
  {
   "cell_type": "markdown",
   "metadata": {},
   "source": [
    "Now, let's take a look at our dataset with all the features added or transformed and delete the outlier."
   ]
  },
  {
   "cell_type": "code",
   "execution_count": null,
   "metadata": {},
   "outputs": [],
   "source": [
    "raw_data.drop(173220, inplace=True)"
   ]
  },
  {
   "cell_type": "code",
   "execution_count": 42,
   "metadata": {},
   "outputs": [
    {
     "data": {
      "text/html": [
       "<div>\n",
       "<style scoped>\n",
       "    .dataframe tbody tr th:only-of-type {\n",
       "        vertical-align: middle;\n",
       "    }\n",
       "\n",
       "    .dataframe tbody tr th {\n",
       "        vertical-align: top;\n",
       "    }\n",
       "\n",
       "    .dataframe thead th {\n",
       "        text-align: right;\n",
       "    }\n",
       "</style>\n",
       "<table border=\"1\" class=\"dataframe\">\n",
       "  <thead>\n",
       "    <tr style=\"text-align: right;\">\n",
       "      <th></th>\n",
       "      <th>make</th>\n",
       "      <th>model</th>\n",
       "      <th>vehicle_year</th>\n",
       "      <th>mileage</th>\n",
       "      <th>engine_capacity</th>\n",
       "      <th>engine_power</th>\n",
       "      <th>gearbox</th>\n",
       "      <th>fuel_type</th>\n",
       "      <th>damaged</th>\n",
       "      <th>is_business</th>\n",
       "      <th>...</th>\n",
       "      <th>is_brand_new</th>\n",
       "      <th>is_economic</th>\n",
       "      <th>is_adequate</th>\n",
       "      <th>is_sports</th>\n",
       "      <th>is_top_brand</th>\n",
       "      <th>is_popular</th>\n",
       "      <th>is_mid_range</th>\n",
       "      <th>is_premium</th>\n",
       "      <th>target_price</th>\n",
       "      <th>insurance_cost_score</th>\n",
       "    </tr>\n",
       "  </thead>\n",
       "  <tbody>\n",
       "    <tr>\n",
       "      <th>0</th>\n",
       "      <td>audi</td>\n",
       "      <td>a6</td>\n",
       "      <td>2013</td>\n",
       "      <td>153817.0</td>\n",
       "      <td>1984.0</td>\n",
       "      <td>180.0</td>\n",
       "      <td>automatic</td>\n",
       "      <td>petrol</td>\n",
       "      <td>0</td>\n",
       "      <td>0</td>\n",
       "      <td>...</td>\n",
       "      <td>0</td>\n",
       "      <td>1</td>\n",
       "      <td>0</td>\n",
       "      <td>0</td>\n",
       "      <td>0</td>\n",
       "      <td>1</td>\n",
       "      <td>0</td>\n",
       "      <td>1</td>\n",
       "      <td>69900.0</td>\n",
       "      <td>8.968</td>\n",
       "    </tr>\n",
       "    <tr>\n",
       "      <th>1</th>\n",
       "      <td>skoda</td>\n",
       "      <td>fabia</td>\n",
       "      <td>2004</td>\n",
       "      <td>115000.0</td>\n",
       "      <td>1390.0</td>\n",
       "      <td>75.0</td>\n",
       "      <td>manual</td>\n",
       "      <td>petrol</td>\n",
       "      <td>0</td>\n",
       "      <td>1</td>\n",
       "      <td>...</td>\n",
       "      <td>0</td>\n",
       "      <td>1</td>\n",
       "      <td>0</td>\n",
       "      <td>0</td>\n",
       "      <td>0</td>\n",
       "      <td>1</td>\n",
       "      <td>1</td>\n",
       "      <td>0</td>\n",
       "      <td>8299.0</td>\n",
       "      <td>6.780</td>\n",
       "    </tr>\n",
       "    <tr>\n",
       "      <th>2</th>\n",
       "      <td>chevrolet</td>\n",
       "      <td>camaro</td>\n",
       "      <td>2012</td>\n",
       "      <td>299000.0</td>\n",
       "      <td>3600.0</td>\n",
       "      <td>323.0</td>\n",
       "      <td>automatic</td>\n",
       "      <td>petrol</td>\n",
       "      <td>0</td>\n",
       "      <td>1</td>\n",
       "      <td>...</td>\n",
       "      <td>0</td>\n",
       "      <td>0</td>\n",
       "      <td>1</td>\n",
       "      <td>0</td>\n",
       "      <td>0</td>\n",
       "      <td>0</td>\n",
       "      <td>0</td>\n",
       "      <td>0</td>\n",
       "      <td>54500.0</td>\n",
       "      <td>10.200</td>\n",
       "    </tr>\n",
       "    <tr>\n",
       "      <th>3</th>\n",
       "      <td>bmw</td>\n",
       "      <td>seria-3</td>\n",
       "      <td>2013</td>\n",
       "      <td>155000.0</td>\n",
       "      <td>1995.0</td>\n",
       "      <td>163.0</td>\n",
       "      <td>automatic</td>\n",
       "      <td>diesel</td>\n",
       "      <td>0</td>\n",
       "      <td>0</td>\n",
       "      <td>...</td>\n",
       "      <td>0</td>\n",
       "      <td>1</td>\n",
       "      <td>0</td>\n",
       "      <td>0</td>\n",
       "      <td>0</td>\n",
       "      <td>1</td>\n",
       "      <td>0</td>\n",
       "      <td>1</td>\n",
       "      <td>62000.0</td>\n",
       "      <td>8.990</td>\n",
       "    </tr>\n",
       "    <tr>\n",
       "      <th>4</th>\n",
       "      <td>renault</td>\n",
       "      <td>talisman</td>\n",
       "      <td>2017</td>\n",
       "      <td>167000.0</td>\n",
       "      <td>1600.0</td>\n",
       "      <td>130.0</td>\n",
       "      <td>automatic</td>\n",
       "      <td>diesel</td>\n",
       "      <td>0</td>\n",
       "      <td>1</td>\n",
       "      <td>...</td>\n",
       "      <td>0</td>\n",
       "      <td>1</td>\n",
       "      <td>0</td>\n",
       "      <td>0</td>\n",
       "      <td>0</td>\n",
       "      <td>1</td>\n",
       "      <td>1</td>\n",
       "      <td>0</td>\n",
       "      <td>52999.0</td>\n",
       "      <td>7.200</td>\n",
       "    </tr>\n",
       "  </tbody>\n",
       "</table>\n",
       "<p>5 rows × 21 columns</p>\n",
       "</div>"
      ],
      "text/plain": [
       "        make     model  vehicle_year   mileage  engine_capacity  engine_power  \\\n",
       "0       audi        a6          2013  153817.0           1984.0         180.0   \n",
       "1      skoda     fabia          2004  115000.0           1390.0          75.0   \n",
       "2  chevrolet    camaro          2012  299000.0           3600.0         323.0   \n",
       "3        bmw   seria-3          2013  155000.0           1995.0         163.0   \n",
       "4    renault  talisman          2017  167000.0           1600.0         130.0   \n",
       "\n",
       "     gearbox fuel_type  damaged  is_business  ...  is_brand_new  is_economic  \\\n",
       "0  automatic    petrol        0            0  ...             0            1   \n",
       "1     manual    petrol        0            1  ...             0            1   \n",
       "2  automatic    petrol        0            1  ...             0            0   \n",
       "3  automatic    diesel        0            0  ...             0            1   \n",
       "4  automatic    diesel        0            1  ...             0            1   \n",
       "\n",
       "   is_adequate  is_sports  is_top_brand  is_popular  is_mid_range  is_premium  \\\n",
       "0            0          0             0           1             0           1   \n",
       "1            0          0             0           1             1           0   \n",
       "2            1          0             0           0             0           0   \n",
       "3            0          0             0           1             0           1   \n",
       "4            0          0             0           1             1           0   \n",
       "\n",
       "   target_price  insurance_cost_score  \n",
       "0       69900.0                 8.968  \n",
       "1        8299.0                 6.780  \n",
       "2       54500.0                10.200  \n",
       "3       62000.0                 8.990  \n",
       "4       52999.0                 7.200  \n",
       "\n",
       "[5 rows x 21 columns]"
      ]
     },
     "execution_count": 42,
     "metadata": {},
     "output_type": "execute_result"
    }
   ],
   "source": [
    "raw_data.head(5)"
   ]
  },
  {
   "cell_type": "code",
   "execution_count": 39,
   "metadata": {},
   "outputs": [
    {
     "name": "stdout",
     "output_type": "stream",
     "text": [
      "The dataset consists of 206207 rows and 21 columns\n"
     ]
    }
   ],
   "source": [
    "print(f\"The dataset consists of {raw_data.shape[0]} rows and {raw_data.shape[1]} columns\")"
   ]
  },
  {
   "cell_type": "markdown",
   "metadata": {},
   "source": [
    "## Final preparation for use with ml algorithms"
   ]
  },
  {
   "cell_type": "code",
   "execution_count": 74,
   "metadata": {},
   "outputs": [],
   "source": [
    "#testy na normalnosc"
   ]
  },
  {
   "cell_type": "markdown",
   "metadata": {},
   "source": [
    "Before applying some of the machine learning models, it is important to establish what are the distributions of some of our features. Some (but not all) algorithms require the distributions to be normal and values to be between 0 and 1 (normalization). \n",
    "\n",
    "First, let's establish our quantitative features."
   ]
  },
  {
   "cell_type": "code",
   "execution_count": null,
   "metadata": {},
   "outputs": [],
   "source": [
    "# quantitative = []"
   ]
  },
  {
   "cell_type": "markdown",
   "metadata": {},
   "source": [
    "Next, we'll calculate D'Agostino K^2 test which takes into account both skewness *and* kurtosis."
   ]
  },
  {
   "cell_type": "code",
   "execution_count": null,
   "metadata": {},
   "outputs": [],
   "source": [
    "alpha = 0.05\n",
    "\n",
    "test_normality_dagostino = lambda x: stats.normaltest(x)[1] > alpha\n",
    "is_normal = pd.DataFrame(raw_data[quantitative])\n",
    "is_normal = is_normal.apply(test_normality_dagostino)\n",
    "is_normal.value_counts(normalize=True)"
   ]
  },
  {
   "cell_type": "markdown",
   "metadata": {},
   "source": [
    "Next, let's see in depth skewness of our features."
   ]
  },
  {
   "cell_type": "code",
   "execution_count": null,
   "metadata": {},
   "outputs": [],
   "source": [
    "# skewed_feats = raw_data[quantitative].apply(lambda x: stats.skew(x.dropna())).sort_values(ascending=False)\n",
    "# raw_data_skewed = pd.DataFrame({'Skewness' :skewed_feats})\n",
    "# raw_data_skewed.head(7)"
   ]
  },
  {
   "cell_type": "markdown",
   "metadata": {},
   "source": [
    "All of the data is highly skewed, so we'll use Box-Cox transformation."
   ]
  },
  {
   "cell_type": "code",
   "execution_count": null,
   "metadata": {},
   "outputs": [],
   "source": [
    "def transform_skewed_feats(data, skewness_df):\n",
    "    skewness_df = skewness_df[abs(skewness_df) > 0.5]\n",
    "    print(f\"There are {skewness_df.shape[0]} skewed numerical features to Box-Cox transform\")\n",
    "\n",
    "    skewed_features = skewness_df.index\n",
    "    lambda_bc = 0.15\n",
    "    for feat in skewed_features:\n",
    "        data[feat] = boxcox1p(data[feat], lambda_bc)"
   ]
  },
  {
   "cell_type": "code",
   "execution_count": null,
   "metadata": {},
   "outputs": [],
   "source": [
    "# transform_skewed_feats(raw_data, raw_data_skewed)"
   ]
  },
  {
   "cell_type": "code",
   "execution_count": null,
   "metadata": {},
   "outputs": [],
   "source": [
    "raw_data.head(5)"
   ]
  },
  {
   "cell_type": "code",
   "execution_count": null,
   "metadata": {},
   "outputs": [],
   "source": []
  },
  {
   "cell_type": "code",
   "execution_count": null,
   "metadata": {},
   "outputs": [],
   "source": []
  },
  {
   "cell_type": "markdown",
   "metadata": {},
   "source": [
    "##  Feature selection"
   ]
  },
  {
   "cell_type": "markdown",
   "metadata": {},
   "source": [
    "Let's see features most and least correlated to our target. While not a definitive indicator, in conjunction with a couple more of methods, will give us a good idea what to expect and where lies the potential in our data."
   ]
  },
  {
   "cell_type": "code",
   "execution_count": null,
   "metadata": {},
   "outputs": [],
   "source": [
    "spe_corr = raw_data.corr('spearman')\n",
    "spe_corr['group'].sort_values(ascending=False).head(15).to_frame()"
   ]
  },
  {
   "cell_type": "code",
   "execution_count": null,
   "metadata": {},
   "outputs": [],
   "source": [
    "spe_corr['group'].sort_values(ascending=True).head(15).to_frame()"
   ]
  },
  {
   "cell_type": "markdown",
   "metadata": {},
   "source": [
    "** write some shit here**\n",
    "\n",
    "Now, let's see the correlation with our target variable."
   ]
  },
  {
   "cell_type": "code",
   "execution_count": null,
   "metadata": {},
   "outputs": [],
   "source": [
    "f,ax = plt.subplots(figsize=(17,1))\n",
    "sns.heatmap(spe_corr.sort_values(by=['group'], ascending=False).head(1), cmap='RdYlGn', center=0)\n",
    "plt.title(\"Correlation with target group\", weight='bold', fontsize=18)\n",
    "\n",
    "plt.show()"
   ]
  },
  {
   "cell_type": "markdown",
   "metadata": {},
   "source": [
    "** write more shit here **\n",
    "\n",
    "Now, for a good measure, we can also look at correlation across the whole data."
   ]
  },
  {
   "cell_type": "code",
   "execution_count": null,
   "metadata": {},
   "outputs": [],
   "source": [
    "draw_correlogram(raw_data, corr_values=False)"
   ]
  },
  {
   "cell_type": "markdown",
   "metadata": {},
   "source": [
    "As a next step, let's run a default model over our data to see which features are the most important. While a pretty basic way of establishing feature importance, it's not the only thing we look at here, so we're more than fine. Once again, with a couple of other methods and visualizations, sholud give us a pretty good idea what to look for and concentrate on."
   ]
  },
  {
   "cell_type": "code",
   "execution_count": null,
   "metadata": {},
   "outputs": [],
   "source": [
    "default_lgbm_model = LGBMClassifier(n_jobs=-1)"
   ]
  },
  {
   "cell_type": "code",
   "execution_count": null,
   "metadata": {},
   "outputs": [],
   "source": [
    "y_raw_data = raw_data['target_price']\n",
    "x_raw_data = raw_data.drop(columns='target_price', inplace=False)"
   ]
  },
  {
   "cell_type": "code",
   "execution_count": null,
   "metadata": {},
   "outputs": [],
   "source": [
    "fitted_default = default_lgbm_model.fit(x_raw_data, y_raw_data)"
   ]
  },
  {
   "cell_type": "code",
   "execution_count": null,
   "metadata": {},
   "outputs": [],
   "source": [
    "feat_importance = pd.DataFrame((sorted(zip(x_raw_data.columns, fitted_default.feature_importances_))), \n",
    "                               columns=['feature', 'feature_importance'])\n",
    "feat_importance.sort_values(by='feature_importance', ascending=False).head(15)"
   ]
  },
  {
   "cell_type": "markdown",
   "metadata": {},
   "source": [
    "** write some shit here **"
   ]
  },
  {
   "cell_type": "code",
   "execution_count": null,
   "metadata": {},
   "outputs": [],
   "source": [
    "# features = []\n",
    "\n",
    "# selected_data = raw_data[features]"
   ]
  },
  {
   "cell_type": "markdown",
   "metadata": {},
   "source": [
    "Now that we have our features, let's randomly shuffle the data and split it into train and test sets, separating our target variable (train_test_split already shuffles data for us). "
   ]
  },
  {
   "cell_type": "code",
   "execution_count": null,
   "metadata": {},
   "outputs": [],
   "source": [
    "x_train, x_test, y_train, y_test = train_test_split(selected_data.drop(columns='group', inplace=False), \n",
    "                                                    selected_data['group'], test_size=0.2,\n",
    "                                                    random_state=RAND_SEED,\n",
    "                                                    stratify=selected_data['group'])"
   ]
  },
  {
   "cell_type": "code",
   "execution_count": null,
   "metadata": {},
   "outputs": [],
   "source": [
    "x_train.shape, x_test.shape, y_train.shape, y_test.shape"
   ]
  },
  {
   "cell_type": "markdown",
   "metadata": {},
   "source": [
    "## Modelling and prediction"
   ]
  },
  {
   "cell_type": "code",
   "execution_count": null,
   "metadata": {},
   "outputs": [],
   "source": []
  },
  {
   "cell_type": "code",
   "execution_count": null,
   "metadata": {},
   "outputs": [],
   "source": []
  },
  {
   "cell_type": "markdown",
   "metadata": {},
   "source": [
    "## Model performance analysis"
   ]
  },
  {
   "cell_type": "code",
   "execution_count": null,
   "metadata": {},
   "outputs": [],
   "source": []
  },
  {
   "cell_type": "code",
   "execution_count": null,
   "metadata": {},
   "outputs": [],
   "source": []
  },
  {
   "cell_type": "code",
   "execution_count": null,
   "metadata": {},
   "outputs": [],
   "source": []
  },
  {
   "cell_type": "markdown",
   "metadata": {},
   "source": [
    "## Feature analysis"
   ]
  },
  {
   "cell_type": "code",
   "execution_count": null,
   "metadata": {},
   "outputs": [],
   "source": []
  },
  {
   "cell_type": "code",
   "execution_count": null,
   "metadata": {},
   "outputs": [],
   "source": []
  },
  {
   "cell_type": "code",
   "execution_count": null,
   "metadata": {},
   "outputs": [],
   "source": []
  },
  {
   "cell_type": "markdown",
   "metadata": {},
   "source": [
    "## Summary and final words"
   ]
  },
  {
   "cell_type": "markdown",
   "metadata": {},
   "source": [
    "### Conclusion"
   ]
  },
  {
   "cell_type": "code",
   "execution_count": null,
   "metadata": {},
   "outputs": [],
   "source": []
  },
  {
   "cell_type": "markdown",
   "metadata": {},
   "source": [
    "### What would I do next?"
   ]
  },
  {
   "cell_type": "code",
   "execution_count": null,
   "metadata": {},
   "outputs": [],
   "source": []
  }
 ],
 "metadata": {
  "kernelspec": {
   "display_name": "Python 3",
   "language": "python",
   "name": "python3"
  },
  "language_info": {
   "codemirror_mode": {
    "name": "ipython",
    "version": 3
   },
   "file_extension": ".py",
   "mimetype": "text/x-python",
   "name": "python",
   "nbconvert_exporter": "python",
   "pygments_lexer": "ipython3",
   "version": "3.8.6"
  }
 },
 "nbformat": 4,
 "nbformat_minor": 4
}
