{
 "cells": [
  {
   "cell_type": "markdown",
   "metadata": {},
   "source": [
    "# OLX Data Science Assignment"
   ]
  },
  {
   "cell_type": "markdown",
   "metadata": {},
   "source": [
    "Hi!\n",
    "\n",
    "You're probably wondering what to expect and how to make sense of what's being done here. Since notebooks were the preferred way of delivering the solution, there aren't any elaborate pipelines done, but rather some methods I was reusing throughout the project or just using them to organize code. Other than that, standard exploratory analysis and code written and executed sequentially. \n",
    "\n",
    "While there's a lot of additional stuff I could do with the data, I just wasn't sure whether getting rid of outliers was ok or not (that's removing some data after all), and how much data manipulation was allowed. So I didn't remove them and didn't change their values.\n",
    "\n",
    "One more approach I always like to take with tasks like these is sacrificing some performance for the sake of analysis and exploration of different methods and techniques, as well as more model analysis, and explaining its performance. I certainly could focus all my efforts on tweaking model's hyperparameters and doing something more sophisticated, be it stacking models, blending them or adding neural network meta learners, but time I can devote for this task is somewhat limited.\n",
    "\n",
    "One more thing I didn't do here is normalizing and trimming train data to the values of test data. While often done in kaggle competitions, it's not really a good practice and I see no point in doing that."
   ]
  },
  {
   "cell_type": "markdown",
   "metadata": {},
   "source": [
    "If You'd like to run this notebook, use the following command (using anaconda) to create a new environment with all the libraries I used and You should be good to go:\n",
    "\n",
    "`conda create -n recruitment_task python=3.8.6 pandas seaborn scipy scikit-learn lightgbm shap`"
   ]
  },
  {
   "cell_type": "markdown",
   "metadata": {},
   "source": [
    "## Initial look"
   ]
  },
  {
   "cell_type": "code",
   "execution_count": 1,
   "metadata": {},
   "outputs": [],
   "source": [
    "import math\n",
    "import numpy as np\n",
    "import pandas as pd \n",
    "\n",
    "import matplotlib.pyplot as plt\n",
    "import seaborn as sns\n",
    "\n",
    "import scipy.stats as stats\n",
    "from scipy.special import boxcox1p\n",
    "\n",
    "from sklearn import preprocessing\n",
    "from sklearn.model_selection import train_test_split\n",
    "\n",
    "from sklearn.linear_model import Ridge, Lasso, ElasticNet\n",
    "\n",
    "from lightgbm import LGBMRegressor\n",
    "\n",
    "from sklearn.metrics import mean_absolute_error\n",
    "from sklearn.metrics import mean_squared_error\n",
    "from sklearn.metrics import r2_score\n",
    "from sklearn.metrics import explained_variance_score\n",
    "from sklearn.metrics import max_error\n",
    "\n",
    "import shap\n",
    "\n",
    "#options and constants\n",
    "RAND_SEED = 7\n",
    "\n",
    "pd.options.display.max_columns = 35\n",
    "pd.options.display.max_rows = 20"
   ]
  },
  {
   "cell_type": "code",
   "execution_count": 2,
   "metadata": {},
   "outputs": [],
   "source": [
    "data_path = \"otomoto_price_prediction_data.csv\"\n",
    "raw_data = pd.read_csv(data_path)"
   ]
  },
  {
   "cell_type": "markdown",
   "metadata": {},
   "source": [
    "Let's look at the dataset real quick.\n",
    "\n",
    "Typically, at this stage of the project, I'm looking for some ideas about which features I should focus on and maybe do some more research on how are they tied specifically to the problem I'm presented with. That would most often boild down to:\n",
    "- usage of external data,\n",
    "- feature selection,\n",
    "- feature engineering (both \"synthetic\" which I'll explain later and a little bit more creative one),\n",
    "- domain knowledge,\n",
    "\n",
    "and possibly more, depending on the specifities of data and how in-depth I want to get."
   ]
  },
  {
   "cell_type": "code",
   "execution_count": 3,
   "metadata": {},
   "outputs": [
    {
     "data": {
      "text/html": [
       "<div>\n",
       "<style scoped>\n",
       "    .dataframe tbody tr th:only-of-type {\n",
       "        vertical-align: middle;\n",
       "    }\n",
       "\n",
       "    .dataframe tbody tr th {\n",
       "        vertical-align: top;\n",
       "    }\n",
       "\n",
       "    .dataframe thead th {\n",
       "        text-align: right;\n",
       "    }\n",
       "</style>\n",
       "<table border=\"1\" class=\"dataframe\">\n",
       "  <thead>\n",
       "    <tr style=\"text-align: right;\">\n",
       "      <th></th>\n",
       "      <th>make</th>\n",
       "      <th>model</th>\n",
       "      <th>vehicle_year</th>\n",
       "      <th>mileage</th>\n",
       "      <th>engine_capacity</th>\n",
       "      <th>engine_power</th>\n",
       "      <th>gearbox</th>\n",
       "      <th>fuel_type</th>\n",
       "      <th>damaged</th>\n",
       "      <th>is_business</th>\n",
       "      <th>target_price</th>\n",
       "    </tr>\n",
       "  </thead>\n",
       "  <tbody>\n",
       "    <tr>\n",
       "      <th>0</th>\n",
       "      <td>audi</td>\n",
       "      <td>a6</td>\n",
       "      <td>2013</td>\n",
       "      <td>153817.0</td>\n",
       "      <td>1984.0</td>\n",
       "      <td>180.0</td>\n",
       "      <td>automatic</td>\n",
       "      <td>petrol</td>\n",
       "      <td>0</td>\n",
       "      <td>0</td>\n",
       "      <td>69900.0</td>\n",
       "    </tr>\n",
       "    <tr>\n",
       "      <th>1</th>\n",
       "      <td>skoda</td>\n",
       "      <td>fabia</td>\n",
       "      <td>2004</td>\n",
       "      <td>115000.0</td>\n",
       "      <td>1390.0</td>\n",
       "      <td>75.0</td>\n",
       "      <td>manual</td>\n",
       "      <td>petrol</td>\n",
       "      <td>0</td>\n",
       "      <td>1</td>\n",
       "      <td>8299.0</td>\n",
       "    </tr>\n",
       "    <tr>\n",
       "      <th>2</th>\n",
       "      <td>chevrolet</td>\n",
       "      <td>camaro</td>\n",
       "      <td>2012</td>\n",
       "      <td>299000.0</td>\n",
       "      <td>3600.0</td>\n",
       "      <td>323.0</td>\n",
       "      <td>automatic</td>\n",
       "      <td>petrol</td>\n",
       "      <td>0</td>\n",
       "      <td>1</td>\n",
       "      <td>54500.0</td>\n",
       "    </tr>\n",
       "    <tr>\n",
       "      <th>3</th>\n",
       "      <td>bmw</td>\n",
       "      <td>seria-3</td>\n",
       "      <td>2013</td>\n",
       "      <td>155000.0</td>\n",
       "      <td>1995.0</td>\n",
       "      <td>163.0</td>\n",
       "      <td>automatic</td>\n",
       "      <td>diesel</td>\n",
       "      <td>0</td>\n",
       "      <td>0</td>\n",
       "      <td>62000.0</td>\n",
       "    </tr>\n",
       "    <tr>\n",
       "      <th>4</th>\n",
       "      <td>renault</td>\n",
       "      <td>talisman</td>\n",
       "      <td>2017</td>\n",
       "      <td>167000.0</td>\n",
       "      <td>1600.0</td>\n",
       "      <td>130.0</td>\n",
       "      <td>automatic</td>\n",
       "      <td>diesel</td>\n",
       "      <td>0</td>\n",
       "      <td>1</td>\n",
       "      <td>52999.0</td>\n",
       "    </tr>\n",
       "  </tbody>\n",
       "</table>\n",
       "</div>"
      ],
      "text/plain": [
       "        make     model  vehicle_year   mileage  engine_capacity  engine_power  \\\n",
       "0       audi        a6          2013  153817.0           1984.0         180.0   \n",
       "1      skoda     fabia          2004  115000.0           1390.0          75.0   \n",
       "2  chevrolet    camaro          2012  299000.0           3600.0         323.0   \n",
       "3        bmw   seria-3          2013  155000.0           1995.0         163.0   \n",
       "4    renault  talisman          2017  167000.0           1600.0         130.0   \n",
       "\n",
       "     gearbox fuel_type  damaged  is_business  target_price  \n",
       "0  automatic    petrol        0            0       69900.0  \n",
       "1     manual    petrol        0            1        8299.0  \n",
       "2  automatic    petrol        0            1       54500.0  \n",
       "3  automatic    diesel        0            0       62000.0  \n",
       "4  automatic    diesel        0            1       52999.0  "
      ]
     },
     "execution_count": 3,
     "metadata": {},
     "output_type": "execute_result"
    }
   ],
   "source": [
    "raw_data.head(5)"
   ]
  },
  {
   "cell_type": "code",
   "execution_count": 4,
   "metadata": {},
   "outputs": [
    {
     "name": "stdout",
     "output_type": "stream",
     "text": [
      "The dataset consists of 206207 rows and 11 columns\n"
     ]
    }
   ],
   "source": [
    "print(f\"The dataset consists of {raw_data.shape[0]} rows and {raw_data.shape[1]} columns\")"
   ]
  },
  {
   "cell_type": "markdown",
   "metadata": {},
   "source": [
    "We know that the data was from Otomoto.pl but not when the dataset was prepared. A quick look at the site tells us, that currently there are 205794 listings (just over 400 less), so the data must be relatively \"fresh\". It's also reinforced by the fact that there are 2020 and 2021 model year vehicles in the data.  "
   ]
  },
  {
   "cell_type": "markdown",
   "metadata": {},
   "source": [
    "Since there was also a short description attached, we know what each of the features means (although they are rather self-explanatory). It's clear that we can do a lot of neat stuff with this and given a litle bit of domain knowledge on my side, we can come up with a few interesting takeaways and features.\n",
    "\n",
    "Let's take a closer look at data's properties and features.  "
   ]
  },
  {
   "cell_type": "code",
   "execution_count": 5,
   "metadata": {},
   "outputs": [
    {
     "name": "stdout",
     "output_type": "stream",
     "text": [
      "<class 'pandas.core.frame.DataFrame'>\n",
      "RangeIndex: 206207 entries, 0 to 206206\n",
      "Data columns (total 11 columns):\n",
      " #   Column           Non-Null Count   Dtype  \n",
      "---  ------           --------------   -----  \n",
      " 0   make             206207 non-null  object \n",
      " 1   model            206207 non-null  object \n",
      " 2   vehicle_year     206207 non-null  int64  \n",
      " 3   mileage          204853 non-null  float64\n",
      " 4   engine_capacity  204029 non-null  float64\n",
      " 5   engine_power     204628 non-null  float64\n",
      " 6   gearbox          204842 non-null  object \n",
      " 7   fuel_type        206207 non-null  object \n",
      " 8   damaged          206207 non-null  int64  \n",
      " 9   is_business      206207 non-null  int64  \n",
      " 10  target_price     206207 non-null  float64\n",
      "dtypes: float64(4), int64(3), object(4)\n",
      "memory usage: 17.3+ MB\n"
     ]
    }
   ],
   "source": [
    "raw_data.info()"
   ]
  },
  {
   "cell_type": "markdown",
   "metadata": {},
   "source": [
    "Fortunately, there's not a lot of missing data; some of the features can be simplified as well (e.g. engine_capacity) and some data types can be changed to improve performance."
   ]
  },
  {
   "cell_type": "code",
   "execution_count": 6,
   "metadata": {},
   "outputs": [
    {
     "data": {
      "image/png": "[encoded data removed]",
      "text/plain": [
       "<Figure size 960x800 with 2 Axes>"
      ]
     },
     "metadata": {
      "needs_background": "light"
     },
     "output_type": "display_data"
    }
   ],
   "source": [
    "def draw_correlogram(data, correlation_type='spearman', corr_values=True):\n",
    "    correlations = data.corr()\n",
    "    plt.figure(figsize=(12,10), dpi= 80)\n",
    "    sns.heatmap(correlations, xticklabels=correlations.columns, \n",
    "                yticklabels=correlations.columns, cmap='RdYlGn', \n",
    "                center=0, annot=corr_values)\n",
    "\n",
    "    plt.title('Correlogram of the dataset', fontsize=22)\n",
    "    plt.xticks(fontsize=12)\n",
    "    plt.yticks(fontsize=12)\n",
    "    plt.show()\n",
    "\n",
    "draw_correlogram(raw_data)"
   ]
  },
  {
   "cell_type": "code",
   "execution_count": 7,
   "metadata": {},
   "outputs": [
    {
     "data": {
      "image/png": "[encoded data removed]",
      "text/plain": [
       "<Figure size 936x432 with 5 Axes>"
      ]
     },
     "metadata": {
      "needs_background": "light"
     },
     "output_type": "display_data"
    }
   ],
   "source": [
    "quantitative = ['vehicle_year', 'mileage', 'engine_capacity', 'engine_power', 'target_price']\n",
    "\n",
    "fig, axs = plt.subplots(ncols=5, nrows=1, figsize=(13, 6))\n",
    "index = 0\n",
    "axs = axs.flatten()\n",
    "for k,v in (raw_data[quantitative].notnull()).items():\n",
    "    sns.boxplot(y=k, data=raw_data, ax=axs[index])\n",
    "    index = index + 1\n",
    "plt.tight_layout()"
   ]
  },
  {
   "cell_type": "markdown",
   "metadata": {},
   "source": [
    "Clearly there are some outliers in our data with which we'll deal later on. Now let's start the process of cleaning the data and making it ready for analysis."
   ]
  },
  {
   "cell_type": "markdown",
   "metadata": {},
   "source": [
    "## Data preprocessing"
   ]
  },
  {
   "cell_type": "markdown",
   "metadata": {},
   "source": [
    "### Dealing with missing data"
   ]
  },
  {
   "cell_type": "code",
   "execution_count": 8,
   "metadata": {},
   "outputs": [
    {
     "data": {
      "text/html": [
       "<div>\n",
       "<style scoped>\n",
       "    .dataframe tbody tr th:only-of-type {\n",
       "        vertical-align: middle;\n",
       "    }\n",
       "\n",
       "    .dataframe tbody tr th {\n",
       "        vertical-align: top;\n",
       "    }\n",
       "\n",
       "    .dataframe thead th {\n",
       "        text-align: right;\n",
       "    }\n",
       "</style>\n",
       "<table border=\"1\" class=\"dataframe\">\n",
       "  <thead>\n",
       "    <tr style=\"text-align: right;\">\n",
       "      <th></th>\n",
       "      <th>values_null</th>\n",
       "      <th>percentage_null</th>\n",
       "    </tr>\n",
       "  </thead>\n",
       "  <tbody>\n",
       "    <tr>\n",
       "      <th>make</th>\n",
       "      <td>0</td>\n",
       "      <td>0.000000</td>\n",
       "    </tr>\n",
       "    <tr>\n",
       "      <th>model</th>\n",
       "      <td>0</td>\n",
       "      <td>0.000000</td>\n",
       "    </tr>\n",
       "    <tr>\n",
       "      <th>vehicle_year</th>\n",
       "      <td>0</td>\n",
       "      <td>0.000000</td>\n",
       "    </tr>\n",
       "    <tr>\n",
       "      <th>mileage</th>\n",
       "      <td>1354</td>\n",
       "      <td>0.656622</td>\n",
       "    </tr>\n",
       "    <tr>\n",
       "      <th>engine_capacity</th>\n",
       "      <td>2178</td>\n",
       "      <td>1.056220</td>\n",
       "    </tr>\n",
       "    <tr>\n",
       "      <th>engine_power</th>\n",
       "      <td>1579</td>\n",
       "      <td>0.765735</td>\n",
       "    </tr>\n",
       "    <tr>\n",
       "      <th>gearbox</th>\n",
       "      <td>1365</td>\n",
       "      <td>0.661956</td>\n",
       "    </tr>\n",
       "    <tr>\n",
       "      <th>fuel_type</th>\n",
       "      <td>0</td>\n",
       "      <td>0.000000</td>\n",
       "    </tr>\n",
       "    <tr>\n",
       "      <th>damaged</th>\n",
       "      <td>0</td>\n",
       "      <td>0.000000</td>\n",
       "    </tr>\n",
       "    <tr>\n",
       "      <th>is_business</th>\n",
       "      <td>0</td>\n",
       "      <td>0.000000</td>\n",
       "    </tr>\n",
       "    <tr>\n",
       "      <th>target_price</th>\n",
       "      <td>0</td>\n",
       "      <td>0.000000</td>\n",
       "    </tr>\n",
       "  </tbody>\n",
       "</table>\n",
       "</div>"
      ],
      "text/plain": [
       "                 values_null  percentage_null\n",
       "make                       0         0.000000\n",
       "model                      0         0.000000\n",
       "vehicle_year               0         0.000000\n",
       "mileage                 1354         0.656622\n",
       "engine_capacity         2178         1.056220\n",
       "engine_power            1579         0.765735\n",
       "gearbox                 1365         0.661956\n",
       "fuel_type                  0         0.000000\n",
       "damaged                    0         0.000000\n",
       "is_business                0         0.000000\n",
       "target_price               0         0.000000"
      ]
     },
     "execution_count": 8,
     "metadata": {},
     "output_type": "execute_result"
    }
   ],
   "source": [
    "def check_nulls(data):\n",
    "    return pd.DataFrame({\"values_null\": data.isnull().sum(),\n",
    "                         \"percentage_null\": data.isnull().sum() / data.shape[0] * 100})\n",
    "    \n",
    "check_nulls(raw_data) "
   ]
  },
  {
   "cell_type": "markdown",
   "metadata": {},
   "source": [
    "To better understand what data is missing and whether we can come up with some imputation strategy based on other values, let's take a look at the missing values heatmap."
   ]
  },
  {
   "cell_type": "code",
   "execution_count": 9,
   "metadata": {},
   "outputs": [
    {
     "data": {
      "image/png": "[encoded data removed]",
      "text/plain": [
       "<Figure size 864x864 with 1 Axes>"
      ]
     },
     "metadata": {
      "needs_background": "light"
     },
     "output_type": "display_data"
    }
   ],
   "source": [
    "cols_with_missing_data = ['mileage', 'engine_capacity', 'engine_power', 'gearbox']\n",
    "\n",
    "plt.figure(figsize=(12,12))\n",
    "sns.heatmap(~raw_data[cols_with_missing_data].isnull(), cbar=False, yticklabels=False)\n",
    "plt.xticks(rotation=90, size='x-large')\n",
    "plt.show()"
   ]
  },
  {
   "cell_type": "markdown",
   "metadata": {},
   "source": [
    "Looking at the heatmap, there are a couple of takeaways:\n",
    "- missing `mileage` doesn't appear to be related to any other missing data, which can be easily imputed or explained when we look at `vehicle_year` values for these records, as new vehicles could be imputed with 0s,\n",
    "- there are some instances where `engine_capacity`, `engine_power` and `gearbox` values are all missing concurrently, which could be hard to impute without introducing additional bias to the data (there are many different equipment options and packages even within the same model range).\n",
    "- the rest of missing `engine_capacity`, `engine_power` and `gearbox` values can be easily imputed if any of the other aren't missing at the same time. In conjunction with `make`, `model` and `vehicle_year`, we can take an educated guess, since there aren't that many power & capacity combinations within the same manufacturer.\n",
    "- to follow up the above point, there's no fear of excessive bias in case of modified cars, since these modifications rarely make the price go that much higher. Furthermore, we'll start with `engine_capacity`, `gearbox` and then `engine_power`, since it's much more expensive and complicated to modify the two former, which means there'll be less deviations and potential bias in our imputation."
   ]
  },
  {
   "cell_type": "markdown",
   "metadata": {},
   "source": [
    "#### Mileage\n",
    "\n",
    "Let's look at missing mileage first and see if our assumptions were correct."
   ]
  },
  {
   "cell_type": "code",
   "execution_count": 10,
   "metadata": {},
   "outputs": [
    {
     "data": {
      "text/plain": [
       "2020    0.932053\n",
       "2021    0.045790\n",
       "2019    0.022157\n",
       "Name: vehicle_year, dtype: float64"
      ]
     },
     "execution_count": 10,
     "metadata": {},
     "output_type": "execute_result"
    }
   ],
   "source": [
    "raw_data[raw_data['mileage'].isnull()]['vehicle_year'].value_counts(normalize=True)"
   ]
  },
  {
   "cell_type": "markdown",
   "metadata": {},
   "source": [
    "Looks like we were right! All of the cars with missing mileage are pretty much new and it's not uncommon to see a one or two year old car still sitting brand new in the car lot. Let's also check if the seller is in fact business - that would give us a high confidence in our hypothesis."
   ]
  },
  {
   "cell_type": "code",
   "execution_count": 11,
   "metadata": {},
   "outputs": [
    {
     "data": {
      "text/plain": [
       "1    1354\n",
       "Name: is_business, dtype: int64"
      ]
     },
     "execution_count": 11,
     "metadata": {},
     "output_type": "execute_result"
    }
   ],
   "source": [
    "raw_data[raw_data['mileage'].isnull()]['is_business'].value_counts(normalize=False)"
   ]
  },
  {
   "cell_type": "markdown",
   "metadata": {},
   "source": [
    "Looks like once again, we took a good guess. Let's fill in these values with 0s, since even if they aren't exacly 0, anything up to say 50km would be considered delivery mileage by the dealer anyways."
   ]
  },
  {
   "cell_type": "code",
   "execution_count": 12,
   "metadata": {},
   "outputs": [],
   "source": [
    "raw_data['mileage'] = raw_data['mileage'].mask((raw_data['mileage'].isnull()), 0)"
   ]
  },
  {
   "cell_type": "markdown",
   "metadata": {},
   "source": [
    "#### Concurrently missing data\n",
    "\n",
    "Let's see what the data looks like, if there are missing values in all of the considered columns. "
   ]
  },
  {
   "cell_type": "code",
   "execution_count": 13,
   "metadata": {},
   "outputs": [
    {
     "name": "stdout",
     "output_type": "stream",
     "text": [
      "There are 2965 records with some null values left (including potential unions).\n"
     ]
    }
   ],
   "source": [
    "all_null_mask = (raw_data['engine_capacity'].isnull()) & (raw_data['engine_power'].isnull()) & (raw_data['gearbox'].isnull())\n",
    "any_null_mask = (raw_data['engine_capacity'].isnull()) | (raw_data['engine_power'].isnull()) | (raw_data['gearbox'].isnull())\n",
    "\n",
    "print(f\"There are {raw_data[any_null_mask].shape[0]} records with some null values left (including potential unions).\")"
   ]
  },
  {
   "cell_type": "code",
   "execution_count": 14,
   "metadata": {},
   "outputs": [
    {
     "data": {
      "text/html": [
       "<div>\n",
       "<style scoped>\n",
       "    .dataframe tbody tr th:only-of-type {\n",
       "        vertical-align: middle;\n",
       "    }\n",
       "\n",
       "    .dataframe tbody tr th {\n",
       "        vertical-align: top;\n",
       "    }\n",
       "\n",
       "    .dataframe thead th {\n",
       "        text-align: right;\n",
       "    }\n",
       "</style>\n",
       "<table border=\"1\" class=\"dataframe\">\n",
       "  <thead>\n",
       "    <tr style=\"text-align: right;\">\n",
       "      <th></th>\n",
       "      <th>make</th>\n",
       "      <th>model</th>\n",
       "      <th>vehicle_year</th>\n",
       "      <th>mileage</th>\n",
       "      <th>engine_capacity</th>\n",
       "      <th>engine_power</th>\n",
       "      <th>gearbox</th>\n",
       "      <th>fuel_type</th>\n",
       "      <th>damaged</th>\n",
       "      <th>is_business</th>\n",
       "      <th>target_price</th>\n",
       "    </tr>\n",
       "  </thead>\n",
       "  <tbody>\n",
       "    <tr>\n",
       "      <th>243</th>\n",
       "      <td>audi</td>\n",
       "      <td>a5</td>\n",
       "      <td>2008</td>\n",
       "      <td>217000.0</td>\n",
       "      <td>NaN</td>\n",
       "      <td>NaN</td>\n",
       "      <td>NaN</td>\n",
       "      <td>diesel</td>\n",
       "      <td>0</td>\n",
       "      <td>0</td>\n",
       "      <td>35999.0</td>\n",
       "    </tr>\n",
       "    <tr>\n",
       "      <th>353</th>\n",
       "      <td>mini</td>\n",
       "      <td>clubman</td>\n",
       "      <td>2018</td>\n",
       "      <td>25500.0</td>\n",
       "      <td>NaN</td>\n",
       "      <td>NaN</td>\n",
       "      <td>NaN</td>\n",
       "      <td>petrol</td>\n",
       "      <td>0</td>\n",
       "      <td>0</td>\n",
       "      <td>84900.0</td>\n",
       "    </tr>\n",
       "    <tr>\n",
       "      <th>363</th>\n",
       "      <td>seat</td>\n",
       "      <td>leon</td>\n",
       "      <td>2008</td>\n",
       "      <td>128933.0</td>\n",
       "      <td>1600.0</td>\n",
       "      <td>102.0</td>\n",
       "      <td>NaN</td>\n",
       "      <td>petrol</td>\n",
       "      <td>0</td>\n",
       "      <td>0</td>\n",
       "      <td>17200.0</td>\n",
       "    </tr>\n",
       "    <tr>\n",
       "      <th>413</th>\n",
       "      <td>opel</td>\n",
       "      <td>zafira</td>\n",
       "      <td>2009</td>\n",
       "      <td>189000.0</td>\n",
       "      <td>1800.0</td>\n",
       "      <td>140.0</td>\n",
       "      <td>NaN</td>\n",
       "      <td>petrol</td>\n",
       "      <td>0</td>\n",
       "      <td>1</td>\n",
       "      <td>18500.0</td>\n",
       "    </tr>\n",
       "    <tr>\n",
       "      <th>473</th>\n",
       "      <td>mazda</td>\n",
       "      <td>6</td>\n",
       "      <td>2014</td>\n",
       "      <td>62000.0</td>\n",
       "      <td>NaN</td>\n",
       "      <td>NaN</td>\n",
       "      <td>NaN</td>\n",
       "      <td>petrol</td>\n",
       "      <td>0</td>\n",
       "      <td>0</td>\n",
       "      <td>45500.0</td>\n",
       "    </tr>\n",
       "  </tbody>\n",
       "</table>\n",
       "</div>"
      ],
      "text/plain": [
       "      make    model  vehicle_year   mileage  engine_capacity  engine_power  \\\n",
       "243   audi       a5          2008  217000.0              NaN           NaN   \n",
       "353   mini  clubman          2018   25500.0              NaN           NaN   \n",
       "363   seat     leon          2008  128933.0           1600.0         102.0   \n",
       "413   opel   zafira          2009  189000.0           1800.0         140.0   \n",
       "473  mazda        6          2014   62000.0              NaN           NaN   \n",
       "\n",
       "    gearbox fuel_type  damaged  is_business  target_price  \n",
       "243     NaN    diesel        0            0       35999.0  \n",
       "353     NaN    petrol        0            0       84900.0  \n",
       "363     NaN    petrol        0            0       17200.0  \n",
       "413     NaN    petrol        0            1       18500.0  \n",
       "473     NaN    petrol        0            0       45500.0  "
      ]
     },
     "execution_count": 14,
     "metadata": {},
     "output_type": "execute_result"
    }
   ],
   "source": [
    "raw_data[any_null_mask].head(5)"
   ]
  },
  {
   "cell_type": "markdown",
   "metadata": {},
   "source": [
    "First, to make our work a little faster and easier, let's manually mask electric cars with null `engine_capacity` as 0s. We don't have any better solution since it's not possible to estimate it off of some other feature. Additionally, some of the electric cars have wrongly labeled engine capacities, we'll kill two birds with one stone and set all of the electric cars `engine_capacity` to 0."
   ]
  },
  {
   "cell_type": "code",
   "execution_count": 15,
   "metadata": {},
   "outputs": [],
   "source": [
    "raw_data['engine_capacity'] = raw_data['engine_capacity'].mask((raw_data['fuel_type'] == 'electric'), 0)"
   ]
  },
  {
   "cell_type": "markdown",
   "metadata": {},
   "source": [
    "Now, for each of the records, we'll find what the most common values are for `engine_capacity`, `engine_power` and `gearbox` for the same `make`, `model`, `fuel_type` and `vehicle_year` within +- 1 year. While not the perfect solution, it's definitely better than just imputing the most common value from all of the data. \n",
    "\n",
    "We'll also save the indexes of the data we were imputing, to check if we imputed something that wouldn't make sense. \n",
    "\n",
    "For example, let's take a look at the first car in the output above - Audi A5 from 2008 with a diesel engine and see what's the most frequent engine capacity:"
   ]
  },
  {
   "cell_type": "code",
   "execution_count": 16,
   "metadata": {},
   "outputs": [
    {
     "data": {
      "text/plain": [
       "2698.0"
      ]
     },
     "execution_count": 16,
     "metadata": {},
     "output_type": "execute_result"
    }
   ],
   "source": [
    "correctness_check_index = raw_data[any_null_mask].index\n",
    "\n",
    "search_mask = ((raw_data['make'] == 'audi') & \n",
    "               (raw_data['model'] == 'a5') & \n",
    "               (raw_data['vehicle_year'] == 2008) & \n",
    "               (raw_data['fuel_type'] == 'diesel'))\n",
    "result_value = raw_data[search_mask]['engine_capacity'].value_counts(dropna=True).index[0]\n",
    "result_value"
   ]
  },
  {
   "cell_type": "markdown",
   "metadata": {},
   "source": [
    "Generally speaking, iterating over dataframe's rows is a really bad idea (the performance hit), but what we're trying to do here is a an example of a perfectly fine reason to want to iterate over a dataframe: we want to execute some code using the values of each row as input (which would be necessary for a search mask unique to every single row with null values. \n",
    "\n",
    "In this case, we'll use indexes (to speed things up a bit) and try to limit the number of data needed as soon in the process as possible."
   ]
  },
  {
   "cell_type": "code",
   "execution_count": 17,
   "metadata": {},
   "outputs": [],
   "source": [
    "def impute_by_most_freq(dataset, colname, data_to_impute_index, error_impute_value):\n",
    "    \n",
    "    for index in data_to_impute_index:\n",
    "        col_index = dataset.columns.get_loc(colname)\n",
    "        current_search_mask = ((dataset['make'] == dataset['make'][index]) & \n",
    "                               (dataset['model'] == dataset['model'][index]) & \n",
    "                               (dataset['vehicle_year'] <= (dataset['vehicle_year'][index] + 1)) & \n",
    "                               (dataset['vehicle_year'] >= (dataset['vehicle_year'][index] - 1)) &\n",
    "                               (dataset['fuel_type'] == dataset['fuel_type'][index]))\n",
    "        \n",
    "        current_result_val = dataset[current_search_mask][colname].value_counts(dropna=True)\n",
    "        try:\n",
    "            most_freq_val = current_result_val.index[0]\n",
    "        except IndexError:\n",
    "            most_freq_val = error_impute_value\n",
    "        \n",
    "        dataset.iat[index, col_index] = most_freq_val   "
   ]
  },
  {
   "cell_type": "code",
   "execution_count": 18,
   "metadata": {},
   "outputs": [],
   "source": [
    "impute_by_most_freq(raw_data, 'engine_capacity', raw_data[raw_data['engine_capacity'].isnull()].index, 0)\n",
    "impute_by_most_freq(raw_data, 'engine_power', raw_data[raw_data['engine_power'].isnull()].index, 0)\n",
    "impute_by_most_freq(raw_data, 'gearbox', raw_data[raw_data['gearbox'].isnull()].index, 'not_found')"
   ]
  },
  {
   "cell_type": "markdown",
   "metadata": {},
   "source": [
    "Now that all the null values are dealt with, let's move on to the data preprocessing. "
   ]
  },
  {
   "cell_type": "markdown",
   "metadata": {},
   "source": [
    "## Preprocessing and feature transformation"
   ]
  },
  {
   "cell_type": "markdown",
   "metadata": {},
   "source": [
    "Now that missing values are dealt with, we need to make the remaining data as simple as possible, without adding bias or removing variance. First, to pick up right where we left off, let's try to simplify `gearbox` values."
   ]
  },
  {
   "cell_type": "code",
   "execution_count": 19,
   "metadata": {},
   "outputs": [
    {
     "data": {
      "text/html": [
       "<div>\n",
       "<style scoped>\n",
       "    .dataframe tbody tr th:only-of-type {\n",
       "        vertical-align: middle;\n",
       "    }\n",
       "\n",
       "    .dataframe tbody tr th {\n",
       "        vertical-align: top;\n",
       "    }\n",
       "\n",
       "    .dataframe thead th {\n",
       "        text-align: right;\n",
       "    }\n",
       "</style>\n",
       "<table border=\"1\" class=\"dataframe\">\n",
       "  <thead>\n",
       "    <tr style=\"text-align: right;\">\n",
       "      <th></th>\n",
       "      <th>make</th>\n",
       "      <th>model</th>\n",
       "      <th>vehicle_year</th>\n",
       "      <th>mileage</th>\n",
       "      <th>engine_capacity</th>\n",
       "      <th>engine_power</th>\n",
       "      <th>gearbox</th>\n",
       "      <th>fuel_type</th>\n",
       "      <th>damaged</th>\n",
       "      <th>is_business</th>\n",
       "      <th>target_price</th>\n",
       "    </tr>\n",
       "  </thead>\n",
       "  <tbody>\n",
       "    <tr>\n",
       "      <th>0</th>\n",
       "      <td>audi</td>\n",
       "      <td>a6</td>\n",
       "      <td>2013</td>\n",
       "      <td>153817.0</td>\n",
       "      <td>1984.0</td>\n",
       "      <td>180.0</td>\n",
       "      <td>automatic</td>\n",
       "      <td>petrol</td>\n",
       "      <td>0</td>\n",
       "      <td>0</td>\n",
       "      <td>69900.0</td>\n",
       "    </tr>\n",
       "    <tr>\n",
       "      <th>1</th>\n",
       "      <td>skoda</td>\n",
       "      <td>fabia</td>\n",
       "      <td>2004</td>\n",
       "      <td>115000.0</td>\n",
       "      <td>1390.0</td>\n",
       "      <td>75.0</td>\n",
       "      <td>manual</td>\n",
       "      <td>petrol</td>\n",
       "      <td>0</td>\n",
       "      <td>1</td>\n",
       "      <td>8299.0</td>\n",
       "    </tr>\n",
       "    <tr>\n",
       "      <th>2</th>\n",
       "      <td>chevrolet</td>\n",
       "      <td>camaro</td>\n",
       "      <td>2012</td>\n",
       "      <td>299000.0</td>\n",
       "      <td>3600.0</td>\n",
       "      <td>323.0</td>\n",
       "      <td>automatic</td>\n",
       "      <td>petrol</td>\n",
       "      <td>0</td>\n",
       "      <td>1</td>\n",
       "      <td>54500.0</td>\n",
       "    </tr>\n",
       "  </tbody>\n",
       "</table>\n",
       "</div>"
      ],
      "text/plain": [
       "        make   model  vehicle_year   mileage  engine_capacity  engine_power  \\\n",
       "0       audi      a6          2013  153817.0           1984.0         180.0   \n",
       "1      skoda   fabia          2004  115000.0           1390.0          75.0   \n",
       "2  chevrolet  camaro          2012  299000.0           3600.0         323.0   \n",
       "\n",
       "     gearbox fuel_type  damaged  is_business  target_price  \n",
       "0  automatic    petrol        0            0       69900.0  \n",
       "1     manual    petrol        0            1        8299.0  \n",
       "2  automatic    petrol        0            1       54500.0  "
      ]
     },
     "execution_count": 19,
     "metadata": {},
     "output_type": "execute_result"
    }
   ],
   "source": [
    "raw_data.head(3)"
   ]
  },
  {
   "cell_type": "code",
   "execution_count": 20,
   "metadata": {},
   "outputs": [
    {
     "data": {
      "text/plain": [
       "manual                           65.236389\n",
       "automatic                        32.693846\n",
       "dual-clutch                       1.131387\n",
       "cvt                               0.846722\n",
       "semi-automatic                    0.040251\n",
       "not_found                         0.025217\n",
       "automatic-stepless                0.015033\n",
       "automatic-sequential              0.004365\n",
       "automated-manual                  0.003395\n",
       "automatic-stepless-sequential     0.002910\n",
       "manual-sequential                 0.000485\n",
       "Name: gearbox, dtype: float64"
      ]
     },
     "execution_count": 20,
     "metadata": {},
     "output_type": "execute_result"
    }
   ],
   "source": [
    "raw_data['gearbox'].value_counts(normalize=True)*100"
   ]
  },
  {
   "cell_type": "markdown",
   "metadata": {},
   "source": [
    "It's evident that values less frequent than CVT transmissions are basically early versions of automatic, so we can simplify those and not loose too much signal in our data."
   ]
  },
  {
   "cell_type": "code",
   "execution_count": 21,
   "metadata": {},
   "outputs": [],
   "source": [
    "automatic_like = ['semi-automatic', 'automatic-stepless', 'automatic-sequential', 'not_found', \n",
    "                  'automated-manual', 'automatic-stepless-sequential', 'manual-sequential']\n",
    "\n",
    "gearbox_index = raw_data[raw_data['gearbox'].isin(automatic_like)].index\n",
    "\n",
    "for index in gearbox_index:\n",
    "    raw_data.iat[index, 6] = 'automatic'"
   ]
  },
  {
   "cell_type": "markdown",
   "metadata": {},
   "source": [
    "The only other feature we can simplify is fuel_type. Let's take a look."
   ]
  },
  {
   "cell_type": "code",
   "execution_count": 22,
   "metadata": {},
   "outputs": [
    {
     "data": {
      "text/plain": [
       "petrol        50.300426\n",
       "diesel        42.515046\n",
       "petrol-lpg     4.197239\n",
       "hybrid         2.476153\n",
       "electric       0.482040\n",
       "petrol-cng     0.028612\n",
       "etanol         0.000485\n",
       "Name: fuel_type, dtype: float64"
      ]
     },
     "execution_count": 22,
     "metadata": {},
     "output_type": "execute_result"
    }
   ],
   "source": [
    "raw_data['fuel_type'].value_counts(normalize=True)*100"
   ]
  },
  {
   "cell_type": "markdown",
   "metadata": {},
   "source": [
    "We'll delete etanol-based car at the very end since all of the values in that record are outliers anyways and leave the rest intact, since they can have some impact on target price (cng-based cars are different from the factory)"
   ]
  },
  {
   "cell_type": "markdown",
   "metadata": {},
   "source": [
    "## Checking out target variable"
   ]
  },
  {
   "cell_type": "markdown",
   "metadata": {},
   "source": [
    "An important part of the regression task is to check the target variable's distribution. If it doesn't follow normal, we can transform it accordingly. It's done mainly because some algorithms which we may end up using, expect the values to follow a normal distribution, while others don't care and most likely won't worsen the performance anyways."
   ]
  },
  {
   "cell_type": "code",
   "execution_count": 23,
   "metadata": {},
   "outputs": [],
   "source": [
    "def draw_hist_qq(data, target, do_log_transform=False):\n",
    "    if do_log_transform:\n",
    "        target = np.log1p(data[target])\n",
    "    else:\n",
    "        target = data[target]\n",
    "\n",
    "    sns.distplot(target, fit=stats.norm)\n",
    "    (mu, sigma) = stats.norm.fit(target)\n",
    "    plt.legend(['Normal dist. ($\\mu=$ {:.2f} and $\\sigma=$ {:.2f} )'.format(mu, sigma)], loc='best')\n",
    "    plt.ylabel('Frequency')\n",
    "    plt.title('Feature distribution')\n",
    "\n",
    "    fig = plt.figure()\n",
    "    res = stats.probplot(target, plot=plt)\n",
    "    plt.show()\n",
    "\n",
    "    print( '\\n mu = {:.2f} and sigma = {:.2f}\\n'.format(mu, sigma))"
   ]
  },
  {
   "cell_type": "code",
   "execution_count": 24,
   "metadata": {},
   "outputs": [
    {
     "name": "stderr",
     "output_type": "stream",
     "text": [
      "`distplot` is a deprecated function and will be removed in a future version. Please adapt your code to use either `displot` (a figure-level function with similar flexibility) or `histplot` (an axes-level function for histograms).\n"
     ]
    },
    {
     "data": {
      "image/png": "[encoded data removed]",
      "text/plain": [
       "<Figure size 432x288 with 1 Axes>"
      ]
     },
     "metadata": {
      "needs_background": "light"
     },
     "output_type": "display_data"
    },
    {
     "data": {
      "image/png": "[encoded data removed]",
      "text/plain": [
       "<Figure size 432x288 with 1 Axes>"
      ]
     },
     "metadata": {
      "needs_background": "light"
     },
     "output_type": "display_data"
    },
    {
     "name": "stdout",
     "output_type": "stream",
     "text": [
      "\n",
      " mu = 62735.19 and sigma = 86045.75\n",
      "\n"
     ]
    }
   ],
   "source": [
    "draw_hist_qq(raw_data, 'target_price', do_log_transform=False)"
   ]
  },
  {
   "cell_type": "markdown",
   "metadata": {},
   "source": [
    "As You can see, without any modifications, the distribution isn't even close to being normal. There appear to be some outliers on the top end as well. Let's see if a log transformation makes a difference."
   ]
  },
  {
   "cell_type": "code",
   "execution_count": 25,
   "metadata": {},
   "outputs": [
    {
     "name": "stderr",
     "output_type": "stream",
     "text": [
      "`distplot` is a deprecated function and will be removed in a future version. Please adapt your code to use either `displot` (a figure-level function with similar flexibility) or `histplot` (an axes-level function for histograms).\n"
     ]
    },
    {
     "data": {
      "image/png": "[encoded data removed]",
      "text/plain": [
       "<Figure size 432x288 with 1 Axes>"
      ]
     },
     "metadata": {
      "needs_background": "light"
     },
     "output_type": "display_data"
    },
    {
     "data": {
      "image/png": "[encoded data removed]",
      "text/plain": [
       "<Figure size 432x288 with 1 Axes>"
      ]
     },
     "metadata": {
      "needs_background": "light"
     },
     "output_type": "display_data"
    },
    {
     "name": "stdout",
     "output_type": "stream",
     "text": [
      "\n",
      " mu = 10.52 and sigma = 1.03\n",
      "\n"
     ]
    }
   ],
   "source": [
    "draw_hist_qq(raw_data, 'target_price', do_log_transform=True)"
   ]
  },
  {
   "cell_type": "markdown",
   "metadata": {},
   "source": [
    "It indeed does! Looks like the outliers aren't even as extreme as we thought in the first place. QQ plot tells us, that we're now dealing with almost perfect normally distributed data.\n",
    "\n",
    "Normally, I would either use interquartile ranges to delete outliers, or if the data is normally distributed I would use a 3-sigma rule, however it looks as if it's not neccessary in this case."
   ]
  },
  {
   "cell_type": "markdown",
   "metadata": {},
   "source": [
    "While we're at it, let's check the correlation with our target variable, before we make any changes to the data or perform feature engineering (we'll revisit this later). Throughout the notebook, we'll most likely use Spearman correlation, as it has a chance of picking up non-linear relationships in data (unlike Pearson)."
   ]
  },
  {
   "cell_type": "code",
   "execution_count": 26,
   "metadata": {},
   "outputs": [
    {
     "data": {
      "image/png": "[encoded data removed]",
      "text/plain": [
       "<Figure size 1224x72 with 2 Axes>"
      ]
     },
     "metadata": {
      "needs_background": "light"
     },
     "output_type": "display_data"
    }
   ],
   "source": [
    "target_corr = raw_data.corr('spearman')\n",
    "f,ax = plt.subplots(figsize=(17,1))\n",
    "sns.heatmap(target_corr.sort_values(by=['target_price'], ascending=False).head(1), \n",
    "            cmap='RdYlGn', center=0, annot=True)\n",
    "plt.title(\"Correlation with target group\", fontsize=18)\n",
    "\n",
    "plt.show()"
   ]
  },
  {
   "cell_type": "markdown",
   "metadata": {},
   "source": [
    "Looks like we have some decent correlation with `target_price` and pretty much all the features are somewhat important, except for `damaged` - I suspect due to the fact that not many cars are damaged (relatively speaking). "
   ]
  },
  {
   "cell_type": "code",
   "execution_count": 27,
   "metadata": {},
   "outputs": [
    {
     "name": "stdout",
     "output_type": "stream",
     "text": [
      "Percent of cars listed as damaged: 3.806\n"
     ]
    }
   ],
   "source": [
    "damaged_cars_pct = (raw_data[raw_data['damaged'] == 1].shape[0] / raw_data.shape[0]) * 100\n",
    "print(f\"Percent of cars listed as damaged: {round(damaged_cars_pct, 3)}\")"
   ]
  },
  {
   "cell_type": "markdown",
   "metadata": {},
   "source": [
    "## Quantitative features - outliers"
   ]
  },
  {
   "cell_type": "markdown",
   "metadata": {},
   "source": [
    "Now, since there are some feautres that look like outliers, we'll have to decide what to do with these. In general, I wouldn't want to correct outliers in target variable, since we would be prone to introducing too much bias into our predictions. \n",
    "\n",
    "Let's write a little piece of code to see how much data we would loose if we were to delete outliers using interquartile ranges without any in-depth analysis. "
   ]
  },
  {
   "cell_type": "code",
   "execution_count": 28,
   "metadata": {},
   "outputs": [],
   "source": [
    "def remove_outliers(data, column, degree):\n",
    "    quartile_1 = np.percentile(data[column], 25)\n",
    "    quartile_3 = np.percentile(data[column], 75)\n",
    "    interquartile_range = quartile_3 - quartile_1\n",
    "    cut_off = interquartile_range * degree\n",
    "    lower_bound, upper_bound = quartile_1 - cut_off, quartile_3 + cut_off\n",
    "    dataset_size = data.shape[0]\n",
    "    outliers = [x for x in data[column] if x < lower_bound or x > upper_bound]\n",
    "    data = data.drop(data[(data[column] > upper_bound) | (data[column] < lower_bound)].index)\n",
    "\n",
    "    print(f'{column.title()} outliers in total: {len(outliers)}, data loss: {(len(outliers)/dataset_size)*100}%')\n",
    "    return data"
   ]
  },
  {
   "cell_type": "code",
   "execution_count": 29,
   "metadata": {},
   "outputs": [
    {
     "name": "stdout",
     "output_type": "stream",
     "text": [
      "Target_Price outliers in total: 5065, data loss: 2.456269670767724%\n",
      "The dataset would consist of 201142\n"
     ]
    }
   ],
   "source": [
    "no_outliers_df = remove_outliers(raw_data, 'target_price', 3.5)\n",
    "print(f\"The dataset would consist of {no_outliers_df.shape[0]}\")"
   ]
  },
  {
   "cell_type": "code",
   "execution_count": 30,
   "metadata": {},
   "outputs": [
    {
     "name": "stdout",
     "output_type": "stream",
     "text": [
      "Engine_Capacity outliers in total: 5362, data loss: 2.600299698846305%\n",
      "The dataset would consist of 200845\n"
     ]
    }
   ],
   "source": [
    "no_outliers_df = remove_outliers(raw_data, 'engine_capacity', 3.5)\n",
    "print(f\"The dataset would consist of {no_outliers_df.shape[0]}\")"
   ]
  },
  {
   "cell_type": "code",
   "execution_count": 31,
   "metadata": {},
   "outputs": [
    {
     "name": "stdout",
     "output_type": "stream",
     "text": [
      "Engine_Power outliers in total: 4144, data loss: 2.0096310988472745%\n",
      "The dataset would consist of 202063\n"
     ]
    }
   ],
   "source": [
    "no_outliers_df = remove_outliers(raw_data, 'engine_power', 3.5)\n",
    "print(f\"The dataset would consist of {no_outliers_df.shape[0]}\")"
   ]
  },
  {
   "cell_type": "code",
   "execution_count": 32,
   "metadata": {},
   "outputs": [
    {
     "name": "stdout",
     "output_type": "stream",
     "text": [
      "Mileage outliers in total: 77, data loss: 0.037341118390743284%\n",
      "The dataset would consist of 206130\n"
     ]
    }
   ],
   "source": [
    "no_outliers_df = remove_outliers(raw_data, 'mileage', 3.5)\n",
    "print(f\"The dataset would consist of {no_outliers_df.shape[0]}\")"
   ]
  },
  {
   "cell_type": "code",
   "execution_count": 33,
   "metadata": {},
   "outputs": [
    {
     "name": "stdout",
     "output_type": "stream",
     "text": [
      "Vehicle_Year outliers in total: 506, data loss: 0.24538449228202727%\n",
      "The dataset would consist of 205701\n"
     ]
    }
   ],
   "source": [
    "no_outliers_df = remove_outliers(raw_data, 'vehicle_year', 3.5)\n",
    "print(f\"The dataset would consist of {no_outliers_df.shape[0]}\")"
   ]
  },
  {
   "cell_type": "markdown",
   "metadata": {},
   "source": [
    "If we were to blindly apply the outlier removal method, we would potentially use a substantial amount of data. Instead, I've come up with a better solution:\n",
    "- **engine_capacity**: there aren't any outliers here, at least as far as I can tell\n",
    "- **engine_power**: sports cars with lots of power must have larger engines. Anything with more than 500 HP but engine smaller than 2800 (excluding electric cars of course) will be considered an outlier and corrected to the most common value for that specific model\n",
    "- **mileage**:  we can easily correct the outliers by having the average miles for the same exact car, that way we won't underestimate mileage for trucks and overestimate for passenger cars. While a quick look at otomoto makes me think some of these had 0s added as an accident (e.g. 1.7M KM instead of 170K KM), this method is relatively good and should produce acceptable results. Anything with over 500K KM will be imputed.\n",
    "- **vehicle_year**: in this case, there wasn't any badly labeled data, as some of these cars are classics comanding high prices, with a fraction having virtually no mileage, meaning they were restored. Rather than deleting them or altering data, let's introduce a new feature for classic cars.\n",
    "\n",
    "Luckily, we already have a function that does all the work for us."
   ]
  },
  {
   "cell_type": "code",
   "execution_count": 34,
   "metadata": {},
   "outputs": [],
   "source": [
    "eng_pow_index = raw_data[(raw_data['engine_power'] > 500) & \n",
    "                         (raw_data['engine_capacity'] < 2800) & \n",
    "                         (raw_data['fuel_type'] != 'electric')].index\n",
    "mileage_index = raw_data[raw_data['mileage'] > 500000].index\n",
    "\n",
    "impute_by_most_freq(raw_data, 'engine_power', eng_pow_index, 0)\n",
    "impute_by_most_freq(raw_data, 'mileage', mileage_index, 0)"
   ]
  },
  {
   "cell_type": "code",
   "execution_count": 35,
   "metadata": {},
   "outputs": [
    {
     "data": {
      "text/html": [
       "<div>\n",
       "<style scoped>\n",
       "    .dataframe tbody tr th:only-of-type {\n",
       "        vertical-align: middle;\n",
       "    }\n",
       "\n",
       "    .dataframe tbody tr th {\n",
       "        vertical-align: top;\n",
       "    }\n",
       "\n",
       "    .dataframe thead th {\n",
       "        text-align: right;\n",
       "    }\n",
       "</style>\n",
       "<table border=\"1\" class=\"dataframe\">\n",
       "  <thead>\n",
       "    <tr style=\"text-align: right;\">\n",
       "      <th></th>\n",
       "      <th>make</th>\n",
       "      <th>model</th>\n",
       "      <th>vehicle_year</th>\n",
       "      <th>mileage</th>\n",
       "      <th>engine_capacity</th>\n",
       "      <th>engine_power</th>\n",
       "      <th>gearbox</th>\n",
       "      <th>fuel_type</th>\n",
       "      <th>damaged</th>\n",
       "      <th>is_business</th>\n",
       "      <th>target_price</th>\n",
       "    </tr>\n",
       "  </thead>\n",
       "  <tbody>\n",
       "    <tr>\n",
       "      <th>81548</th>\n",
       "      <td>mclaren</td>\n",
       "      <td>600lt-coupe</td>\n",
       "      <td>2018</td>\n",
       "      <td>2.0</td>\n",
       "      <td>0.0</td>\n",
       "      <td>600.0</td>\n",
       "      <td>dual-clutch</td>\n",
       "      <td>petrol</td>\n",
       "      <td>0</td>\n",
       "      <td>1</td>\n",
       "      <td>1399351.0</td>\n",
       "    </tr>\n",
       "    <tr>\n",
       "      <th>149052</th>\n",
       "      <td>nissan</td>\n",
       "      <td>200-sx</td>\n",
       "      <td>1994</td>\n",
       "      <td>5000.0</td>\n",
       "      <td>2600.0</td>\n",
       "      <td>620.0</td>\n",
       "      <td>manual</td>\n",
       "      <td>petrol</td>\n",
       "      <td>0</td>\n",
       "      <td>0</td>\n",
       "      <td>110000.0</td>\n",
       "    </tr>\n",
       "    <tr>\n",
       "      <th>150926</th>\n",
       "      <td>peugeot</td>\n",
       "      <td>partner</td>\n",
       "      <td>2020</td>\n",
       "      <td>2.0</td>\n",
       "      <td>1499.0</td>\n",
       "      <td>1000.0</td>\n",
       "      <td>manual</td>\n",
       "      <td>diesel</td>\n",
       "      <td>0</td>\n",
       "      <td>1</td>\n",
       "      <td>75900.0</td>\n",
       "    </tr>\n",
       "    <tr>\n",
       "      <th>190872</th>\n",
       "      <td>mclaren</td>\n",
       "      <td>altul</td>\n",
       "      <td>2019</td>\n",
       "      <td>1.0</td>\n",
       "      <td>0.0</td>\n",
       "      <td>620.0</td>\n",
       "      <td>automatic</td>\n",
       "      <td>petrol</td>\n",
       "      <td>0</td>\n",
       "      <td>1</td>\n",
       "      <td>1313736.0</td>\n",
       "    </tr>\n",
       "  </tbody>\n",
       "</table>\n",
       "</div>"
      ],
      "text/plain": [
       "           make        model  vehicle_year  mileage  engine_capacity  \\\n",
       "81548   mclaren  600lt-coupe          2018      2.0              0.0   \n",
       "149052   nissan       200-sx          1994   5000.0           2600.0   \n",
       "150926  peugeot      partner          2020      2.0           1499.0   \n",
       "190872  mclaren        altul          2019      1.0              0.0   \n",
       "\n",
       "        engine_power      gearbox fuel_type  damaged  is_business  \\\n",
       "81548          600.0  dual-clutch    petrol        0            1   \n",
       "149052         620.0       manual    petrol        0            0   \n",
       "150926        1000.0       manual    diesel        0            1   \n",
       "190872         620.0    automatic    petrol        0            1   \n",
       "\n",
       "        target_price  \n",
       "81548      1399351.0  \n",
       "149052      110000.0  \n",
       "150926       75900.0  \n",
       "190872     1313736.0  "
      ]
     },
     "execution_count": 35,
     "metadata": {},
     "output_type": "execute_result"
    }
   ],
   "source": [
    "raw_data[(raw_data['engine_power'] > 500) & \n",
    "         (raw_data['engine_capacity'] < 2800) & \n",
    "         (raw_data['fuel_type'] != 'electric')]"
   ]
  },
  {
   "cell_type": "markdown",
   "metadata": {},
   "source": [
    "Looks like for the most part, our techinque worked once again. in the case of engine capacity and power, we have 4 rows left, 3 of which we can impute manually off of data from the internet and 1 of which is a modified car and needs no correction."
   ]
  },
  {
   "cell_type": "code",
   "execution_count": 36,
   "metadata": {},
   "outputs": [],
   "source": [
    "raw_data.iat[81548, 4] = 3799.0\n",
    "raw_data.iat[190872, 4] = 3799.0\n",
    "raw_data.iat[150926, 5] = 130.0"
   ]
  },
  {
   "cell_type": "markdown",
   "metadata": {},
   "source": [
    "Now the mileage"
   ]
  },
  {
   "cell_type": "code",
   "execution_count": 37,
   "metadata": {},
   "outputs": [
    {
     "data": {
      "text/html": [
       "<div>\n",
       "<style scoped>\n",
       "    .dataframe tbody tr th:only-of-type {\n",
       "        vertical-align: middle;\n",
       "    }\n",
       "\n",
       "    .dataframe tbody tr th {\n",
       "        vertical-align: top;\n",
       "    }\n",
       "\n",
       "    .dataframe thead th {\n",
       "        text-align: right;\n",
       "    }\n",
       "</style>\n",
       "<table border=\"1\" class=\"dataframe\">\n",
       "  <thead>\n",
       "    <tr style=\"text-align: right;\">\n",
       "      <th></th>\n",
       "      <th>make</th>\n",
       "      <th>model</th>\n",
       "      <th>vehicle_year</th>\n",
       "      <th>mileage</th>\n",
       "      <th>engine_capacity</th>\n",
       "      <th>engine_power</th>\n",
       "      <th>gearbox</th>\n",
       "      <th>fuel_type</th>\n",
       "      <th>damaged</th>\n",
       "      <th>is_business</th>\n",
       "      <th>target_price</th>\n",
       "    </tr>\n",
       "  </thead>\n",
       "  <tbody>\n",
       "    <tr>\n",
       "      <th>2297</th>\n",
       "      <td>iveco</td>\n",
       "      <td>massif</td>\n",
       "      <td>2015</td>\n",
       "      <td>904300.0</td>\n",
       "      <td>3000.0</td>\n",
       "      <td>180.0</td>\n",
       "      <td>manual</td>\n",
       "      <td>diesel</td>\n",
       "      <td>0</td>\n",
       "      <td>0</td>\n",
       "      <td>55000.0</td>\n",
       "    </tr>\n",
       "    <tr>\n",
       "      <th>12600</th>\n",
       "      <td>volkswagen</td>\n",
       "      <td>lt</td>\n",
       "      <td>2001</td>\n",
       "      <td>590000.0</td>\n",
       "      <td>2461.0</td>\n",
       "      <td>109.0</td>\n",
       "      <td>manual</td>\n",
       "      <td>diesel</td>\n",
       "      <td>0</td>\n",
       "      <td>0</td>\n",
       "      <td>7999.0</td>\n",
       "    </tr>\n",
       "    <tr>\n",
       "      <th>20171</th>\n",
       "      <td>renault</td>\n",
       "      <td>master</td>\n",
       "      <td>2015</td>\n",
       "      <td>850000.0</td>\n",
       "      <td>2299.0</td>\n",
       "      <td>125.0</td>\n",
       "      <td>manual</td>\n",
       "      <td>diesel</td>\n",
       "      <td>0</td>\n",
       "      <td>1</td>\n",
       "      <td>45510.0</td>\n",
       "    </tr>\n",
       "    <tr>\n",
       "      <th>20231</th>\n",
       "      <td>renault</td>\n",
       "      <td>master</td>\n",
       "      <td>2014</td>\n",
       "      <td>850000.0</td>\n",
       "      <td>2299.0</td>\n",
       "      <td>135.0</td>\n",
       "      <td>manual</td>\n",
       "      <td>diesel</td>\n",
       "      <td>0</td>\n",
       "      <td>1</td>\n",
       "      <td>43050.0</td>\n",
       "    </tr>\n",
       "    <tr>\n",
       "      <th>25782</th>\n",
       "      <td>volvo</td>\n",
       "      <td>v70</td>\n",
       "      <td>2010</td>\n",
       "      <td>555000.0</td>\n",
       "      <td>2500.0</td>\n",
       "      <td>230.0</td>\n",
       "      <td>automatic</td>\n",
       "      <td>petrol-cng</td>\n",
       "      <td>0</td>\n",
       "      <td>1</td>\n",
       "      <td>16800.0</td>\n",
       "    </tr>\n",
       "    <tr>\n",
       "      <th>...</th>\n",
       "      <td>...</td>\n",
       "      <td>...</td>\n",
       "      <td>...</td>\n",
       "      <td>...</td>\n",
       "      <td>...</td>\n",
       "      <td>...</td>\n",
       "      <td>...</td>\n",
       "      <td>...</td>\n",
       "      <td>...</td>\n",
       "      <td>...</td>\n",
       "      <td>...</td>\n",
       "    </tr>\n",
       "    <tr>\n",
       "      <th>178967</th>\n",
       "      <td>audi</td>\n",
       "      <td>100</td>\n",
       "      <td>1996</td>\n",
       "      <td>624000.0</td>\n",
       "      <td>1760.0</td>\n",
       "      <td>100.0</td>\n",
       "      <td>manual</td>\n",
       "      <td>petrol-lpg</td>\n",
       "      <td>0</td>\n",
       "      <td>0</td>\n",
       "      <td>1799.0</td>\n",
       "    </tr>\n",
       "    <tr>\n",
       "      <th>185579</th>\n",
       "      <td>bmw</td>\n",
       "      <td>other</td>\n",
       "      <td>1956</td>\n",
       "      <td>111111110.0</td>\n",
       "      <td>2000.0</td>\n",
       "      <td>55.0</td>\n",
       "      <td>manual</td>\n",
       "      <td>petrol</td>\n",
       "      <td>0</td>\n",
       "      <td>0</td>\n",
       "      <td>35900.0</td>\n",
       "    </tr>\n",
       "    <tr>\n",
       "      <th>189996</th>\n",
       "      <td>mercedes-benz</td>\n",
       "      <td>sprinter</td>\n",
       "      <td>2010</td>\n",
       "      <td>550000.0</td>\n",
       "      <td>2200.0</td>\n",
       "      <td>130.0</td>\n",
       "      <td>manual</td>\n",
       "      <td>diesel</td>\n",
       "      <td>0</td>\n",
       "      <td>0</td>\n",
       "      <td>36900.0</td>\n",
       "    </tr>\n",
       "    <tr>\n",
       "      <th>196194</th>\n",
       "      <td>rolls-royce</td>\n",
       "      <td>park-ward</td>\n",
       "      <td>1933</td>\n",
       "      <td>999999.0</td>\n",
       "      <td>3800.0</td>\n",
       "      <td>100.0</td>\n",
       "      <td>manual</td>\n",
       "      <td>petrol</td>\n",
       "      <td>0</td>\n",
       "      <td>1</td>\n",
       "      <td>186000.0</td>\n",
       "    </tr>\n",
       "    <tr>\n",
       "      <th>202310</th>\n",
       "      <td>other</td>\n",
       "      <td>other</td>\n",
       "      <td>1983</td>\n",
       "      <td>999999.0</td>\n",
       "      <td>1995.0</td>\n",
       "      <td>102.0</td>\n",
       "      <td>manual</td>\n",
       "      <td>petrol</td>\n",
       "      <td>0</td>\n",
       "      <td>0</td>\n",
       "      <td>147000.0</td>\n",
       "    </tr>\n",
       "  </tbody>\n",
       "</table>\n",
       "<p>41 rows × 11 columns</p>\n",
       "</div>"
      ],
      "text/plain": [
       "                 make      model  vehicle_year      mileage  engine_capacity  \\\n",
       "2297            iveco     massif          2015     904300.0           3000.0   \n",
       "12600      volkswagen         lt          2001     590000.0           2461.0   \n",
       "20171         renault     master          2015     850000.0           2299.0   \n",
       "20231         renault     master          2014     850000.0           2299.0   \n",
       "25782           volvo        v70          2010     555000.0           2500.0   \n",
       "...               ...        ...           ...          ...              ...   \n",
       "178967           audi        100          1996     624000.0           1760.0   \n",
       "185579            bmw      other          1956  111111110.0           2000.0   \n",
       "189996  mercedes-benz   sprinter          2010     550000.0           2200.0   \n",
       "196194    rolls-royce  park-ward          1933     999999.0           3800.0   \n",
       "202310          other      other          1983     999999.0           1995.0   \n",
       "\n",
       "        engine_power    gearbox   fuel_type  damaged  is_business  \\\n",
       "2297           180.0     manual      diesel        0            0   \n",
       "12600          109.0     manual      diesel        0            0   \n",
       "20171          125.0     manual      diesel        0            1   \n",
       "20231          135.0     manual      diesel        0            1   \n",
       "25782          230.0  automatic  petrol-cng        0            1   \n",
       "...              ...        ...         ...      ...          ...   \n",
       "178967         100.0     manual  petrol-lpg        0            0   \n",
       "185579          55.0     manual      petrol        0            0   \n",
       "189996         130.0     manual      diesel        0            0   \n",
       "196194         100.0     manual      petrol        0            1   \n",
       "202310         102.0     manual      petrol        0            0   \n",
       "\n",
       "        target_price  \n",
       "2297         55000.0  \n",
       "12600         7999.0  \n",
       "20171        45510.0  \n",
       "20231        43050.0  \n",
       "25782        16800.0  \n",
       "...              ...  \n",
       "178967        1799.0  \n",
       "185579       35900.0  \n",
       "189996       36900.0  \n",
       "196194      186000.0  \n",
       "202310      147000.0  \n",
       "\n",
       "[41 rows x 11 columns]"
      ]
     },
     "execution_count": 37,
     "metadata": {},
     "output_type": "execute_result"
    }
   ],
   "source": [
    "raw_data[raw_data['mileage'] > 500000]"
   ]
  },
  {
   "cell_type": "markdown",
   "metadata": {},
   "source": [
    "When it comes to mileage, we caught most of the outliers; we'll modify manually the values for restored cars that clearly have placeholders and leave the rest be, since they probably won't make much impact anyways."
   ]
  },
  {
   "cell_type": "code",
   "execution_count": 38,
   "metadata": {},
   "outputs": [],
   "source": [
    "restored_index = [27653, 49387, 85589, 104644, 133200, 139024, 144247, 162738, 185579, 196194, 202310]\n",
    "\n",
    "for index in restored_index:\n",
    "    raw_data.iat[index, 3] = 0.0"
   ]
  },
  {
   "cell_type": "markdown",
   "metadata": {},
   "source": [
    "Time to move on to feature engineering."
   ]
  },
  {
   "cell_type": "markdown",
   "metadata": {},
   "source": [
    "## Feature engineering"
   ]
  },
  {
   "cell_type": "markdown",
   "metadata": {},
   "source": [
    "Now, since we know a little bit about our data already, we can group them into some new features. Unfortunately, we don't have much data regarding the cars' body type (which is a huge factor nowadays, as people like to but SUVs and Crossovers; Cabriolets always come at a premium), the brand's country of origin (which is once again, a little important due to buyers' subconscious opinions and stereotypes) and its' features. Creative feature engineering is  my favourite part of and end to end machine learning project but unfortunately, there's only so much we can do with 10 starting features. I won't be using any external data either. \n",
    "\n",
    "Additionally, we'll have to limit ourselves to what I would call, 'synthetic' feature engineering, which could include calculating:\n",
    "- feature crossing - essentially multiplication or sometimes addition of a couple of features that are related or can be thought of as a sub-group in our dataset which should help in tying up two or more variables to explore possible relationship between them; a good example would be longitude and latitude,\n",
    "- polynomials and squares - pretty much squaring values of a feature we know is important or one where we want to emphasize the differences between observed values to the model,\n",
    "- standard deviations - deviations from feature's mean which once again, should allow us to emphasize differences between observations (at least in theory); a good example of that could be a situation where correlations are low but respective data points/records are very much different.\n",
    "\n",
    "Having said all of that, we have to keep in mind, that each new feature calculated from another feature, \n",
    "a) takes some of the original feature's predictive power and b) might introduce unnecessary bias and overfitting into our model and we most likely won't use all of them at once."
   ]
  },
  {
   "cell_type": "markdown",
   "metadata": {},
   "source": [
    "Let's start with the more \"creative\" approach and we'll move on to the \"synthetic\" afterwards.\n",
    "\n",
    "First up are the brands, based on otomoto and each brand's repuration, we can come up with a couple of features, such as:\n",
    "- **is_premium** - brands considered premium by the consumers,\n",
    "- **is_mid_range** - brands that are not quite premium, but rather middle of the road options,\n",
    "- **is_popular** - most popular car brands according to otomoto (search bar on the website)\n",
    "- **is_top_brand** - brands that are much more expensive than the others and deliver luxury or sports cars people wish they had"
   ]
  },
  {
   "cell_type": "code",
   "execution_count": 39,
   "metadata": {},
   "outputs": [],
   "source": [
    "is_premium = ['bmw', 'mercedes-benz', 'audi', 'volvo', 'lexus', 'jaguar']\n",
    "is_mid_range = ['volkswagen', 'opel', 'ford', 'toyota', 'renault', 'skoda', 'peugeot', \n",
    "                'citroen', 'hyundai', 'kia', 'nissan', 'seat', 'mazda']\n",
    "is_popular = ['bmw', 'mercedes-benz', 'audi', 'volkswagen', 'opel', 'ford', 'toyota', \n",
    "              'renault', 'skoda'] # currently the most popular on otomoto\n",
    "is_top_brand = ['porsche', 'land-rover', 'ferrari', 'bentley', 'rolls-royce', 'maserati', \n",
    "                'mclaren', 'aston-martin', 'maybach']\n",
    "\n",
    "def insert_binary_features(data, index_list, col_name, col_position):\n",
    "    data.insert(col_position, col_name, 0)\n",
    "    for index in index_list:\n",
    "        data.iat[index, col_position] = 1"
   ]
  },
  {
   "cell_type": "code",
   "execution_count": 40,
   "metadata": {},
   "outputs": [],
   "source": [
    "is_premium_index = raw_data[raw_data['make'].isin(is_premium)].index\n",
    "is_mid_range_index = raw_data[raw_data['make'].isin(is_mid_range)].index\n",
    "is_popular_index = raw_data[raw_data['make'].isin(is_popular)].index\n",
    "is_top_brand_index = raw_data[raw_data['make'].isin(is_top_brand)].index\n",
    "\n",
    "insert_binary_features(raw_data, is_premium_index, 'is_premium', 10)\n",
    "insert_binary_features(raw_data, is_mid_range_index, 'is_mid_range', 10)\n",
    "insert_binary_features(raw_data, is_popular_index, 'is_popular', 10)\n",
    "insert_binary_features(raw_data, is_top_brand_index, 'is_top_brand', 10)"
   ]
  },
  {
   "cell_type": "markdown",
   "metadata": {},
   "source": [
    "Now, we'll introduce a couple of different features, namely:\n",
    "- **is_sports** - would be a car with an engine stronger than 370 HP, since most premium manufacturers have regular cars with strong engines up to around 350 HP; not including these is crucial for this feature.\n",
    "- **is_adequate** - cars with at least 210 HP but less than 370 HP; pretty big range, but most people these days opt for either bigger or better equiped cars with weaker engines. The \"magical\" value of just over 200 HP is considered by many manufacturers to look good on paper.\n",
    "- **is_economic** - cars with less than 210 HP are in general more \"wallet-friendly\" with small engine displacement.\n",
    "- **is_brand_new** - cars that are brand new or considered delivery mileage by the dealer, anything with less than, say 100 KM on the clock meets the criteria; this value is generally pretty flexible, but I believe, once again, 100 is more of a psychologically important number.\n",
    "- **is_classic** and **is_historic** - while polish law says that a car has to be over 30 years old to be registered as a historic vehicle, it's still a little too young in case of our data, after all, 1991 feels like not that long ago :) Anything from before 1985 we'll consider a classic car, and potentially, anything before 1965 a historic vehicle."
   ]
  },
  {
   "cell_type": "code",
   "execution_count": 41,
   "metadata": {},
   "outputs": [],
   "source": [
    "is_sports_index = raw_data[raw_data['engine_power'] >= 370].index\n",
    "is_adequate_index = raw_data[(raw_data['engine_power'] < 370) & (raw_data['engine_power'] >= 210)].index\n",
    "is_economic_index = raw_data[raw_data['engine_power'] < 210].index\n",
    "is_brand_new_index = raw_data[raw_data['mileage'] < 100].index\n",
    "is_classic_index = raw_data[raw_data['vehicle_year'] < 1985].index\n",
    "is_historic_index = raw_data[raw_data['vehicle_year'] < 1965].index\n",
    "\n",
    "insert_binary_features(raw_data, is_sports_index, 'is_sports', 10)\n",
    "insert_binary_features(raw_data, is_adequate_index, 'is_adequate', 10)\n",
    "insert_binary_features(raw_data, is_economic_index, 'is_economic', 10)\n",
    "insert_binary_features(raw_data, is_brand_new_index, 'is_brand_new', 10)\n",
    "insert_binary_features(raw_data, is_classic_index, 'is_classic', 10)\n",
    "insert_binary_features(raw_data, is_historic_index, 'is_historic', 10)"
   ]
  },
  {
   "cell_type": "markdown",
   "metadata": {},
   "source": [
    "Since taxes and other additional cost to the car is closely tied to its price, we'll introduce some features based off of that:\n",
    "- a mock insurance cost (of course minus the driver who plays a major role here) which once again is a little arbitrary, but we'll use our new features here as well: **is_top_brand * 5** + **is_premium * 3** + **is_mid_range * 2** + **is_sports * 5** + **is_adequate * 3** + **is_economic * 2** + **is_brand_new * 3** + **engine_capacity / 500**. While not a perfect score, I feel like it somewhat captures the idea and is worth a shot. Just in case that wasn't clear enough - the higher the score, the more costly the insurance."
   ]
  },
  {
   "cell_type": "code",
   "execution_count": 42,
   "metadata": {},
   "outputs": [],
   "source": [
    "raw_data['insurance_cost_score'] = ((raw_data['is_top_brand'] * 5) + (raw_data['is_premium'] * 3) + \n",
    "                                    (raw_data['is_mid_range'] * 2) + (raw_data['is_sports'] * 5) + \n",
    "                                    (raw_data['is_adequate'] * 3) + (raw_data['is_economic'] * 2) + \n",
    "                                    (raw_data['is_brand_new'] * 3) + (raw_data['engine_capacity'] / 500))"
   ]
  },
  {
   "cell_type": "markdown",
   "metadata": {},
   "source": [
    "- **excise_tax** - the amount of tax a buyer has to pay if the car isn't domestic, based off of it's fuel and engine capacity, [source](https://akcyzowy.pl/img/akcyza-infografika.webp). Although we'll simplify it a bit to accomodate lack of distinction between different hybrid types in our data."
   ]
  },
  {
   "cell_type": "code",
   "execution_count": 43,
   "metadata": {},
   "outputs": [],
   "source": [
    "# CASES FOR EXCISE TAX:\n",
    "# 1 electric ----> no tax\n",
    "# 2 not electric & not hybrid; 2000>= ----> 3.1%\n",
    "# 3 not electric & not hybrid 2000< ----> 18.6%\n",
    "# 4 hybrid & 2000>= ----> 1.55%\n",
    "# 5 hybrid & 2000< e_c <= 3500 ----> 9.3%\n",
    "# 6 hybrid & 3500< ----> 18.6%\n",
    "\n",
    "case_1_index = raw_data[raw_data['fuel_type'] == 'electric'].index\n",
    "case_2_index = raw_data[(raw_data['fuel_type'].isin(['electric', 'hybrid']) == False) & \\\n",
    "                        (raw_data['engine_capacity'] <= 2000)].index\n",
    "case_3_index = raw_data[(raw_data['fuel_type'].isin(['electric', 'hybrid']) == False) & \\\n",
    "                        (raw_data['engine_capacity'] > 2000)].index\n",
    "case_4_index = raw_data[(raw_data['fuel_type'] == 'hybrid') & (raw_data['engine_capacity'] <= 2000)].index\n",
    "case_5_index = raw_data[(raw_data['fuel_type'] == 'hybrid') & (raw_data['engine_capacity'] > 2000) & \n",
    "                        (raw_data['engine_capacity'] <= 3500)].index\n",
    "case_6_index = raw_data[(raw_data['fuel_type'] == 'hybrid') & (raw_data['engine_capacity'] > 3500)].index\n",
    "\n",
    "raw_data.insert(10, 'excise_tax', 0.0)   "
   ]
  },
  {
   "cell_type": "code",
   "execution_count": 44,
   "metadata": {},
   "outputs": [],
   "source": [
    "def create_excise_tax_feature(data, index_list, value_to_assign):\n",
    "    for index in index_list:\n",
    "        data.iat[index, 10] = value_to_assign"
   ]
  },
  {
   "cell_type": "code",
   "execution_count": 45,
   "metadata": {},
   "outputs": [],
   "source": [
    "create_excise_tax_feature(raw_data, case_2_index, 3.1)\n",
    "create_excise_tax_feature(raw_data, case_3_index, 18.6)\n",
    "create_excise_tax_feature(raw_data, case_4_index, 1.55)\n",
    "create_excise_tax_feature(raw_data, case_5_index, 9.3)\n",
    "create_excise_tax_feature(raw_data, case_6_index, 18.6)"
   ]
  },
  {
   "cell_type": "markdown",
   "metadata": {},
   "source": [
    "Now let's try \"synthetic\" feature engineering. Since we don't really have that many quantitative features but rather, most are binary at this point, we'll only try a few."
   ]
  },
  {
   "cell_type": "code",
   "execution_count": 46,
   "metadata": {},
   "outputs": [],
   "source": [
    "col_list = ['vehicle_year', 'mileage', 'engine_capacity', 'engine_power', \n",
    "            'excise_tax', 'insurance_cost_score']\n",
    "\n",
    "def add_squares(data, col_list):\n",
    "    for index, value in enumerate(col_list):\n",
    "        colname = f\"square_{value}\"\n",
    "        data[colname] = data[value] * data[value]\n",
    "        \n",
    "\n",
    "def add_deviations(data, col_list):\n",
    "    for index, value in enumerate(col_list):\n",
    "        colname = f\"deviation_{value}\"\n",
    "        data[colname] = abs((data[value])-(data[value].mean()))/(data[value].mean())"
   ]
  },
  {
   "cell_type": "markdown",
   "metadata": {},
   "source": [
    "Usually, these work pretty good and can give us that extra perfomance boost when there's a lot of hard to explain variance in the features. In this case however, I didn't feel the need to include any of these - they didn't improve performance by that much and the quantitative features aren't that plentiful and diverse anyways."
   ]
  },
  {
   "cell_type": "code",
   "execution_count": 47,
   "metadata": {},
   "outputs": [],
   "source": [
    "# add_squares(raw_data, col_list)\n",
    "# add_deviations(raw_data, col_list)"
   ]
  },
  {
   "cell_type": "markdown",
   "metadata": {},
   "source": [
    "The last step is to do some ordinal/one-hot encoding for our categorical variables. We'll do it only for `gearbox` and `fuel_type` columns yet, as having every brand as its own feature is a little overkill for now."
   ]
  },
  {
   "cell_type": "code",
   "execution_count": 48,
   "metadata": {},
   "outputs": [],
   "source": [
    "raw_data = pd.get_dummies(raw_data, columns=[\"gearbox\", \"fuel_type\"])"
   ]
  },
  {
   "cell_type": "markdown",
   "metadata": {},
   "source": [
    "Now, let's take a look at our dataset with all the features added or transformed."
   ]
  },
  {
   "cell_type": "code",
   "execution_count": 49,
   "metadata": {},
   "outputs": [
    {
     "data": {
      "text/html": [
       "<div>\n",
       "<style scoped>\n",
       "    .dataframe tbody tr th:only-of-type {\n",
       "        vertical-align: middle;\n",
       "    }\n",
       "\n",
       "    .dataframe tbody tr th {\n",
       "        vertical-align: top;\n",
       "    }\n",
       "\n",
       "    .dataframe thead th {\n",
       "        text-align: right;\n",
       "    }\n",
       "</style>\n",
       "<table border=\"1\" class=\"dataframe\">\n",
       "  <thead>\n",
       "    <tr style=\"text-align: right;\">\n",
       "      <th></th>\n",
       "      <th>make</th>\n",
       "      <th>model</th>\n",
       "      <th>vehicle_year</th>\n",
       "      <th>mileage</th>\n",
       "      <th>engine_capacity</th>\n",
       "      <th>engine_power</th>\n",
       "      <th>damaged</th>\n",
       "      <th>is_business</th>\n",
       "      <th>excise_tax</th>\n",
       "      <th>is_historic</th>\n",
       "      <th>is_classic</th>\n",
       "      <th>is_brand_new</th>\n",
       "      <th>is_economic</th>\n",
       "      <th>is_adequate</th>\n",
       "      <th>is_sports</th>\n",
       "      <th>is_top_brand</th>\n",
       "      <th>is_popular</th>\n",
       "      <th>is_mid_range</th>\n",
       "      <th>is_premium</th>\n",
       "      <th>target_price</th>\n",
       "      <th>insurance_cost_score</th>\n",
       "      <th>gearbox_automatic</th>\n",
       "      <th>gearbox_cvt</th>\n",
       "      <th>gearbox_dual-clutch</th>\n",
       "      <th>gearbox_manual</th>\n",
       "      <th>fuel_type_diesel</th>\n",
       "      <th>fuel_type_electric</th>\n",
       "      <th>fuel_type_etanol</th>\n",
       "      <th>fuel_type_hybrid</th>\n",
       "      <th>fuel_type_petrol</th>\n",
       "      <th>fuel_type_petrol-cng</th>\n",
       "      <th>fuel_type_petrol-lpg</th>\n",
       "    </tr>\n",
       "  </thead>\n",
       "  <tbody>\n",
       "    <tr>\n",
       "      <th>0</th>\n",
       "      <td>audi</td>\n",
       "      <td>a6</td>\n",
       "      <td>2013</td>\n",
       "      <td>153817.0</td>\n",
       "      <td>1984.0</td>\n",
       "      <td>180.0</td>\n",
       "      <td>0</td>\n",
       "      <td>0</td>\n",
       "      <td>3.1</td>\n",
       "      <td>0</td>\n",
       "      <td>0</td>\n",
       "      <td>0</td>\n",
       "      <td>1</td>\n",
       "      <td>0</td>\n",
       "      <td>0</td>\n",
       "      <td>0</td>\n",
       "      <td>1</td>\n",
       "      <td>0</td>\n",
       "      <td>1</td>\n",
       "      <td>69900.0</td>\n",
       "      <td>8.968</td>\n",
       "      <td>1</td>\n",
       "      <td>0</td>\n",
       "      <td>0</td>\n",
       "      <td>0</td>\n",
       "      <td>0</td>\n",
       "      <td>0</td>\n",
       "      <td>0</td>\n",
       "      <td>0</td>\n",
       "      <td>1</td>\n",
       "      <td>0</td>\n",
       "      <td>0</td>\n",
       "    </tr>\n",
       "    <tr>\n",
       "      <th>1</th>\n",
       "      <td>skoda</td>\n",
       "      <td>fabia</td>\n",
       "      <td>2004</td>\n",
       "      <td>115000.0</td>\n",
       "      <td>1390.0</td>\n",
       "      <td>75.0</td>\n",
       "      <td>0</td>\n",
       "      <td>1</td>\n",
       "      <td>3.1</td>\n",
       "      <td>0</td>\n",
       "      <td>0</td>\n",
       "      <td>0</td>\n",
       "      <td>1</td>\n",
       "      <td>0</td>\n",
       "      <td>0</td>\n",
       "      <td>0</td>\n",
       "      <td>1</td>\n",
       "      <td>1</td>\n",
       "      <td>0</td>\n",
       "      <td>8299.0</td>\n",
       "      <td>6.780</td>\n",
       "      <td>0</td>\n",
       "      <td>0</td>\n",
       "      <td>0</td>\n",
       "      <td>1</td>\n",
       "      <td>0</td>\n",
       "      <td>0</td>\n",
       "      <td>0</td>\n",
       "      <td>0</td>\n",
       "      <td>1</td>\n",
       "      <td>0</td>\n",
       "      <td>0</td>\n",
       "    </tr>\n",
       "    <tr>\n",
       "      <th>2</th>\n",
       "      <td>chevrolet</td>\n",
       "      <td>camaro</td>\n",
       "      <td>2012</td>\n",
       "      <td>299000.0</td>\n",
       "      <td>3600.0</td>\n",
       "      <td>323.0</td>\n",
       "      <td>0</td>\n",
       "      <td>1</td>\n",
       "      <td>18.6</td>\n",
       "      <td>0</td>\n",
       "      <td>0</td>\n",
       "      <td>0</td>\n",
       "      <td>0</td>\n",
       "      <td>1</td>\n",
       "      <td>0</td>\n",
       "      <td>0</td>\n",
       "      <td>0</td>\n",
       "      <td>0</td>\n",
       "      <td>0</td>\n",
       "      <td>54500.0</td>\n",
       "      <td>10.200</td>\n",
       "      <td>1</td>\n",
       "      <td>0</td>\n",
       "      <td>0</td>\n",
       "      <td>0</td>\n",
       "      <td>0</td>\n",
       "      <td>0</td>\n",
       "      <td>0</td>\n",
       "      <td>0</td>\n",
       "      <td>1</td>\n",
       "      <td>0</td>\n",
       "      <td>0</td>\n",
       "    </tr>\n",
       "    <tr>\n",
       "      <th>3</th>\n",
       "      <td>bmw</td>\n",
       "      <td>seria-3</td>\n",
       "      <td>2013</td>\n",
       "      <td>155000.0</td>\n",
       "      <td>1995.0</td>\n",
       "      <td>163.0</td>\n",
       "      <td>0</td>\n",
       "      <td>0</td>\n",
       "      <td>3.1</td>\n",
       "      <td>0</td>\n",
       "      <td>0</td>\n",
       "      <td>0</td>\n",
       "      <td>1</td>\n",
       "      <td>0</td>\n",
       "      <td>0</td>\n",
       "      <td>0</td>\n",
       "      <td>1</td>\n",
       "      <td>0</td>\n",
       "      <td>1</td>\n",
       "      <td>62000.0</td>\n",
       "      <td>8.990</td>\n",
       "      <td>1</td>\n",
       "      <td>0</td>\n",
       "      <td>0</td>\n",
       "      <td>0</td>\n",
       "      <td>1</td>\n",
       "      <td>0</td>\n",
       "      <td>0</td>\n",
       "      <td>0</td>\n",
       "      <td>0</td>\n",
       "      <td>0</td>\n",
       "      <td>0</td>\n",
       "    </tr>\n",
       "    <tr>\n",
       "      <th>4</th>\n",
       "      <td>renault</td>\n",
       "      <td>talisman</td>\n",
       "      <td>2017</td>\n",
       "      <td>167000.0</td>\n",
       "      <td>1600.0</td>\n",
       "      <td>130.0</td>\n",
       "      <td>0</td>\n",
       "      <td>1</td>\n",
       "      <td>3.1</td>\n",
       "      <td>0</td>\n",
       "      <td>0</td>\n",
       "      <td>0</td>\n",
       "      <td>1</td>\n",
       "      <td>0</td>\n",
       "      <td>0</td>\n",
       "      <td>0</td>\n",
       "      <td>1</td>\n",
       "      <td>1</td>\n",
       "      <td>0</td>\n",
       "      <td>52999.0</td>\n",
       "      <td>7.200</td>\n",
       "      <td>1</td>\n",
       "      <td>0</td>\n",
       "      <td>0</td>\n",
       "      <td>0</td>\n",
       "      <td>1</td>\n",
       "      <td>0</td>\n",
       "      <td>0</td>\n",
       "      <td>0</td>\n",
       "      <td>0</td>\n",
       "      <td>0</td>\n",
       "      <td>0</td>\n",
       "    </tr>\n",
       "  </tbody>\n",
       "</table>\n",
       "</div>"
      ],
      "text/plain": [
       "        make     model  vehicle_year   mileage  engine_capacity  engine_power  \\\n",
       "0       audi        a6          2013  153817.0           1984.0         180.0   \n",
       "1      skoda     fabia          2004  115000.0           1390.0          75.0   \n",
       "2  chevrolet    camaro          2012  299000.0           3600.0         323.0   \n",
       "3        bmw   seria-3          2013  155000.0           1995.0         163.0   \n",
       "4    renault  talisman          2017  167000.0           1600.0         130.0   \n",
       "\n",
       "   damaged  is_business  excise_tax  is_historic  is_classic  is_brand_new  \\\n",
       "0        0            0         3.1            0           0             0   \n",
       "1        0            1         3.1            0           0             0   \n",
       "2        0            1        18.6            0           0             0   \n",
       "3        0            0         3.1            0           0             0   \n",
       "4        0            1         3.1            0           0             0   \n",
       "\n",
       "   is_economic  is_adequate  is_sports  is_top_brand  is_popular  \\\n",
       "0            1            0          0             0           1   \n",
       "1            1            0          0             0           1   \n",
       "2            0            1          0             0           0   \n",
       "3            1            0          0             0           1   \n",
       "4            1            0          0             0           1   \n",
       "\n",
       "   is_mid_range  is_premium  target_price  insurance_cost_score  \\\n",
       "0             0           1       69900.0                 8.968   \n",
       "1             1           0        8299.0                 6.780   \n",
       "2             0           0       54500.0                10.200   \n",
       "3             0           1       62000.0                 8.990   \n",
       "4             1           0       52999.0                 7.200   \n",
       "\n",
       "   gearbox_automatic  gearbox_cvt  gearbox_dual-clutch  gearbox_manual  \\\n",
       "0                  1            0                    0               0   \n",
       "1                  0            0                    0               1   \n",
       "2                  1            0                    0               0   \n",
       "3                  1            0                    0               0   \n",
       "4                  1            0                    0               0   \n",
       "\n",
       "   fuel_type_diesel  fuel_type_electric  fuel_type_etanol  fuel_type_hybrid  \\\n",
       "0                 0                   0                 0                 0   \n",
       "1                 0                   0                 0                 0   \n",
       "2                 0                   0                 0                 0   \n",
       "3                 1                   0                 0                 0   \n",
       "4                 1                   0                 0                 0   \n",
       "\n",
       "   fuel_type_petrol  fuel_type_petrol-cng  fuel_type_petrol-lpg  \n",
       "0                 1                     0                     0  \n",
       "1                 1                     0                     0  \n",
       "2                 1                     0                     0  \n",
       "3                 0                     0                     0  \n",
       "4                 0                     0                     0  "
      ]
     },
     "execution_count": 49,
     "metadata": {},
     "output_type": "execute_result"
    }
   ],
   "source": [
    "raw_data.head(5)"
   ]
  },
  {
   "cell_type": "code",
   "execution_count": 50,
   "metadata": {},
   "outputs": [
    {
     "name": "stdout",
     "output_type": "stream",
     "text": [
      "The dataset consists of 206207 rows and 32 columns\n"
     ]
    }
   ],
   "source": [
    "print(f\"The dataset consists of {raw_data.shape[0]} rows and {raw_data.shape[1]} columns\")"
   ]
  },
  {
   "cell_type": "markdown",
   "metadata": {},
   "source": [
    "## Final preparation for use with ml algorithms"
   ]
  },
  {
   "cell_type": "markdown",
   "metadata": {},
   "source": [
    "Before applying some of the machine learning models, it is important to establish what are the distributions of some of our features. Some (but not all) algorithms require the distributions to be normal and values to be between 0 and 1 (normalization). \n",
    "\n",
    "First, let's establish our quantitative features."
   ]
  },
  {
   "cell_type": "code",
   "execution_count": 51,
   "metadata": {},
   "outputs": [],
   "source": [
    "quantitative = ['vehicle_year', 'mileage', 'engine_capacity', 'engine_power', \n",
    "                'excise_tax', 'insurance_cost_score']"
   ]
  },
  {
   "cell_type": "markdown",
   "metadata": {},
   "source": [
    "Next, we'll calculate D'Agostino K^2 test which takes into account both skewness *and* kurtosis."
   ]
  },
  {
   "cell_type": "code",
   "execution_count": 52,
   "metadata": {},
   "outputs": [
    {
     "data": {
      "text/plain": [
       "False    1.0\n",
       "dtype: float64"
      ]
     },
     "execution_count": 52,
     "metadata": {},
     "output_type": "execute_result"
    }
   ],
   "source": [
    "alpha = 0.05\n",
    "\n",
    "test_normality_dagostino = lambda x: stats.normaltest(x)[1] > alpha\n",
    "is_normal = pd.DataFrame(raw_data[quantitative])\n",
    "is_normal = is_normal.apply(test_normality_dagostino)\n",
    "is_normal.value_counts(normalize=True)"
   ]
  },
  {
   "cell_type": "markdown",
   "metadata": {},
   "source": [
    "Next, let's see in depth skewness of our features."
   ]
  },
  {
   "cell_type": "code",
   "execution_count": 53,
   "metadata": {},
   "outputs": [
    {
     "data": {
      "text/html": [
       "<div>\n",
       "<style scoped>\n",
       "    .dataframe tbody tr th:only-of-type {\n",
       "        vertical-align: middle;\n",
       "    }\n",
       "\n",
       "    .dataframe tbody tr th {\n",
       "        vertical-align: top;\n",
       "    }\n",
       "\n",
       "    .dataframe thead th {\n",
       "        text-align: right;\n",
       "    }\n",
       "</style>\n",
       "<table border=\"1\" class=\"dataframe\">\n",
       "  <thead>\n",
       "    <tr style=\"text-align: right;\">\n",
       "      <th></th>\n",
       "      <th>Skewness</th>\n",
       "    </tr>\n",
       "  </thead>\n",
       "  <tbody>\n",
       "    <tr>\n",
       "      <th>mileage</th>\n",
       "      <td>448.809071</td>\n",
       "    </tr>\n",
       "    <tr>\n",
       "      <th>engine_power</th>\n",
       "      <td>2.539791</td>\n",
       "    </tr>\n",
       "    <tr>\n",
       "      <th>engine_capacity</th>\n",
       "      <td>2.359018</td>\n",
       "    </tr>\n",
       "    <tr>\n",
       "      <th>excise_tax</th>\n",
       "      <td>1.956408</td>\n",
       "    </tr>\n",
       "    <tr>\n",
       "      <th>insurance_cost_score</th>\n",
       "      <td>1.682000</td>\n",
       "    </tr>\n",
       "    <tr>\n",
       "      <th>vehicle_year</th>\n",
       "      <td>-1.714754</td>\n",
       "    </tr>\n",
       "  </tbody>\n",
       "</table>\n",
       "</div>"
      ],
      "text/plain": [
       "                        Skewness\n",
       "mileage               448.809071\n",
       "engine_power            2.539791\n",
       "engine_capacity         2.359018\n",
       "excise_tax              1.956408\n",
       "insurance_cost_score    1.682000\n",
       "vehicle_year           -1.714754"
      ]
     },
     "execution_count": 53,
     "metadata": {},
     "output_type": "execute_result"
    }
   ],
   "source": [
    "skewed_feats = raw_data[quantitative].apply(lambda x: stats.skew(x.dropna())).sort_values(ascending=False)\n",
    "raw_data_skewed = pd.DataFrame({'Skewness' :skewed_feats})\n",
    "raw_data_skewed"
   ]
  },
  {
   "cell_type": "markdown",
   "metadata": {},
   "source": [
    "Most of the data is skewed, and while normally I'd transform the data with Box-Cox or log transformation, in this specific case, it doesn't make the model perform any better."
   ]
  },
  {
   "cell_type": "code",
   "execution_count": 54,
   "metadata": {},
   "outputs": [],
   "source": [
    "def transform_skewed_feats(data, skewness_df):\n",
    "    skewness_df = skewness_df[abs(skewness_df) > 0.5]\n",
    "    print(f\"There are {skewness_df.shape[0]} skewed numerical features to Box-Cox transform\")\n",
    "\n",
    "    skewed_features = skewness_df.index\n",
    "    lambda_bc = 0.15\n",
    "    for feat in skewed_features:\n",
    "        data[feat] = boxcox1p(data[feat], lambda_bc)"
   ]
  },
  {
   "cell_type": "code",
   "execution_count": 55,
   "metadata": {},
   "outputs": [],
   "source": [
    "# transform_skewed_feats(raw_data, raw_data_skewed)"
   ]
  },
  {
   "cell_type": "markdown",
   "metadata": {},
   "source": [
    "##  Feature selection"
   ]
  },
  {
   "cell_type": "markdown",
   "metadata": {},
   "source": [
    "Let's see features most and least correlated to our target. While not a definitive indicator, in conjunction with a couple more of methods, will give us a good idea what to expect and where lies the potential in our data."
   ]
  },
  {
   "cell_type": "code",
   "execution_count": 56,
   "metadata": {},
   "outputs": [
    {
     "data": {
      "text/html": [
       "<div>\n",
       "<style scoped>\n",
       "    .dataframe tbody tr th:only-of-type {\n",
       "        vertical-align: middle;\n",
       "    }\n",
       "\n",
       "    .dataframe tbody tr th {\n",
       "        vertical-align: top;\n",
       "    }\n",
       "\n",
       "    .dataframe thead th {\n",
       "        text-align: right;\n",
       "    }\n",
       "</style>\n",
       "<table border=\"1\" class=\"dataframe\">\n",
       "  <thead>\n",
       "    <tr style=\"text-align: right;\">\n",
       "      <th></th>\n",
       "      <th>target_price</th>\n",
       "    </tr>\n",
       "  </thead>\n",
       "  <tbody>\n",
       "    <tr>\n",
       "      <th>target_price</th>\n",
       "      <td>1.000000</td>\n",
       "    </tr>\n",
       "    <tr>\n",
       "      <th>vehicle_year</th>\n",
       "      <td>0.836408</td>\n",
       "    </tr>\n",
       "    <tr>\n",
       "      <th>engine_power</th>\n",
       "      <td>0.570788</td>\n",
       "    </tr>\n",
       "    <tr>\n",
       "      <th>gearbox_automatic</th>\n",
       "      <td>0.498850</td>\n",
       "    </tr>\n",
       "    <tr>\n",
       "      <th>insurance_cost_score</th>\n",
       "      <td>0.493761</td>\n",
       "    </tr>\n",
       "    <tr>\n",
       "      <th>is_brand_new</th>\n",
       "      <td>0.469076</td>\n",
       "    </tr>\n",
       "    <tr>\n",
       "      <th>is_adequate</th>\n",
       "      <td>0.293944</td>\n",
       "    </tr>\n",
       "    <tr>\n",
       "      <th>is_business</th>\n",
       "      <td>0.291909</td>\n",
       "    </tr>\n",
       "    <tr>\n",
       "      <th>is_premium</th>\n",
       "      <td>0.247666</td>\n",
       "    </tr>\n",
       "    <tr>\n",
       "      <th>is_sports</th>\n",
       "      <td>0.229647</td>\n",
       "    </tr>\n",
       "    <tr>\n",
       "      <th>engine_capacity</th>\n",
       "      <td>0.228729</td>\n",
       "    </tr>\n",
       "    <tr>\n",
       "      <th>fuel_type_hybrid</th>\n",
       "      <td>0.160805</td>\n",
       "    </tr>\n",
       "    <tr>\n",
       "      <th>gearbox_dual-clutch</th>\n",
       "      <td>0.138079</td>\n",
       "    </tr>\n",
       "    <tr>\n",
       "      <th>is_top_brand</th>\n",
       "      <td>0.136339</td>\n",
       "    </tr>\n",
       "    <tr>\n",
       "      <th>excise_tax</th>\n",
       "      <td>0.115651</td>\n",
       "    </tr>\n",
       "  </tbody>\n",
       "</table>\n",
       "</div>"
      ],
      "text/plain": [
       "                      target_price\n",
       "target_price              1.000000\n",
       "vehicle_year              0.836408\n",
       "engine_power              0.570788\n",
       "gearbox_automatic         0.498850\n",
       "insurance_cost_score      0.493761\n",
       "is_brand_new              0.469076\n",
       "is_adequate               0.293944\n",
       "is_business               0.291909\n",
       "is_premium                0.247666\n",
       "is_sports                 0.229647\n",
       "engine_capacity           0.228729\n",
       "fuel_type_hybrid          0.160805\n",
       "gearbox_dual-clutch       0.138079\n",
       "is_top_brand              0.136339\n",
       "excise_tax                0.115651"
      ]
     },
     "execution_count": 56,
     "metadata": {},
     "output_type": "execute_result"
    }
   ],
   "source": [
    "spe_corr = raw_data.corr('spearman')\n",
    "spe_corr['target_price'].sort_values(ascending=False).head(15).to_frame()"
   ]
  },
  {
   "cell_type": "code",
   "execution_count": 57,
   "metadata": {},
   "outputs": [
    {
     "data": {
      "text/html": [
       "<div>\n",
       "<style scoped>\n",
       "    .dataframe tbody tr th:only-of-type {\n",
       "        vertical-align: middle;\n",
       "    }\n",
       "\n",
       "    .dataframe tbody tr th {\n",
       "        vertical-align: top;\n",
       "    }\n",
       "\n",
       "    .dataframe thead th {\n",
       "        text-align: right;\n",
       "    }\n",
       "</style>\n",
       "<table border=\"1\" class=\"dataframe\">\n",
       "  <thead>\n",
       "    <tr style=\"text-align: right;\">\n",
       "      <th></th>\n",
       "      <th>target_price</th>\n",
       "    </tr>\n",
       "  </thead>\n",
       "  <tbody>\n",
       "    <tr>\n",
       "      <th>mileage</th>\n",
       "      <td>-0.687250</td>\n",
       "    </tr>\n",
       "    <tr>\n",
       "      <th>gearbox_manual</th>\n",
       "      <td>-0.541682</td>\n",
       "    </tr>\n",
       "    <tr>\n",
       "      <th>is_economic</th>\n",
       "      <td>-0.373834</td>\n",
       "    </tr>\n",
       "    <tr>\n",
       "      <th>is_mid_range</th>\n",
       "      <td>-0.205872</td>\n",
       "    </tr>\n",
       "    <tr>\n",
       "      <th>fuel_type_petrol-lpg</th>\n",
       "      <td>-0.133271</td>\n",
       "    </tr>\n",
       "    <tr>\n",
       "      <th>damaged</th>\n",
       "      <td>-0.099635</td>\n",
       "    </tr>\n",
       "    <tr>\n",
       "      <th>fuel_type_petrol-cng</th>\n",
       "      <td>-0.007909</td>\n",
       "    </tr>\n",
       "    <tr>\n",
       "      <th>fuel_type_diesel</th>\n",
       "      <td>-0.006396</td>\n",
       "    </tr>\n",
       "    <tr>\n",
       "      <th>fuel_type_petrol</th>\n",
       "      <td>-0.000525</td>\n",
       "    </tr>\n",
       "    <tr>\n",
       "      <th>fuel_type_etanol</th>\n",
       "      <td>-0.000232</td>\n",
       "    </tr>\n",
       "    <tr>\n",
       "      <th>is_classic</th>\n",
       "      <td>0.008679</td>\n",
       "    </tr>\n",
       "    <tr>\n",
       "      <th>is_historic</th>\n",
       "      <td>0.014940</td>\n",
       "    </tr>\n",
       "    <tr>\n",
       "      <th>is_popular</th>\n",
       "      <td>0.053261</td>\n",
       "    </tr>\n",
       "    <tr>\n",
       "      <th>fuel_type_electric</th>\n",
       "      <td>0.076440</td>\n",
       "    </tr>\n",
       "    <tr>\n",
       "      <th>gearbox_cvt</th>\n",
       "      <td>0.100186</td>\n",
       "    </tr>\n",
       "  </tbody>\n",
       "</table>\n",
       "</div>"
      ],
      "text/plain": [
       "                      target_price\n",
       "mileage                  -0.687250\n",
       "gearbox_manual           -0.541682\n",
       "is_economic              -0.373834\n",
       "is_mid_range             -0.205872\n",
       "fuel_type_petrol-lpg     -0.133271\n",
       "damaged                  -0.099635\n",
       "fuel_type_petrol-cng     -0.007909\n",
       "fuel_type_diesel         -0.006396\n",
       "fuel_type_petrol         -0.000525\n",
       "fuel_type_etanol         -0.000232\n",
       "is_classic                0.008679\n",
       "is_historic               0.014940\n",
       "is_popular                0.053261\n",
       "fuel_type_electric        0.076440\n",
       "gearbox_cvt               0.100186"
      ]
     },
     "execution_count": 57,
     "metadata": {},
     "output_type": "execute_result"
    }
   ],
   "source": [
    "spe_corr['target_price'].sort_values(ascending=True).head(15).to_frame()"
   ]
  },
  {
   "cell_type": "markdown",
   "metadata": {},
   "source": [
    "No real surprises here so far, price goes up with engine power, automatic gearbox, insurance cost, just to name a few. Negative correlations aren't a surprise either. Nice to see our newly engineered features in both cases, but we'll see how effective they are in the modelling process.\n",
    "\n",
    "Now, let's see the correlation with our target variable."
   ]
  },
  {
   "cell_type": "code",
   "execution_count": 58,
   "metadata": {},
   "outputs": [
    {
     "data": {
      "image/png": "[encoded data removed]",
      "text/plain": [
       "<Figure size 1368x72 with 2 Axes>"
      ]
     },
     "metadata": {
      "needs_background": "light"
     },
     "output_type": "display_data"
    }
   ],
   "source": [
    "f,ax = plt.subplots(figsize=(19,1))\n",
    "sns.heatmap(spe_corr.sort_values(by=['target_price'], ascending=False).head(1), cmap='RdYlGn', center=0, annot=True)\n",
    "plt.title(\"Correlation with target group\", weight='bold', fontsize=18)\n",
    "\n",
    "plt.show()"
   ]
  },
  {
   "cell_type": "markdown",
   "metadata": {},
   "source": [
    "Looks like most features are actually somewhat important, just a few have less than 10% correlation with target price. Now, for a good measure, we can also look at correlation across the whole data."
   ]
  },
  {
   "cell_type": "code",
   "execution_count": 59,
   "metadata": {},
   "outputs": [
    {
     "data": {
      "image/png": "[encoded data removed]",
      "text/plain": [
       "<Figure size 960x800 with 2 Axes>"
      ]
     },
     "metadata": {
      "needs_background": "light"
     },
     "output_type": "display_data"
    }
   ],
   "source": [
    "draw_correlogram(raw_data, corr_values=False)"
   ]
  },
  {
   "cell_type": "markdown",
   "metadata": {},
   "source": [
    "Unsurprisingly, there some clusters of higher correlation between new features and ones used to engineer them."
   ]
  },
  {
   "cell_type": "markdown",
   "metadata": {},
   "source": [
    "As a next step, let's run a default model over our data to see which features are the most important. While a pretty basic way of establishing feature importance, it's not the only thing we look at here, so we're more than fine. Once again, with a couple of other methods and visualizations, sholud give us a pretty good idea what to look for and concentrate on."
   ]
  },
  {
   "cell_type": "code",
   "execution_count": 60,
   "metadata": {},
   "outputs": [],
   "source": [
    "default_lgbm_model = LGBMRegressor(n_jobs=-1)"
   ]
  },
  {
   "cell_type": "code",
   "execution_count": 61,
   "metadata": {},
   "outputs": [],
   "source": [
    "y_raw_data = raw_data['target_price']\n",
    "x_raw_data = raw_data.drop(columns=['target_price', 'make', 'model'], inplace=False)"
   ]
  },
  {
   "cell_type": "code",
   "execution_count": 62,
   "metadata": {},
   "outputs": [],
   "source": [
    "fitted_default = default_lgbm_model.fit(x_raw_data, y_raw_data)"
   ]
  },
  {
   "cell_type": "code",
   "execution_count": 63,
   "metadata": {},
   "outputs": [
    {
     "data": {
      "text/html": [
       "<div>\n",
       "<style scoped>\n",
       "    .dataframe tbody tr th:only-of-type {\n",
       "        vertical-align: middle;\n",
       "    }\n",
       "\n",
       "    .dataframe tbody tr th {\n",
       "        vertical-align: top;\n",
       "    }\n",
       "\n",
       "    .dataframe thead th {\n",
       "        text-align: right;\n",
       "    }\n",
       "</style>\n",
       "<table border=\"1\" class=\"dataframe\">\n",
       "  <thead>\n",
       "    <tr style=\"text-align: right;\">\n",
       "      <th></th>\n",
       "      <th>feature</th>\n",
       "      <th>feature_importance</th>\n",
       "    </tr>\n",
       "  </thead>\n",
       "  <tbody>\n",
       "    <tr>\n",
       "      <th>2</th>\n",
       "      <td>engine_power</td>\n",
       "      <td>897</td>\n",
       "    </tr>\n",
       "    <tr>\n",
       "      <th>1</th>\n",
       "      <td>engine_capacity</td>\n",
       "      <td>464</td>\n",
       "    </tr>\n",
       "    <tr>\n",
       "      <th>15</th>\n",
       "      <td>insurance_cost_score</td>\n",
       "      <td>376</td>\n",
       "    </tr>\n",
       "    <tr>\n",
       "      <th>27</th>\n",
       "      <td>mileage</td>\n",
       "      <td>364</td>\n",
       "    </tr>\n",
       "    <tr>\n",
       "      <th>28</th>\n",
       "      <td>vehicle_year</td>\n",
       "      <td>354</td>\n",
       "    </tr>\n",
       "    <tr>\n",
       "      <th>0</th>\n",
       "      <td>damaged</td>\n",
       "      <td>108</td>\n",
       "    </tr>\n",
       "    <tr>\n",
       "      <th>26</th>\n",
       "      <td>is_top_brand</td>\n",
       "      <td>86</td>\n",
       "    </tr>\n",
       "    <tr>\n",
       "      <th>24</th>\n",
       "      <td>is_premium</td>\n",
       "      <td>48</td>\n",
       "    </tr>\n",
       "    <tr>\n",
       "      <th>18</th>\n",
       "      <td>is_business</td>\n",
       "      <td>47</td>\n",
       "    </tr>\n",
       "    <tr>\n",
       "      <th>8</th>\n",
       "      <td>fuel_type_petrol</td>\n",
       "      <td>46</td>\n",
       "    </tr>\n",
       "    <tr>\n",
       "      <th>22</th>\n",
       "      <td>is_mid_range</td>\n",
       "      <td>43</td>\n",
       "    </tr>\n",
       "    <tr>\n",
       "      <th>4</th>\n",
       "      <td>fuel_type_diesel</td>\n",
       "      <td>40</td>\n",
       "    </tr>\n",
       "    <tr>\n",
       "      <th>23</th>\n",
       "      <td>is_popular</td>\n",
       "      <td>25</td>\n",
       "    </tr>\n",
       "    <tr>\n",
       "      <th>14</th>\n",
       "      <td>gearbox_manual</td>\n",
       "      <td>20</td>\n",
       "    </tr>\n",
       "    <tr>\n",
       "      <th>3</th>\n",
       "      <td>excise_tax</td>\n",
       "      <td>20</td>\n",
       "    </tr>\n",
       "  </tbody>\n",
       "</table>\n",
       "</div>"
      ],
      "text/plain": [
       "                 feature  feature_importance\n",
       "2           engine_power                 897\n",
       "1        engine_capacity                 464\n",
       "15  insurance_cost_score                 376\n",
       "27               mileage                 364\n",
       "28          vehicle_year                 354\n",
       "0                damaged                 108\n",
       "26          is_top_brand                  86\n",
       "24            is_premium                  48\n",
       "18           is_business                  47\n",
       "8       fuel_type_petrol                  46\n",
       "22          is_mid_range                  43\n",
       "4       fuel_type_diesel                  40\n",
       "23            is_popular                  25\n",
       "14        gearbox_manual                  20\n",
       "3             excise_tax                  20"
      ]
     },
     "execution_count": 63,
     "metadata": {},
     "output_type": "execute_result"
    }
   ],
   "source": [
    "feat_importance = pd.DataFrame((sorted(zip(x_raw_data.columns, fitted_default.feature_importances_))), \n",
    "                               columns=['feature', 'feature_importance'])\n",
    "feat_importance.sort_values(by='feature_importance', ascending=False).head(15)"
   ]
  },
  {
   "cell_type": "markdown",
   "metadata": {},
   "source": [
    "Looks like the default model favors engine related features as well as mileage and vehicle year, which at a quick glance makes sense, since these are the real differentiating factors in the data we have, as mot many cars have big engines and lots of power nowadays."
   ]
  },
  {
   "cell_type": "code",
   "execution_count": 64,
   "metadata": {},
   "outputs": [],
   "source": [
    "# 'make', 'model',\n",
    "\n",
    "features = ['vehicle_year', 'mileage', 'engine_capacity', 'engine_power', 'damaged', \n",
    "            'is_business', 'excise_tax', 'is_historic', 'is_classic', 'is_brand_new', \n",
    "            'is_economic', 'is_adequate', 'is_sports', 'is_top_brand', 'is_popular', \n",
    "            'is_mid_range', 'is_premium', 'target_price', 'insurance_cost_score', \n",
    "            'gearbox_automatic', 'gearbox_cvt', 'gearbox_dual-clutch', 'gearbox_manual', \n",
    "            'fuel_type_diesel', 'fuel_type_electric', 'fuel_type_etanol', 'fuel_type_hybrid', \n",
    "            'fuel_type_petrol', 'fuel_type_petrol-cng', 'fuel_type_petrol-lpg']\n",
    "\n",
    "selected_data = raw_data[features]"
   ]
  },
  {
   "cell_type": "markdown",
   "metadata": {},
   "source": [
    "Now that we have our features, let's randomly shuffle the data and split it into train and test sets, separating our target variable (train_test_split already shuffles data for us). "
   ]
  },
  {
   "cell_type": "code",
   "execution_count": 65,
   "metadata": {},
   "outputs": [],
   "source": [
    "x_train, x_test, y_train, y_test = train_test_split(selected_data.drop(columns='target_price', inplace=False), \n",
    "                                                    selected_data['target_price'], test_size=0.2,\n",
    "                                                    random_state=RAND_SEED)"
   ]
  },
  {
   "cell_type": "markdown",
   "metadata": {},
   "source": [
    "While we could (and in many instances would) apply log transformation to the target variable, since as we saw earlier it transforms the data to be almost perfectly normally distributed, in the end it wasn't neccessary and performance improvements were negligible."
   ]
  },
  {
   "cell_type": "code",
   "execution_count": 66,
   "metadata": {},
   "outputs": [],
   "source": [
    "# y_train = np.log1p(y_train)\n",
    "# y_test = np.log1p(y_test)"
   ]
  },
  {
   "cell_type": "code",
   "execution_count": 67,
   "metadata": {},
   "outputs": [
    {
     "data": {
      "text/plain": [
       "((164965, 29), (41242, 29), (164965,), (41242,))"
      ]
     },
     "execution_count": 67,
     "metadata": {},
     "output_type": "execute_result"
    }
   ],
   "source": [
    "x_train.shape, x_test.shape, y_train.shape, y_test.shape"
   ]
  },
  {
   "cell_type": "markdown",
   "metadata": {},
   "source": [
    "## Training and choosing a model"
   ]
  },
  {
   "cell_type": "markdown",
   "metadata": {},
   "source": [
    "While there are many possible algorithms we could use (and I certainly did use them in the past), such as neural networks, model stacking/blending or even using neural networks as meta-learners, I settled on **ridge** and **lasso regression** which are simple models we could use as a baseline and **gradient boosting** which is most commonly used for its speed and performance. I chose **LightGBM** in particular, since it's more customizable than **XGBoost** and it builds and splits trees more efficiently (thanks in part to using depth-first search, instead of breadth-first search like XGBoost) than comparable algorithms. Ultimately, if I had more time, I would definitely use **CatBoost** in conjunction with categorical features, since more often than not it produces good results, but perhaps that's a task for another day.\n",
    "\n",
    "Keep in mind, my ultimate goal wasn't finding and tweaking any given model for the best performance possible, but rather exploring different scenarios and seeing how different decisions might impact the model as I could have easily spent another day or two just messing with hyperparamters to squeeze out every drip of performance.\n",
    "\n",
    "One final thing to note; while I would normally opt for cross-validation or given enough time parameter search (most likely bayes or random search), I doubt we would be seeing something unusual and trying a couple of models in a couple of folds can get long really quick - I'd rather spend my time trying other methods and techniques, not on waiting. "
   ]
  },
  {
   "cell_type": "code",
   "execution_count": 68,
   "metadata": {},
   "outputs": [],
   "source": [
    "ridge_model = Ridge(alpha=0.5, normalize=True)\n",
    "lasso_model = Lasso(alpha=0.2, normalize=True)\n",
    "\n",
    "lgbm_model = LGBMRegressor(n_jobs=-1)\n",
    "larger_lgbm_model = LGBMRegressor(objective='regression', learning_rate=0.1, max_depth=40, \n",
    "                                  num_leaves=200, n_estimators=400, silent=True)"
   ]
  },
  {
   "cell_type": "code",
   "execution_count": 69,
   "metadata": {},
   "outputs": [
    {
     "data": {
      "text/plain": [
       "LGBMRegressor(max_depth=40, n_estimators=400, num_leaves=200,\n",
       "              objective='regression')"
      ]
     },
     "execution_count": 69,
     "metadata": {},
     "output_type": "execute_result"
    }
   ],
   "source": [
    "ridge_model.fit(x_train, y_train)\n",
    "lasso_model.fit(x_train, y_train)\n",
    "\n",
    "lgbm_model.fit(x_train, y_train)\n",
    "larger_lgbm_model.fit(x_train, y_train)"
   ]
  },
  {
   "cell_type": "markdown",
   "metadata": {},
   "source": [
    "In order for the linear models to work better, we would have to both normalize the data and make sure it's normally distributed - but they aren't the focus anyways, so what we have here is fine."
   ]
  },
  {
   "cell_type": "markdown",
   "metadata": {},
   "source": [
    "## Model performance analysis"
   ]
  },
  {
   "cell_type": "markdown",
   "metadata": {},
   "source": [
    "Now, let's analyze our models' performance.\n",
    "\n",
    "To properly address the performance, and see the big picture, we could use a couple of metrics, rather than focusing on a single one. While in classification tasks, the metric choice is highly dependent on the task at hand and our focus, in the case of regression it's pretty straightforward. We'll look at: **MAE**, **RMSE** and **R2**.\n",
    "\n",
    "Both MAE and RMSE express average model prediction error in interpretable units and are indifferent to the direction of errors. However RMSE gives a relatively high weight to large errors. This means the RMSE should be more useful when large errors are particularly undesirable. \n",
    "\n",
    "Since the errors are squared before they are averaged, the RMSE gives a relatively high weight to large errors. This means the RMSE should be more useful when large errors are particularly undesirable.\n",
    "\n",
    "Later on, we'll also take a look at a couple of summary statistics regarding our errors and a few good and bad predictions - trying to understand why model performed the way it did and what's the root cause. Feature analysis is also coming up."
   ]
  },
  {
   "cell_type": "code",
   "execution_count": 70,
   "metadata": {},
   "outputs": [],
   "source": [
    "def evaluate_predictions(model):\n",
    "    model_predictions = model.predict(x_test)\n",
    "    print(f\"{model.__class__.__name__}\")\n",
    "    print('y_test standard deviation: %.3f' % (y_test.std()))\n",
    "    print('MAE: %.3f' % mean_absolute_error(y_test, model_predictions))\n",
    "    print('RMSE: %.3f' % math.sqrt(mean_squared_error(y_test, model_predictions)))\n",
    "    print('R2: %.3f' % r2_score(y_test, model_predictions))"
   ]
  },
  {
   "cell_type": "code",
   "execution_count": 76,
   "metadata": {},
   "outputs": [
    {
     "name": "stdout",
     "output_type": "stream",
     "text": [
      "Ridge\n",
      "y_test standard deviation: 87058.477\n",
      "MAE: 21658.638\n",
      "RMSE: 50643.260\n",
      "R2: 0.662\n"
     ]
    }
   ],
   "source": [
    "evaluate_predictions(ridge_model)"
   ]
  },
  {
   "cell_type": "code",
   "execution_count": 77,
   "metadata": {},
   "outputs": [
    {
     "name": "stdout",
     "output_type": "stream",
     "text": [
      "Lasso\n",
      "y_test standard deviation: 87058.477\n",
      "MAE: 21877.217\n",
      "RMSE: 46258.088\n",
      "R2: 0.718\n"
     ]
    }
   ],
   "source": [
    "evaluate_predictions(lasso_model)"
   ]
  },
  {
   "cell_type": "code",
   "execution_count": 71,
   "metadata": {},
   "outputs": [
    {
     "name": "stdout",
     "output_type": "stream",
     "text": [
      "LGBMRegressor\n",
      "y_test standard deviation: 87058.477\n",
      "MAE: 10619.427\n",
      "RMSE: 29640.900\n",
      "R2: 0.884\n"
     ]
    }
   ],
   "source": [
    "evaluate_predictions(lgbm_model)"
   ]
  },
  {
   "cell_type": "code",
   "execution_count": 72,
   "metadata": {},
   "outputs": [
    {
     "name": "stdout",
     "output_type": "stream",
     "text": [
      "LGBMRegressor\n",
      "y_test standard deviation: 87058.477\n",
      "MAE: 8964.093\n",
      "RMSE: 28207.828\n",
      "R2: 0.895\n"
     ]
    }
   ],
   "source": [
    "evaluate_predictions(larger_lgbm_model)"
   ]
  },
  {
   "cell_type": "markdown",
   "metadata": {},
   "source": [
    "While simple linear models with different regularisation terms weren't too good at predicting the prices, even the default LightGBM model was performing nicely and given a few hyperparameter tweaks improved it's performance to satisfactory levels. "
   ]
  },
  {
   "cell_type": "markdown",
   "metadata": {},
   "source": [
    "## In-depth look at predictions"
   ]
  },
  {
   "cell_type": "markdown",
   "metadata": {},
   "source": [
    "Let's take a closer look at the model's predictions to understand where we could improve and what was problematic for our model. First, we'll create a simple dataframe with both predicted and actual prices."
   ]
  },
  {
   "cell_type": "code",
   "execution_count": 73,
   "metadata": {},
   "outputs": [],
   "source": [
    "y_pred = larger_lgbm_model.predict(x_test)\n",
    "helper_dict = {'actual_price': y_test, 'predicted_price': y_pred, 'error':abs(y_test-y_pred), \n",
    "               'pct_difference': ((abs(y_test-y_pred) / y_test)*100)}\n",
    "summary_df = pd.DataFrame(data=helper_dict)"
   ]
  },
  {
   "cell_type": "code",
   "execution_count": 74,
   "metadata": {},
   "outputs": [
    {
     "data": {
      "text/html": [
       "<div>\n",
       "<style scoped>\n",
       "    .dataframe tbody tr th:only-of-type {\n",
       "        vertical-align: middle;\n",
       "    }\n",
       "\n",
       "    .dataframe tbody tr th {\n",
       "        vertical-align: top;\n",
       "    }\n",
       "\n",
       "    .dataframe thead th {\n",
       "        text-align: right;\n",
       "    }\n",
       "</style>\n",
       "<table border=\"1\" class=\"dataframe\">\n",
       "  <thead>\n",
       "    <tr style=\"text-align: right;\">\n",
       "      <th></th>\n",
       "      <th>actual_price</th>\n",
       "      <th>predicted_price</th>\n",
       "      <th>error</th>\n",
       "      <th>pct_difference</th>\n",
       "    </tr>\n",
       "  </thead>\n",
       "  <tbody>\n",
       "    <tr>\n",
       "      <th>41496</th>\n",
       "      <td>42000.0</td>\n",
       "      <td>47653.417767</td>\n",
       "      <td>5653.417767</td>\n",
       "      <td>13.460518</td>\n",
       "    </tr>\n",
       "    <tr>\n",
       "      <th>120710</th>\n",
       "      <td>16990.0</td>\n",
       "      <td>15509.108258</td>\n",
       "      <td>1480.891742</td>\n",
       "      <td>8.716255</td>\n",
       "    </tr>\n",
       "    <tr>\n",
       "      <th>38747</th>\n",
       "      <td>29900.0</td>\n",
       "      <td>36327.229995</td>\n",
       "      <td>6427.229995</td>\n",
       "      <td>21.495752</td>\n",
       "    </tr>\n",
       "    <tr>\n",
       "      <th>20756</th>\n",
       "      <td>26800.0</td>\n",
       "      <td>30270.652990</td>\n",
       "      <td>3470.652990</td>\n",
       "      <td>12.950198</td>\n",
       "    </tr>\n",
       "    <tr>\n",
       "      <th>94950</th>\n",
       "      <td>23500.0</td>\n",
       "      <td>21866.012315</td>\n",
       "      <td>1633.987685</td>\n",
       "      <td>6.953139</td>\n",
       "    </tr>\n",
       "  </tbody>\n",
       "</table>\n",
       "</div>"
      ],
      "text/plain": [
       "        actual_price  predicted_price        error  pct_difference\n",
       "41496        42000.0     47653.417767  5653.417767       13.460518\n",
       "120710       16990.0     15509.108258  1480.891742        8.716255\n",
       "38747        29900.0     36327.229995  6427.229995       21.495752\n",
       "20756        26800.0     30270.652990  3470.652990       12.950198\n",
       "94950        23500.0     21866.012315  1633.987685        6.953139"
      ]
     },
     "execution_count": 74,
     "metadata": {},
     "output_type": "execute_result"
    }
   ],
   "source": [
    "summary_df.head(5)"
   ]
  },
  {
   "cell_type": "code",
   "execution_count": 75,
   "metadata": {},
   "outputs": [
    {
     "data": {
      "text/plain": [
       "count    41242.000000\n",
       "mean        19.233165\n",
       "std         40.203210\n",
       "min          0.000968\n",
       "25%          5.379204\n",
       "50%         11.721874\n",
       "75%         21.989042\n",
       "max       4477.283178\n",
       "Name: pct_difference, dtype: float64"
      ]
     },
     "execution_count": 75,
     "metadata": {},
     "output_type": "execute_result"
    }
   ],
   "source": [
    "summary_df['pct_difference'].describe()"
   ]
  },
  {
   "cell_type": "markdown",
   "metadata": {},
   "source": [
    "A quick look at summary statistics tells us, that on average we're off with our predictions by 19.2%. With a glance at median we know that in case of half of our predictions, we were off by 11.7% or less, which I think is not that bad. Keep in mind, I didn't end up removing any outliers from the `target_price` column, and there are certainly lots of instances where the price is a placeholder, e.g. 12345, 99999, etc. These records could be easily filtered out before making predictions if need be. \n",
    "\n",
    "Let's take a look at our best and worst predictions to try and see why the model did what it did."
   ]
  },
  {
   "cell_type": "code",
   "execution_count": 76,
   "metadata": {},
   "outputs": [
    {
     "data": {
      "text/html": [
       "<div>\n",
       "<style scoped>\n",
       "    .dataframe tbody tr th:only-of-type {\n",
       "        vertical-align: middle;\n",
       "    }\n",
       "\n",
       "    .dataframe tbody tr th {\n",
       "        vertical-align: top;\n",
       "    }\n",
       "\n",
       "    .dataframe thead th {\n",
       "        text-align: right;\n",
       "    }\n",
       "</style>\n",
       "<table border=\"1\" class=\"dataframe\">\n",
       "  <thead>\n",
       "    <tr style=\"text-align: right;\">\n",
       "      <th></th>\n",
       "      <th>actual_price</th>\n",
       "      <th>predicted_price</th>\n",
       "      <th>error</th>\n",
       "      <th>pct_difference</th>\n",
       "    </tr>\n",
       "  </thead>\n",
       "  <tbody>\n",
       "    <tr>\n",
       "      <th>351</th>\n",
       "      <td>12900.0</td>\n",
       "      <td>12899.875184</td>\n",
       "      <td>0.124816</td>\n",
       "      <td>0.000968</td>\n",
       "    </tr>\n",
       "    <tr>\n",
       "      <th>51098</th>\n",
       "      <td>93900.0</td>\n",
       "      <td>93898.989210</td>\n",
       "      <td>1.010790</td>\n",
       "      <td>0.001076</td>\n",
       "    </tr>\n",
       "    <tr>\n",
       "      <th>193028</th>\n",
       "      <td>75900.0</td>\n",
       "      <td>75899.067314</td>\n",
       "      <td>0.932686</td>\n",
       "      <td>0.001229</td>\n",
       "    </tr>\n",
       "    <tr>\n",
       "      <th>49171</th>\n",
       "      <td>152000.0</td>\n",
       "      <td>152002.104403</td>\n",
       "      <td>2.104403</td>\n",
       "      <td>0.001384</td>\n",
       "    </tr>\n",
       "    <tr>\n",
       "      <th>68370</th>\n",
       "      <td>119800.0</td>\n",
       "      <td>119798.116775</td>\n",
       "      <td>1.883225</td>\n",
       "      <td>0.001572</td>\n",
       "    </tr>\n",
       "    <tr>\n",
       "      <th>61247</th>\n",
       "      <td>249000.0</td>\n",
       "      <td>249004.931411</td>\n",
       "      <td>4.931411</td>\n",
       "      <td>0.001980</td>\n",
       "    </tr>\n",
       "    <tr>\n",
       "      <th>144897</th>\n",
       "      <td>23900.0</td>\n",
       "      <td>23899.438146</td>\n",
       "      <td>0.561854</td>\n",
       "      <td>0.002351</td>\n",
       "    </tr>\n",
       "    <tr>\n",
       "      <th>82428</th>\n",
       "      <td>14900.0</td>\n",
       "      <td>14899.644456</td>\n",
       "      <td>0.355544</td>\n",
       "      <td>0.002386</td>\n",
       "    </tr>\n",
       "    <tr>\n",
       "      <th>52673</th>\n",
       "      <td>144900.0</td>\n",
       "      <td>144896.467980</td>\n",
       "      <td>3.532020</td>\n",
       "      <td>0.002438</td>\n",
       "    </tr>\n",
       "    <tr>\n",
       "      <th>3170</th>\n",
       "      <td>46300.0</td>\n",
       "      <td>46298.511824</td>\n",
       "      <td>1.488176</td>\n",
       "      <td>0.003214</td>\n",
       "    </tr>\n",
       "  </tbody>\n",
       "</table>\n",
       "</div>"
      ],
      "text/plain": [
       "        actual_price  predicted_price     error  pct_difference\n",
       "351          12900.0     12899.875184  0.124816        0.000968\n",
       "51098        93900.0     93898.989210  1.010790        0.001076\n",
       "193028       75900.0     75899.067314  0.932686        0.001229\n",
       "49171       152000.0    152002.104403  2.104403        0.001384\n",
       "68370       119800.0    119798.116775  1.883225        0.001572\n",
       "61247       249000.0    249004.931411  4.931411        0.001980\n",
       "144897       23900.0     23899.438146  0.561854        0.002351\n",
       "82428        14900.0     14899.644456  0.355544        0.002386\n",
       "52673       144900.0    144896.467980  3.532020        0.002438\n",
       "3170         46300.0     46298.511824  1.488176        0.003214"
      ]
     },
     "execution_count": 76,
     "metadata": {},
     "output_type": "execute_result"
    }
   ],
   "source": [
    "summary_df.sort_values(by=['pct_difference']).head(10)"
   ]
  },
  {
   "cell_type": "code",
   "execution_count": 77,
   "metadata": {},
   "outputs": [
    {
     "data": {
      "text/plain": [
       "make                 audi\n",
       "model                  a7\n",
       "vehicle_year         2014\n",
       "mileage            166000\n",
       "engine_capacity      3000\n",
       "engine_power          333\n",
       "Name: 51098, dtype: object"
      ]
     },
     "execution_count": 77,
     "metadata": {},
     "output_type": "execute_result"
    }
   ],
   "source": [
    "raw_data.iloc[51098, :6]"
   ]
  },
  {
   "cell_type": "markdown",
   "metadata": {},
   "source": [
    "It's pretty clear that our model performs best in case of cars that are somewhat in the middle of the pack."
   ]
  },
  {
   "cell_type": "code",
   "execution_count": 78,
   "metadata": {},
   "outputs": [
    {
     "data": {
      "text/html": [
       "<div>\n",
       "<style scoped>\n",
       "    .dataframe tbody tr th:only-of-type {\n",
       "        vertical-align: middle;\n",
       "    }\n",
       "\n",
       "    .dataframe tbody tr th {\n",
       "        vertical-align: top;\n",
       "    }\n",
       "\n",
       "    .dataframe thead th {\n",
       "        text-align: right;\n",
       "    }\n",
       "</style>\n",
       "<table border=\"1\" class=\"dataframe\">\n",
       "  <thead>\n",
       "    <tr style=\"text-align: right;\">\n",
       "      <th></th>\n",
       "      <th>actual_price</th>\n",
       "      <th>predicted_price</th>\n",
       "      <th>error</th>\n",
       "      <th>pct_difference</th>\n",
       "    </tr>\n",
       "  </thead>\n",
       "  <tbody>\n",
       "    <tr>\n",
       "      <th>205819</th>\n",
       "      <td>1234.0</td>\n",
       "      <td>56483.674419</td>\n",
       "      <td>55249.674419</td>\n",
       "      <td>4477.283178</td>\n",
       "    </tr>\n",
       "    <tr>\n",
       "      <th>55768</th>\n",
       "      <td>900.0</td>\n",
       "      <td>10418.562101</td>\n",
       "      <td>9518.562101</td>\n",
       "      <td>1057.618011</td>\n",
       "    </tr>\n",
       "    <tr>\n",
       "      <th>76711</th>\n",
       "      <td>14900.0</td>\n",
       "      <td>169016.885687</td>\n",
       "      <td>154116.885687</td>\n",
       "      <td>1034.341515</td>\n",
       "    </tr>\n",
       "    <tr>\n",
       "      <th>6107</th>\n",
       "      <td>3900.0</td>\n",
       "      <td>41690.271807</td>\n",
       "      <td>37790.271807</td>\n",
       "      <td>968.981328</td>\n",
       "    </tr>\n",
       "    <tr>\n",
       "      <th>184799</th>\n",
       "      <td>900.0</td>\n",
       "      <td>9268.632703</td>\n",
       "      <td>8368.632703</td>\n",
       "      <td>929.848078</td>\n",
       "    </tr>\n",
       "    <tr>\n",
       "      <th>67424</th>\n",
       "      <td>25000.0</td>\n",
       "      <td>252561.769564</td>\n",
       "      <td>227561.769564</td>\n",
       "      <td>910.247078</td>\n",
       "    </tr>\n",
       "    <tr>\n",
       "      <th>318</th>\n",
       "      <td>4900.0</td>\n",
       "      <td>47324.046331</td>\n",
       "      <td>42424.046331</td>\n",
       "      <td>865.796864</td>\n",
       "    </tr>\n",
       "    <tr>\n",
       "      <th>197455</th>\n",
       "      <td>3990.0</td>\n",
       "      <td>37836.024509</td>\n",
       "      <td>33846.024509</td>\n",
       "      <td>848.271291</td>\n",
       "    </tr>\n",
       "    <tr>\n",
       "      <th>87665</th>\n",
       "      <td>2000.0</td>\n",
       "      <td>17068.947145</td>\n",
       "      <td>15068.947145</td>\n",
       "      <td>753.447357</td>\n",
       "    </tr>\n",
       "    <tr>\n",
       "      <th>168855</th>\n",
       "      <td>1350.0</td>\n",
       "      <td>11279.554422</td>\n",
       "      <td>9929.554422</td>\n",
       "      <td>735.522550</td>\n",
       "    </tr>\n",
       "  </tbody>\n",
       "</table>\n",
       "</div>"
      ],
      "text/plain": [
       "        actual_price  predicted_price          error  pct_difference\n",
       "205819        1234.0     56483.674419   55249.674419     4477.283178\n",
       "55768          900.0     10418.562101    9518.562101     1057.618011\n",
       "76711        14900.0    169016.885687  154116.885687     1034.341515\n",
       "6107          3900.0     41690.271807   37790.271807      968.981328\n",
       "184799         900.0      9268.632703    8368.632703      929.848078\n",
       "67424        25000.0    252561.769564  227561.769564      910.247078\n",
       "318           4900.0     47324.046331   42424.046331      865.796864\n",
       "197455        3990.0     37836.024509   33846.024509      848.271291\n",
       "87665         2000.0     17068.947145   15068.947145      753.447357\n",
       "168855        1350.0     11279.554422    9929.554422      735.522550"
      ]
     },
     "execution_count": 78,
     "metadata": {},
     "output_type": "execute_result"
    }
   ],
   "source": [
    "summary_df.sort_values(by=['pct_difference'], ascending=False).head(10)"
   ]
  },
  {
   "cell_type": "code",
   "execution_count": 79,
   "metadata": {},
   "outputs": [
    {
     "data": {
      "text/plain": [
       "make               lamborghini\n",
       "model                 gallardo\n",
       "vehicle_year              2005\n",
       "mileage                  60000\n",
       "engine_capacity           4961\n",
       "engine_power               500\n",
       "Name: 67424, dtype: object"
      ]
     },
     "execution_count": 79,
     "metadata": {},
     "output_type": "execute_result"
    }
   ],
   "source": [
    "raw_data.iloc[67424, :6]"
   ]
  },
  {
   "cell_type": "markdown",
   "metadata": {},
   "source": [
    "In this instance, the person creating the posting clearly made a mistake regarding the price."
   ]
  },
  {
   "cell_type": "code",
   "execution_count": 80,
   "metadata": {},
   "outputs": [
    {
     "data": {
      "text/plain": [
       "make               land-rover\n",
       "model                defender\n",
       "vehicle_year             1971\n",
       "mileage                 50000\n",
       "engine_capacity          2000\n",
       "engine_power              111\n",
       "Name: 76711, dtype: object"
      ]
     },
     "execution_count": 80,
     "metadata": {},
     "output_type": "execute_result"
    }
   ],
   "source": [
    "raw_data.iloc[76711, :6]"
   ]
  },
  {
   "cell_type": "markdown",
   "metadata": {},
   "source": [
    "Here on the other hand, our model falsely assumed that the land-rover was a luxury vehicle, when in fact defenders from the 70s are rugged SUVs that became pretty affordable. Their prices are rising though, according to the enthusiast market."
   ]
  },
  {
   "cell_type": "markdown",
   "metadata": {},
   "source": [
    "## Feature analysis"
   ]
  },
  {
   "cell_type": "code",
   "execution_count": 81,
   "metadata": {},
   "outputs": [
    {
     "data": {
      "text/html": [
       "<div>\n",
       "<style scoped>\n",
       "    .dataframe tbody tr th:only-of-type {\n",
       "        vertical-align: middle;\n",
       "    }\n",
       "\n",
       "    .dataframe tbody tr th {\n",
       "        vertical-align: top;\n",
       "    }\n",
       "\n",
       "    .dataframe thead th {\n",
       "        text-align: right;\n",
       "    }\n",
       "</style>\n",
       "<table border=\"1\" class=\"dataframe\">\n",
       "  <thead>\n",
       "    <tr style=\"text-align: right;\">\n",
       "      <th></th>\n",
       "      <th>feature</th>\n",
       "      <th>feature_importance</th>\n",
       "    </tr>\n",
       "  </thead>\n",
       "  <tbody>\n",
       "    <tr>\n",
       "      <th>27</th>\n",
       "      <td>mileage</td>\n",
       "      <td>21671</td>\n",
       "    </tr>\n",
       "    <tr>\n",
       "      <th>2</th>\n",
       "      <td>engine_power</td>\n",
       "      <td>17525</td>\n",
       "    </tr>\n",
       "    <tr>\n",
       "      <th>28</th>\n",
       "      <td>vehicle_year</td>\n",
       "      <td>11057</td>\n",
       "    </tr>\n",
       "    <tr>\n",
       "      <th>1</th>\n",
       "      <td>engine_capacity</td>\n",
       "      <td>10929</td>\n",
       "    </tr>\n",
       "    <tr>\n",
       "      <th>15</th>\n",
       "      <td>insurance_cost_score</td>\n",
       "      <td>9291</td>\n",
       "    </tr>\n",
       "    <tr>\n",
       "      <th>18</th>\n",
       "      <td>is_business</td>\n",
       "      <td>1612</td>\n",
       "    </tr>\n",
       "    <tr>\n",
       "      <th>23</th>\n",
       "      <td>is_popular</td>\n",
       "      <td>1139</td>\n",
       "    </tr>\n",
       "    <tr>\n",
       "      <th>11</th>\n",
       "      <td>gearbox_automatic</td>\n",
       "      <td>919</td>\n",
       "    </tr>\n",
       "    <tr>\n",
       "      <th>4</th>\n",
       "      <td>fuel_type_diesel</td>\n",
       "      <td>776</td>\n",
       "    </tr>\n",
       "    <tr>\n",
       "      <th>8</th>\n",
       "      <td>fuel_type_petrol</td>\n",
       "      <td>719</td>\n",
       "    </tr>\n",
       "    <tr>\n",
       "      <th>0</th>\n",
       "      <td>damaged</td>\n",
       "      <td>702</td>\n",
       "    </tr>\n",
       "    <tr>\n",
       "      <th>24</th>\n",
       "      <td>is_premium</td>\n",
       "      <td>698</td>\n",
       "    </tr>\n",
       "    <tr>\n",
       "      <th>22</th>\n",
       "      <td>is_mid_range</td>\n",
       "      <td>612</td>\n",
       "    </tr>\n",
       "    <tr>\n",
       "      <th>26</th>\n",
       "      <td>is_top_brand</td>\n",
       "      <td>429</td>\n",
       "    </tr>\n",
       "    <tr>\n",
       "      <th>14</th>\n",
       "      <td>gearbox_manual</td>\n",
       "      <td>379</td>\n",
       "    </tr>\n",
       "  </tbody>\n",
       "</table>\n",
       "</div>"
      ],
      "text/plain": [
       "                 feature  feature_importance\n",
       "27               mileage               21671\n",
       "2           engine_power               17525\n",
       "28          vehicle_year               11057\n",
       "1        engine_capacity               10929\n",
       "15  insurance_cost_score                9291\n",
       "18           is_business                1612\n",
       "23            is_popular                1139\n",
       "11     gearbox_automatic                 919\n",
       "4       fuel_type_diesel                 776\n",
       "8       fuel_type_petrol                 719\n",
       "0                damaged                 702\n",
       "24            is_premium                 698\n",
       "22          is_mid_range                 612\n",
       "26          is_top_brand                 429\n",
       "14        gearbox_manual                 379"
      ]
     },
     "execution_count": 81,
     "metadata": {},
     "output_type": "execute_result"
    }
   ],
   "source": [
    "fitted_default = larger_lgbm_model.fit(x_train, y_train)\n",
    "feat_importance = pd.DataFrame((sorted(zip(x_train.columns, fitted_default.feature_importances_))), columns=['feature', 'feature_importance'])\n",
    "feat_importance.sort_values(by='feature_importance', ascending=False).head(15)"
   ]
  },
  {
   "cell_type": "markdown",
   "metadata": {},
   "source": [
    "Looks like according to LightGBM's feature importance, by far the most important were mileage and engine_power, confirming our suspicions regarding strong engines being real difference makers, since not many of them sell these days. In addition, vehicle_year and our mock insurance score also had a noticeably bigger impact than other features."
   ]
  },
  {
   "cell_type": "markdown",
   "metadata": {},
   "source": [
    "Next, we'll use Shapley values and game theory to establish better quality feature importance. While in general, a nice way of explaining a model, we have to keep in mind that it's not infallible, and an experienced data scientist would definitely be able to manipulate its results, as presented in this paper: [Fooling LIME and SHAP: Adversarial Attacks on Post hoc Explanation Methods](https://arxiv.org/abs/1911.02508). Furhermore, we won't be using LIME, as the number of features is not that high."
   ]
  },
  {
   "cell_type": "markdown",
   "metadata": {},
   "source": [
    "Unfortunately due to a  bug which I wasn't able to identify for sure (most likely too wide range for the target variable), the SHAP values are unnaturally large. However for the purpose of this analysis (and in general most of the time), we don't interpret them on their own but relatively to other features and to know how much impact a given feature and its values have, so we're fine."
   ]
  },
  {
   "cell_type": "code",
   "execution_count": 83,
   "metadata": {},
   "outputs": [
    {
     "name": "stderr",
     "output_type": "stream",
     "text": [
      " 99%|===================| 494/500 [00:19<00:00]        "
     ]
    }
   ],
   "source": [
    "explainer = shap.TreeExplainer(fitted_default, x_train)\n",
    "shap_values = explainer(shap.sample(x_test, 500))"
   ]
  },
  {
   "cell_type": "code",
   "execution_count": 84,
   "metadata": {},
   "outputs": [
    {
     "data": {
      "image/png": "[encoded data removed]",
      "text/plain": [
       "<Figure size 576x648 with 1 Axes>"
      ]
     },
     "metadata": {},
     "output_type": "display_data"
    }
   ],
   "source": [
    "shap.plots.bar(shap_values, max_display=15)"
   ]
  },
  {
   "cell_type": "markdown",
   "metadata": {},
   "source": [
    "Looks like in this case, there should be no surprises, since some of these features also were considered to have the most influence (just to a different degree). By far the most important to the analyzed sample was vehicle_year feature. Engine power, mileage and insurance_cost_score also stand out as being far more influential than others."
   ]
  },
  {
   "cell_type": "code",
   "execution_count": 85,
   "metadata": {},
   "outputs": [
    {
     "data": {
      "image/png": "[encoded data removed]",
      "text/plain": [
       "<Figure size 576x468 with 3 Axes>"
      ]
     },
     "metadata": {},
     "output_type": "display_data"
    }
   ],
   "source": [
    "shap.plots.waterfall(shap_values[1])"
   ]
  },
  {
   "cell_type": "markdown",
   "metadata": {},
   "source": [
    "In this example we observe feature values of a given instance. Here, the year 2005 really drags the value of the vehicle down, same with the mileage (237K) which is really high. We know that the mock insurance cost helps the value of the car, and that's in part thanks to it being a premium make and having a strong engine. "
   ]
  },
  {
   "cell_type": "code",
   "execution_count": 86,
   "metadata": {},
   "outputs": [
    {
     "data": {
      "image/png": "[encoded data removed]",
      "text/plain": [
       "<Figure size 576x540 with 2 Axes>"
      ]
     },
     "metadata": {
      "needs_background": "light"
     },
     "output_type": "display_data"
    }
   ],
   "source": [
    "shap.plots.beeswarm(shap_values, max_display=15)"
   ]
  },
  {
   "cell_type": "markdown",
   "metadata": {},
   "source": [
    "Now, looking at the plot above, we can observe some interesting but somewhat expected results. A few key takeaways:\n",
    "- the higher the value of vehicle_year (the newer the car), the better,\n",
    "- the more powerful the engine, the bigger impact it has on the price; weaker engines make the price go lower,\n",
    "- as the mileage decreases, the price increases,\n",
    "- high mock insurance cost generally indicates high vehicle price, which makes sense, since it takes into account a few other features such as engine, make, how new the car is, etc.\n",
    "- damaged cars (binary feature), generally speaking, take a big hit on the price. "
   ]
  },
  {
   "cell_type": "markdown",
   "metadata": {},
   "source": [
    "## Summary and final words"
   ]
  },
  {
   "cell_type": "markdown",
   "metadata": {},
   "source": [
    "### Conclusion"
   ]
  },
  {
   "cell_type": "markdown",
   "metadata": {},
   "source": [
    "In the end, the **final model performed well**, even with outliers in place, achieved good performance at the same time explaining a lot of variance in the data. For the sake of keeping the model lightweight, we didn't even include make and model as features, but rather used them to produce new features capturing the relationships in data. \n",
    "\n",
    "All the null values were imputed and numerous corrections to the wrongly filled data were made; during the process of data preprocessing, everything was done at the cost of **no data loss**. \n",
    "\n",
    "While I didn't test the impact of imputation and correction of wrong values on model's performance, I did in fact check how much difference our new features made. When our features weren't present in the model, the MAE rose by around 700 (**7.8%**), RMSE rose by over 920 (**3.2%**). On average, we were off with our predictions by **1.2%** more. I'm confident that if the imputation and corrections weren't applied, the model's performance would have deteriorated further.\n",
    "\n",
    "We didn't remove any outliers, making use of all the data we could and most of the null and outlier values were imputed by either 0s, mean or most frequent values within a specific subgroup. Furthermore, outlier instances in target_price class **can be filtered out easily**; one option is to look for placeholder prices, e.g. 123456, 99999, etc.; second option is to traverse the data and calculate 2 or 3 times the median average price for a given model, engine and year combination and get rid of instances not within the range.\n",
    "\n"
   ]
  },
  {
   "cell_type": "markdown",
   "metadata": {},
   "source": [
    "### Sales strategy"
   ]
  },
  {
   "cell_type": "markdown",
   "metadata": {},
   "source": [
    "Given the nature of the problem, the team should focus on selling the biggest movers at the cost of low margins to build stronger relationships with suppliers and manufacturers. Furthermore, I'm highly confident in the model's performance when it comes to mid-range and premium cars. Given enough time and continuous sales improvement, the group could eventually expand the offer by selling luxury and sports cars, where higher margins are possible. "
   ]
  },
  {
   "cell_type": "markdown",
   "metadata": {},
   "source": [
    "### What would I do next?"
   ]
  },
  {
   "cell_type": "markdown",
   "metadata": {},
   "source": [
    "While many improvements could certainly be made here, probably the most impactful would be either additional features, such as vehicle's equipment, it's body type and drivetrain information. Furthermore, having an actual description of the ad could help identify standout features by using even very simple NLP algorithms.\n",
    "\n",
    "Given my previous experience with Otodom data, I'm pretty sure that using NLP would yield great results, e.g. utilising n-grams to find additional equipment information.  \n",
    "\n",
    "Filtering out outliers could also be beneficial to the model's performance and as mentioned before, wouldn't take too much effort as similar techniques were incorporated in value correction throughout the notebook.\n",
    "\n",
    "Knowing when the date of ad posting and how long it took till sale could be indicative of what the **true** value is; being online too short could mean the price was too low, vice versa. Additionally, there's definitely some seasonality involved and other market conditions that could influence prices and buyers' behavior. One such example could be end of year, when a lot of company cars are being bought due to nearing tax fillings.\n",
    "\n",
    "Additionally, there's a lot of functionality that could be added to users as well (although some might be a little overkill and should stay a trade secret), e.g.:\n",
    "- an indication on what the buyers and people browsing the site pay attention to the most; what terms are being searched, additional equipment that's popular - to help the seller,\n",
    "- something similar to above, but for the buyer, where pop-ups or blog-post like tutorials could help first-time buyers choose what's right for them,\n",
    "- actual car insurance calculator in partnership with other companies (the same way loans currently work with ComperiaRaty)\n",
    "- some kind of listing hotness score, where number of views, clicks in general, private messages sent, reveal phone number buttons clicked\n",
    "\n",
    "\n",
    "\n"
   ]
  },
  {
   "cell_type": "markdown",
   "metadata": {},
   "source": [
    "That's it, hope You made it to the end and liked what You saw, because I certainly had a good time working on it :) "
   ]
  }
 ],
 "metadata": {
  "kernelspec": {
   "display_name": "Python 3",
   "language": "python",
   "name": "python3"
  },
  "language_info": {
   "codemirror_mode": {
    "name": "ipython",
    "version": 3
   },
   "file_extension": ".py",
   "mimetype": "text/x-python",
   "name": "python",
   "nbconvert_exporter": "python",
   "pygments_lexer": "ipython3",
   "version": "3.8.6"
  }
 },
 "nbformat": 4,
 "nbformat_minor": 4
}
